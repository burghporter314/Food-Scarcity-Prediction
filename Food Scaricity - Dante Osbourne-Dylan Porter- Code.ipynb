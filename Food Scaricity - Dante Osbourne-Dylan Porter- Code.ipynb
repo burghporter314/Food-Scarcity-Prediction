{
 "cells": [
  {
   "cell_type": "markdown",
   "metadata": {},
   "source": [
    "## Food Scarcity"
   ]
  },
  {
   "cell_type": "code",
   "execution_count": 1,
   "metadata": {},
   "outputs": [],
   "source": [
    "# Edit all the Mardown cells below with the appropriate information \n",
    "# Run all cells, containing your code \n",
    "# Save this Jupyter with the outputs of your executed cells\n",
    "#\n",
    "# PS: Save again the notebook with this outcome.\n",
    "# PSPS: Don't forget to include the dataset in your submission"
   ]
  },
  {
   "cell_type": "markdown",
   "metadata": {},
   "source": [
    "**Team:**\n",
    "* Dante Osbourne\n",
    "* Dylan Porter\n",
    "\n",
    "**Course:** DAAN 897– Deep Learning (Spring, 2024)"
   ]
  },
  {
   "cell_type": "markdown",
   "metadata": {},
   "source": [
    "### Problem Statement\n",
    "* This project  .....\n",
    "    \n",
    "    \n",
    "    \n",
    "* **Keywords:** House price prediction, real estate ,..., \n",
    "\t"
   ]
  },
  {
   "cell_type": "markdown",
   "metadata": {},
   "source": [
    "### Data Collection\n",
    "* Source(url):\n",
    "* Short Description : The data set of Boston Housing from Harrison and Rubinfeld (1978)\n",
    "\n",
    "* Keywords: House price, room, zip code"
   ]
  },
  {
   "cell_type": "markdown",
   "metadata": {},
   "source": [
    "### Required packages\n",
    "\n",
    "* Keras\n",
    "* Pandas\n",
    "* Numpy\n",
    "* matplotlib\n",
    "* scikit-learn\n",
    "*kerastuner\n"
   ]
  },
  {
   "cell_type": "code",
   "execution_count": 8,
   "metadata": {},
   "outputs": [],
   "source": [
    "import pandas as pd\n",
    "import numpy as np\n",
    "import matplotlib.pyplot as plt\n",
    "from keras.layers import Dense, Dropout, InputLayer\n",
    "from keras.models import Sequential\n",
    "from keras.optimizers import Adam\n",
    "from keras.regularizers import l1, l2\n",
    "from keras.callbacks import EarlyStopping\n",
    "from scipy import stats\n",
    "from sklearn.model_selection import train_test_split\n",
    "from sklearn.preprocessing import StandardScaler\n",
    "#from kerastuner import RandomSearch"
   ]
  },
  {
   "cell_type": "markdown",
   "metadata": {},
   "source": [
    "### Data Preprocessing\n",
    "\n",
    "* Enumerate and present the main steps you preformed in the data preprocessing\n",
    "* Add your code and interpret the outcome of main steps/functions\n"
   ]
  },
  {
   "cell_type": "code",
   "execution_count": 9,
   "metadata": {},
   "outputs": [],
   "source": [
    "# Read in both datasets\n",
    "climate_change_df = pd.read_csv('./data/climate_change_data.csv')\n",
    "yield_df = pd.read_csv('./data/yield_df.csv')"
   ]
  },
  {
   "cell_type": "code",
   "execution_count": 10,
   "metadata": {},
   "outputs": [],
   "source": [
    "# Convert the Date in the climate_change_data.csv to just the year for formatting and eventual data merging\n",
    "climate_change_df['Date'] = pd.to_datetime(climate_change_df['Date'], errors='coerce')\n",
    "climate_change_df['Year'] = climate_change_df['Date'].dt.year"
   ]
  },
  {
   "cell_type": "code",
   "execution_count": 11,
   "metadata": {},
   "outputs": [
    {
     "data": {
      "text/html": [
       "<div>\n",
       "<style scoped>\n",
       "    .dataframe tbody tr th:only-of-type {\n",
       "        vertical-align: middle;\n",
       "    }\n",
       "\n",
       "    .dataframe tbody tr th {\n",
       "        vertical-align: top;\n",
       "    }\n",
       "\n",
       "    .dataframe thead th {\n",
       "        text-align: right;\n",
       "    }\n",
       "</style>\n",
       "<table border=\"1\" class=\"dataframe\">\n",
       "  <thead>\n",
       "    <tr style=\"text-align: right;\">\n",
       "      <th></th>\n",
       "      <th>Date</th>\n",
       "      <th>Location</th>\n",
       "      <th>Country</th>\n",
       "      <th>Temperature</th>\n",
       "      <th>CO2 Emissions</th>\n",
       "      <th>Sea Level Rise</th>\n",
       "      <th>Precipitation</th>\n",
       "      <th>Humidity</th>\n",
       "      <th>Wind Speed</th>\n",
       "      <th>Year</th>\n",
       "    </tr>\n",
       "  </thead>\n",
       "  <tbody>\n",
       "    <tr>\n",
       "      <th>0</th>\n",
       "      <td>2000-01-01 00:00:00.000000000</td>\n",
       "      <td>New Williamtown</td>\n",
       "      <td>Latvia</td>\n",
       "      <td>10.688986</td>\n",
       "      <td>403.118903</td>\n",
       "      <td>0.717506</td>\n",
       "      <td>13.835237</td>\n",
       "      <td>23.631256</td>\n",
       "      <td>18.492026</td>\n",
       "      <td>2000</td>\n",
       "    </tr>\n",
       "    <tr>\n",
       "      <th>1</th>\n",
       "      <td>2000-01-01 20:09:43.258325832</td>\n",
       "      <td>North Rachel</td>\n",
       "      <td>South Africa</td>\n",
       "      <td>13.814430</td>\n",
       "      <td>396.663499</td>\n",
       "      <td>1.205715</td>\n",
       "      <td>40.974084</td>\n",
       "      <td>43.982946</td>\n",
       "      <td>34.249300</td>\n",
       "      <td>2000</td>\n",
       "    </tr>\n",
       "    <tr>\n",
       "      <th>2</th>\n",
       "      <td>2000-01-02 16:19:26.516651665</td>\n",
       "      <td>West Williamland</td>\n",
       "      <td>French Guiana</td>\n",
       "      <td>27.323718</td>\n",
       "      <td>451.553155</td>\n",
       "      <td>-0.160783</td>\n",
       "      <td>42.697931</td>\n",
       "      <td>96.652600</td>\n",
       "      <td>34.124261</td>\n",
       "      <td>2000</td>\n",
       "    </tr>\n",
       "    <tr>\n",
       "      <th>3</th>\n",
       "      <td>2000-01-03 12:29:09.774977497</td>\n",
       "      <td>South David</td>\n",
       "      <td>Vietnam</td>\n",
       "      <td>12.309581</td>\n",
       "      <td>422.404983</td>\n",
       "      <td>-0.475931</td>\n",
       "      <td>5.193341</td>\n",
       "      <td>47.467938</td>\n",
       "      <td>8.554563</td>\n",
       "      <td>2000</td>\n",
       "    </tr>\n",
       "    <tr>\n",
       "      <th>4</th>\n",
       "      <td>2000-01-04 08:38:53.033303330</td>\n",
       "      <td>New Scottburgh</td>\n",
       "      <td>Moldova</td>\n",
       "      <td>13.210885</td>\n",
       "      <td>410.472999</td>\n",
       "      <td>1.135757</td>\n",
       "      <td>78.695280</td>\n",
       "      <td>61.789672</td>\n",
       "      <td>8.001164</td>\n",
       "      <td>2000</td>\n",
       "    </tr>\n",
       "  </tbody>\n",
       "</table>\n",
       "</div>"
      ],
      "text/plain": [
       "                           Date          Location        Country  Temperature  \\\n",
       "0 2000-01-01 00:00:00.000000000   New Williamtown         Latvia    10.688986   \n",
       "1 2000-01-01 20:09:43.258325832      North Rachel   South Africa    13.814430   \n",
       "2 2000-01-02 16:19:26.516651665  West Williamland  French Guiana    27.323718   \n",
       "3 2000-01-03 12:29:09.774977497       South David        Vietnam    12.309581   \n",
       "4 2000-01-04 08:38:53.033303330    New Scottburgh        Moldova    13.210885   \n",
       "\n",
       "   CO2 Emissions  Sea Level Rise  Precipitation   Humidity  Wind Speed  Year  \n",
       "0     403.118903        0.717506      13.835237  23.631256   18.492026  2000  \n",
       "1     396.663499        1.205715      40.974084  43.982946   34.249300  2000  \n",
       "2     451.553155       -0.160783      42.697931  96.652600   34.124261  2000  \n",
       "3     422.404983       -0.475931       5.193341  47.467938    8.554563  2000  \n",
       "4     410.472999        1.135757      78.695280  61.789672    8.001164  2000  "
      ]
     },
     "execution_count": 11,
     "metadata": {},
     "output_type": "execute_result"
    }
   ],
   "source": [
    "#basic exploration of the climate change dataset\n",
    "climate_change_df.head()"
   ]
  },
  {
   "cell_type": "code",
   "execution_count": 12,
   "metadata": {},
   "outputs": [
    {
     "data": {
      "text/html": [
       "<div>\n",
       "<style scoped>\n",
       "    .dataframe tbody tr th:only-of-type {\n",
       "        vertical-align: middle;\n",
       "    }\n",
       "\n",
       "    .dataframe tbody tr th {\n",
       "        vertical-align: top;\n",
       "    }\n",
       "\n",
       "    .dataframe thead th {\n",
       "        text-align: right;\n",
       "    }\n",
       "</style>\n",
       "<table border=\"1\" class=\"dataframe\">\n",
       "  <thead>\n",
       "    <tr style=\"text-align: right;\">\n",
       "      <th></th>\n",
       "      <th>Temperature</th>\n",
       "      <th>CO2 Emissions</th>\n",
       "      <th>Sea Level Rise</th>\n",
       "      <th>Precipitation</th>\n",
       "      <th>Humidity</th>\n",
       "      <th>Wind Speed</th>\n",
       "      <th>Year</th>\n",
       "    </tr>\n",
       "  </thead>\n",
       "  <tbody>\n",
       "    <tr>\n",
       "      <th>count</th>\n",
       "      <td>10000.000000</td>\n",
       "      <td>10000.000000</td>\n",
       "      <td>10000.000000</td>\n",
       "      <td>10000.000000</td>\n",
       "      <td>10000.000000</td>\n",
       "      <td>10000.000000</td>\n",
       "      <td>10000.000000</td>\n",
       "    </tr>\n",
       "    <tr>\n",
       "      <th>mean</th>\n",
       "      <td>14.936034</td>\n",
       "      <td>400.220469</td>\n",
       "      <td>-0.003152</td>\n",
       "      <td>49.881208</td>\n",
       "      <td>49.771302</td>\n",
       "      <td>25.082066</td>\n",
       "      <td>2010.997900</td>\n",
       "    </tr>\n",
       "    <tr>\n",
       "      <th>std</th>\n",
       "      <td>5.030616</td>\n",
       "      <td>49.696933</td>\n",
       "      <td>0.991349</td>\n",
       "      <td>28.862417</td>\n",
       "      <td>28.929320</td>\n",
       "      <td>14.466648</td>\n",
       "      <td>6.633634</td>\n",
       "    </tr>\n",
       "    <tr>\n",
       "      <th>min</th>\n",
       "      <td>-3.803589</td>\n",
       "      <td>182.131220</td>\n",
       "      <td>-4.092155</td>\n",
       "      <td>0.010143</td>\n",
       "      <td>0.018998</td>\n",
       "      <td>0.001732</td>\n",
       "      <td>2000.000000</td>\n",
       "    </tr>\n",
       "    <tr>\n",
       "      <th>25%</th>\n",
       "      <td>11.577991</td>\n",
       "      <td>367.109330</td>\n",
       "      <td>-0.673809</td>\n",
       "      <td>24.497516</td>\n",
       "      <td>24.713250</td>\n",
       "      <td>12.539733</td>\n",
       "      <td>2005.000000</td>\n",
       "    </tr>\n",
       "    <tr>\n",
       "      <th>50%</th>\n",
       "      <td>14.981136</td>\n",
       "      <td>400.821324</td>\n",
       "      <td>0.002332</td>\n",
       "      <td>49.818967</td>\n",
       "      <td>49.678412</td>\n",
       "      <td>24.910787</td>\n",
       "      <td>2011.000000</td>\n",
       "    </tr>\n",
       "    <tr>\n",
       "      <th>75%</th>\n",
       "      <td>18.305826</td>\n",
       "      <td>433.307905</td>\n",
       "      <td>0.675723</td>\n",
       "      <td>74.524991</td>\n",
       "      <td>75.206390</td>\n",
       "      <td>37.670260</td>\n",
       "      <td>2017.000000</td>\n",
       "    </tr>\n",
       "    <tr>\n",
       "      <th>max</th>\n",
       "      <td>33.976956</td>\n",
       "      <td>582.899701</td>\n",
       "      <td>4.116559</td>\n",
       "      <td>99.991900</td>\n",
       "      <td>99.959665</td>\n",
       "      <td>49.997664</td>\n",
       "      <td>2022.000000</td>\n",
       "    </tr>\n",
       "  </tbody>\n",
       "</table>\n",
       "</div>"
      ],
      "text/plain": [
       "        Temperature  CO2 Emissions  Sea Level Rise  Precipitation  \\\n",
       "count  10000.000000   10000.000000    10000.000000   10000.000000   \n",
       "mean      14.936034     400.220469       -0.003152      49.881208   \n",
       "std        5.030616      49.696933        0.991349      28.862417   \n",
       "min       -3.803589     182.131220       -4.092155       0.010143   \n",
       "25%       11.577991     367.109330       -0.673809      24.497516   \n",
       "50%       14.981136     400.821324        0.002332      49.818967   \n",
       "75%       18.305826     433.307905        0.675723      74.524991   \n",
       "max       33.976956     582.899701        4.116559      99.991900   \n",
       "\n",
       "           Humidity    Wind Speed          Year  \n",
       "count  10000.000000  10000.000000  10000.000000  \n",
       "mean      49.771302     25.082066   2010.997900  \n",
       "std       28.929320     14.466648      6.633634  \n",
       "min        0.018998      0.001732   2000.000000  \n",
       "25%       24.713250     12.539733   2005.000000  \n",
       "50%       49.678412     24.910787   2011.000000  \n",
       "75%       75.206390     37.670260   2017.000000  \n",
       "max       99.959665     49.997664   2022.000000  "
      ]
     },
     "execution_count": 12,
     "metadata": {},
     "output_type": "execute_result"
    }
   ],
   "source": [
    "#descriptive statistics of the climate change dataset\n",
    "climate_change_df.describe()"
   ]
  },
  {
   "cell_type": "code",
   "execution_count": 13,
   "metadata": {},
   "outputs": [
    {
     "data": {
      "text/plain": [
       "Date              0\n",
       "Location          0\n",
       "Country           0\n",
       "Temperature       0\n",
       "CO2 Emissions     0\n",
       "Sea Level Rise    0\n",
       "Precipitation     0\n",
       "Humidity          0\n",
       "Wind Speed        0\n",
       "Year              0\n",
       "dtype: int64"
      ]
     },
     "execution_count": 13,
     "metadata": {},
     "output_type": "execute_result"
    }
   ],
   "source": [
    "#empty check\n",
    "climate_change_df.isnull().sum(axis = 0)"
   ]
  },
  {
   "cell_type": "code",
   "execution_count": 14,
   "metadata": {},
   "outputs": [
    {
     "name": "stdout",
     "output_type": "stream",
     "text": [
      "Date has 10000 unique values\n",
      "Location has 7764 unique values\n",
      "Country has 243 unique values\n",
      "Temperature has 10000 unique values\n",
      "CO2 Emissions has 10000 unique values\n",
      "Sea Level Rise has 10000 unique values\n",
      "Precipitation has 10000 unique values\n",
      "Humidity has 10000 unique values\n",
      "Wind Speed has 10000 unique values\n",
      "Year has 23 unique values\n"
     ]
    }
   ],
   "source": [
    "i = 0\n",
    "for col in climate_change_df.columns:\n",
    "    print(col,'has',len(np.unique(climate_change_df.iloc[:,i])),'unique values')\n",
    "    i+=1"
   ]
  },
  {
   "cell_type": "code",
   "execution_count": 15,
   "metadata": {},
   "outputs": [
    {
     "data": {
      "text/plain": [
       "<AxesSubplot:>"
      ]
     },
     "execution_count": 15,
     "metadata": {},
     "output_type": "execute_result"
    },
    {
     "data": {
      "image/png": "[encoded data removed]",
      "text/plain": [
       "<Figure size 432x288 with 1 Axes>"
      ]
     },
     "metadata": {
      "needs_background": "light"
     },
     "output_type": "display_data"
    }
   ],
   "source": [
    "#Temperature histogram generation\n",
    "climate_change_df.iloc[:,3].hist(legend=True,bins=50)"
   ]
  },
  {
   "cell_type": "code",
   "execution_count": 16,
   "metadata": {},
   "outputs": [
    {
     "data": {
      "text/plain": [
       "<AxesSubplot:>"
      ]
     },
     "execution_count": 16,
     "metadata": {},
     "output_type": "execute_result"
    },
    {
     "data": {
      "image/png": "[encoded data removed]",
      "text/plain": [
       "<Figure size 432x288 with 1 Axes>"
      ]
     },
     "metadata": {
      "needs_background": "light"
     },
     "output_type": "display_data"
    }
   ],
   "source": [
    "#CO2 histogram generation\n",
    "climate_change_df.iloc[:,4].hist(legend=True,bins=50)"
   ]
  },
  {
   "cell_type": "code",
   "execution_count": 17,
   "metadata": {},
   "outputs": [
    {
     "data": {
      "text/plain": [
       "<AxesSubplot:>"
      ]
     },
     "execution_count": 17,
     "metadata": {},
     "output_type": "execute_result"
    },
    {
     "data": {
      "image/png": "[encoded data removed]",
      "text/plain": [
       "<Figure size 432x288 with 1 Axes>"
      ]
     },
     "metadata": {
      "needs_background": "light"
     },
     "output_type": "display_data"
    }
   ],
   "source": [
    "#Sea Level Rise histogram generation\n",
    "climate_change_df.iloc[:,5].hist(legend=True,bins=50)"
   ]
  },
  {
   "cell_type": "code",
   "execution_count": 18,
   "metadata": {},
   "outputs": [
    {
     "data": {
      "text/plain": [
       "<AxesSubplot:>"
      ]
     },
     "execution_count": 18,
     "metadata": {},
     "output_type": "execute_result"
    },
    {
     "data": {
      "image/png": "[encoded data removed]",
      "text/plain": [
       "<Figure size 432x288 with 1 Axes>"
      ]
     },
     "metadata": {
      "needs_background": "light"
     },
     "output_type": "display_data"
    }
   ],
   "source": [
    "#Precipitation histogram generation\n",
    "climate_change_df.iloc[:,6].hist(legend=True,bins=50)"
   ]
  },
  {
   "cell_type": "code",
   "execution_count": 19,
   "metadata": {},
   "outputs": [
    {
     "data": {
      "text/plain": [
       "<AxesSubplot:>"
      ]
     },
     "execution_count": 19,
     "metadata": {},
     "output_type": "execute_result"
    },
    {
     "data": {
      "image/png": "[encoded data removed]",
      "text/plain": [
       "<Figure size 432x288 with 1 Axes>"
      ]
     },
     "metadata": {
      "needs_background": "light"
     },
     "output_type": "display_data"
    }
   ],
   "source": [
    "#Humidity histogram generation\n",
    "climate_change_df.iloc[:,7].hist(legend=True,bins=50)"
   ]
  },
  {
   "cell_type": "code",
   "execution_count": 47,
   "metadata": {},
   "outputs": [
    {
     "data": {
      "text/plain": [
       "<AxesSubplot:>"
      ]
     },
     "execution_count": 47,
     "metadata": {},
     "output_type": "execute_result"
    },
    {
     "data": {
      "image/png": "[encoded data removed]",
      "text/plain": [
       "<Figure size 432x288 with 1 Axes>"
      ]
     },
     "metadata": {
      "needs_background": "light"
     },
     "output_type": "display_data"
    }
   ],
   "source": [
    "#Wind Speed histogram generation\n",
    "climate_change_df.iloc[:,8].hist(legend=True,bins=50)"
   ]
  },
  {
   "cell_type": "code",
   "execution_count": 48,
   "metadata": {},
   "outputs": [
    {
     "data": {
      "text/plain": [
       "([<matplotlib.axis.YTick at 0x187b36d0400>,\n",
       "  <matplotlib.axis.YTick at 0x187b36c8c40>,\n",
       "  <matplotlib.axis.YTick at 0x187b36c3160>,\n",
       "  <matplotlib.axis.YTick at 0x187b375e0a0>,\n",
       "  <matplotlib.axis.YTick at 0x187b375e7f0>,\n",
       "  <matplotlib.axis.YTick at 0x187b375ebb0>],\n",
       " [Text(0, 0, 'CO2 Emissions'),\n",
       "  Text(0, 1, 'Sea Level Rise'),\n",
       "  Text(0, 2, 'Precipitation'),\n",
       "  Text(0, 3, 'Humidity'),\n",
       "  Text(0, 4, 'Wind Speed'),\n",
       "  Text(0, 5, 'Year')])"
      ]
     },
     "execution_count": 48,
     "metadata": {},
     "output_type": "execute_result"
    },
    {
     "data": {
      "image/png": "[encoded data removed]",
      "text/plain": [
       "<Figure size 504x504 with 2 Axes>"
      ]
     },
     "metadata": {
      "needs_background": "light"
     },
     "output_type": "display_data"
    }
   ],
   "source": [
    "plt.figure(figsize=(7,7))\n",
    "plt.matshow(climate_change_df.iloc[:,1:].corr(), fignum=1)\n",
    "plt.title('Correlation Matrix', position = (0.5, 1.1))\n",
    "plt.colorbar()\n",
    "plt.xticks(range(6), list(climate_change_df.iloc[:,3:].columns), rotation = 90)\n",
    "plt.yticks(range(6), list(climate_change_df.iloc[:,3:].columns))"
   ]
  },
  {
   "cell_type": "code",
   "execution_count": 21,
   "metadata": {},
   "outputs": [
    {
     "data": {
      "text/html": [
       "<div>\n",
       "<style scoped>\n",
       "    .dataframe tbody tr th:only-of-type {\n",
       "        vertical-align: middle;\n",
       "    }\n",
       "\n",
       "    .dataframe tbody tr th {\n",
       "        vertical-align: top;\n",
       "    }\n",
       "\n",
       "    .dataframe thead th {\n",
       "        text-align: right;\n",
       "    }\n",
       "</style>\n",
       "<table border=\"1\" class=\"dataframe\">\n",
       "  <thead>\n",
       "    <tr style=\"text-align: right;\">\n",
       "      <th></th>\n",
       "      <th>Unnamed: 0</th>\n",
       "      <th>Area</th>\n",
       "      <th>Item</th>\n",
       "      <th>Year</th>\n",
       "      <th>hg/ha_yield</th>\n",
       "      <th>average_rain_fall_mm_per_year</th>\n",
       "      <th>pesticides_tonnes</th>\n",
       "      <th>avg_temp</th>\n",
       "    </tr>\n",
       "  </thead>\n",
       "  <tbody>\n",
       "    <tr>\n",
       "      <th>0</th>\n",
       "      <td>0</td>\n",
       "      <td>Albania</td>\n",
       "      <td>Maize</td>\n",
       "      <td>1990</td>\n",
       "      <td>36613</td>\n",
       "      <td>1485.0</td>\n",
       "      <td>121.0</td>\n",
       "      <td>16.37</td>\n",
       "    </tr>\n",
       "    <tr>\n",
       "      <th>1</th>\n",
       "      <td>1</td>\n",
       "      <td>Albania</td>\n",
       "      <td>Potatoes</td>\n",
       "      <td>1990</td>\n",
       "      <td>66667</td>\n",
       "      <td>1485.0</td>\n",
       "      <td>121.0</td>\n",
       "      <td>16.37</td>\n",
       "    </tr>\n",
       "    <tr>\n",
       "      <th>2</th>\n",
       "      <td>2</td>\n",
       "      <td>Albania</td>\n",
       "      <td>Rice, paddy</td>\n",
       "      <td>1990</td>\n",
       "      <td>23333</td>\n",
       "      <td>1485.0</td>\n",
       "      <td>121.0</td>\n",
       "      <td>16.37</td>\n",
       "    </tr>\n",
       "    <tr>\n",
       "      <th>3</th>\n",
       "      <td>3</td>\n",
       "      <td>Albania</td>\n",
       "      <td>Sorghum</td>\n",
       "      <td>1990</td>\n",
       "      <td>12500</td>\n",
       "      <td>1485.0</td>\n",
       "      <td>121.0</td>\n",
       "      <td>16.37</td>\n",
       "    </tr>\n",
       "    <tr>\n",
       "      <th>4</th>\n",
       "      <td>4</td>\n",
       "      <td>Albania</td>\n",
       "      <td>Soybeans</td>\n",
       "      <td>1990</td>\n",
       "      <td>7000</td>\n",
       "      <td>1485.0</td>\n",
       "      <td>121.0</td>\n",
       "      <td>16.37</td>\n",
       "    </tr>\n",
       "  </tbody>\n",
       "</table>\n",
       "</div>"
      ],
      "text/plain": [
       "   Unnamed: 0     Area         Item  Year  hg/ha_yield  \\\n",
       "0           0  Albania        Maize  1990        36613   \n",
       "1           1  Albania     Potatoes  1990        66667   \n",
       "2           2  Albania  Rice, paddy  1990        23333   \n",
       "3           3  Albania      Sorghum  1990        12500   \n",
       "4           4  Albania     Soybeans  1990         7000   \n",
       "\n",
       "   average_rain_fall_mm_per_year  pesticides_tonnes  avg_temp  \n",
       "0                         1485.0              121.0     16.37  \n",
       "1                         1485.0              121.0     16.37  \n",
       "2                         1485.0              121.0     16.37  \n",
       "3                         1485.0              121.0     16.37  \n",
       "4                         1485.0              121.0     16.37  "
      ]
     },
     "execution_count": 21,
     "metadata": {},
     "output_type": "execute_result"
    }
   ],
   "source": [
    "#basic exploration of the yield data frame\n",
    "yield_df.head()"
   ]
  },
  {
   "cell_type": "code",
   "execution_count": 22,
   "metadata": {},
   "outputs": [
    {
     "data": {
      "text/plain": [
       "Unnamed: 0                       0\n",
       "Area                             0\n",
       "Item                             0\n",
       "Year                             0\n",
       "hg/ha_yield                      0\n",
       "average_rain_fall_mm_per_year    0\n",
       "pesticides_tonnes                0\n",
       "avg_temp                         0\n",
       "dtype: int64"
      ]
     },
     "execution_count": 22,
     "metadata": {},
     "output_type": "execute_result"
    }
   ],
   "source": [
    "#empty check\n",
    "yield_df.isnull().sum(axis = 0)"
   ]
  },
  {
   "cell_type": "code",
   "execution_count": 23,
   "metadata": {},
   "outputs": [
    {
     "data": {
      "text/html": [
       "<div>\n",
       "<style scoped>\n",
       "    .dataframe tbody tr th:only-of-type {\n",
       "        vertical-align: middle;\n",
       "    }\n",
       "\n",
       "    .dataframe tbody tr th {\n",
       "        vertical-align: top;\n",
       "    }\n",
       "\n",
       "    .dataframe thead th {\n",
       "        text-align: right;\n",
       "    }\n",
       "</style>\n",
       "<table border=\"1\" class=\"dataframe\">\n",
       "  <thead>\n",
       "    <tr style=\"text-align: right;\">\n",
       "      <th></th>\n",
       "      <th>Unnamed: 0</th>\n",
       "      <th>Year</th>\n",
       "      <th>hg/ha_yield</th>\n",
       "      <th>average_rain_fall_mm_per_year</th>\n",
       "      <th>pesticides_tonnes</th>\n",
       "      <th>avg_temp</th>\n",
       "    </tr>\n",
       "  </thead>\n",
       "  <tbody>\n",
       "    <tr>\n",
       "      <th>count</th>\n",
       "      <td>28242.000000</td>\n",
       "      <td>28242.000000</td>\n",
       "      <td>28242.000000</td>\n",
       "      <td>28242.00000</td>\n",
       "      <td>28242.000000</td>\n",
       "      <td>28242.000000</td>\n",
       "    </tr>\n",
       "    <tr>\n",
       "      <th>mean</th>\n",
       "      <td>14120.500000</td>\n",
       "      <td>2001.544296</td>\n",
       "      <td>77053.332094</td>\n",
       "      <td>1149.05598</td>\n",
       "      <td>37076.909344</td>\n",
       "      <td>20.542627</td>\n",
       "    </tr>\n",
       "    <tr>\n",
       "      <th>std</th>\n",
       "      <td>8152.907488</td>\n",
       "      <td>7.051905</td>\n",
       "      <td>84956.612897</td>\n",
       "      <td>709.81215</td>\n",
       "      <td>59958.784665</td>\n",
       "      <td>6.312051</td>\n",
       "    </tr>\n",
       "    <tr>\n",
       "      <th>min</th>\n",
       "      <td>0.000000</td>\n",
       "      <td>1990.000000</td>\n",
       "      <td>50.000000</td>\n",
       "      <td>51.00000</td>\n",
       "      <td>0.040000</td>\n",
       "      <td>1.300000</td>\n",
       "    </tr>\n",
       "    <tr>\n",
       "      <th>25%</th>\n",
       "      <td>7060.250000</td>\n",
       "      <td>1995.000000</td>\n",
       "      <td>19919.250000</td>\n",
       "      <td>593.00000</td>\n",
       "      <td>1702.000000</td>\n",
       "      <td>16.702500</td>\n",
       "    </tr>\n",
       "    <tr>\n",
       "      <th>50%</th>\n",
       "      <td>14120.500000</td>\n",
       "      <td>2001.000000</td>\n",
       "      <td>38295.000000</td>\n",
       "      <td>1083.00000</td>\n",
       "      <td>17529.440000</td>\n",
       "      <td>21.510000</td>\n",
       "    </tr>\n",
       "    <tr>\n",
       "      <th>75%</th>\n",
       "      <td>21180.750000</td>\n",
       "      <td>2008.000000</td>\n",
       "      <td>104676.750000</td>\n",
       "      <td>1668.00000</td>\n",
       "      <td>48687.880000</td>\n",
       "      <td>26.000000</td>\n",
       "    </tr>\n",
       "    <tr>\n",
       "      <th>max</th>\n",
       "      <td>28241.000000</td>\n",
       "      <td>2013.000000</td>\n",
       "      <td>501412.000000</td>\n",
       "      <td>3240.00000</td>\n",
       "      <td>367778.000000</td>\n",
       "      <td>30.650000</td>\n",
       "    </tr>\n",
       "  </tbody>\n",
       "</table>\n",
       "</div>"
      ],
      "text/plain": [
       "         Unnamed: 0          Year    hg/ha_yield  \\\n",
       "count  28242.000000  28242.000000   28242.000000   \n",
       "mean   14120.500000   2001.544296   77053.332094   \n",
       "std     8152.907488      7.051905   84956.612897   \n",
       "min        0.000000   1990.000000      50.000000   \n",
       "25%     7060.250000   1995.000000   19919.250000   \n",
       "50%    14120.500000   2001.000000   38295.000000   \n",
       "75%    21180.750000   2008.000000  104676.750000   \n",
       "max    28241.000000   2013.000000  501412.000000   \n",
       "\n",
       "       average_rain_fall_mm_per_year  pesticides_tonnes      avg_temp  \n",
       "count                    28242.00000       28242.000000  28242.000000  \n",
       "mean                      1149.05598       37076.909344     20.542627  \n",
       "std                        709.81215       59958.784665      6.312051  \n",
       "min                         51.00000           0.040000      1.300000  \n",
       "25%                        593.00000        1702.000000     16.702500  \n",
       "50%                       1083.00000       17529.440000     21.510000  \n",
       "75%                       1668.00000       48687.880000     26.000000  \n",
       "max                       3240.00000      367778.000000     30.650000  "
      ]
     },
     "execution_count": 23,
     "metadata": {},
     "output_type": "execute_result"
    }
   ],
   "source": [
    "#descriptive statistics of the yield dataset\n",
    "yield_df.describe()"
   ]
  },
  {
   "cell_type": "code",
   "execution_count": 24,
   "metadata": {},
   "outputs": [],
   "source": [
    "#remove unnecessary column\n",
    "climate_change_df = climate_change_df.drop(['Date'], axis=1)"
   ]
  },
  {
   "cell_type": "code",
   "execution_count": 25,
   "metadata": {},
   "outputs": [],
   "source": [
    "#remove unnecessary column\n",
    "yield_df = yield_df.drop(['Unnamed: 0'], axis=1)"
   ]
  },
  {
   "cell_type": "code",
   "execution_count": 26,
   "metadata": {},
   "outputs": [
    {
     "name": "stdout",
     "output_type": "stream",
     "text": [
      "Area has 101 unique values\n",
      "Item has 10 unique values\n",
      "Year has 23 unique values\n",
      "hg/ha_yield has 11514 unique values\n",
      "average_rain_fall_mm_per_year has 100 unique values\n",
      "pesticides_tonnes has 1673 unique values\n",
      "avg_temp has 1831 unique values\n"
     ]
    }
   ],
   "source": [
    "i = 0\n",
    "for col in yield_df.columns:\n",
    "    print(col,'has',len(np.unique(yield_df.iloc[:,i])),'unique values')\n",
    "    i+=1\n"
   ]
  },
  {
   "cell_type": "code",
   "execution_count": 27,
   "metadata": {},
   "outputs": [
    {
     "data": {
      "text/plain": [
       "<AxesSubplot:>"
      ]
     },
     "execution_count": 27,
     "metadata": {},
     "output_type": "execute_result"
    },
    {
     "data": {
      "image/png": "[encoded data removed]",
      "text/plain": [
       "<Figure size 432x288 with 1 Axes>"
      ]
     },
     "metadata": {
      "needs_background": "light"
     },
     "output_type": "display_data"
    }
   ],
   "source": [
    "#yield histogram generation\n",
    "yield_df.iloc[:,4].hist(legend=True,bins=50)"
   ]
  },
  {
   "cell_type": "code",
   "execution_count": 28,
   "metadata": {
    "scrolled": true
   },
   "outputs": [
    {
     "data": {
      "text/plain": [
       "<AxesSubplot:>"
      ]
     },
     "execution_count": 28,
     "metadata": {},
     "output_type": "execute_result"
    },
    {
     "data": {
      "image/png": "[encoded data removed]",
      "text/plain": [
       "<Figure size 432x288 with 1 Axes>"
      ]
     },
     "metadata": {
      "needs_background": "light"
     },
     "output_type": "display_data"
    }
   ],
   "source": [
    "#average rainfall histogram generation\n",
    "yield_df.iloc[:,5].hist(legend=True,bins=50)"
   ]
  },
  {
   "cell_type": "code",
   "execution_count": 29,
   "metadata": {},
   "outputs": [],
   "source": [
    "# Need to average the climate change dataset because it is more granular by location when compared to the other datset.\n",
    "climate_change_df_average = climate_change_df.groupby(['Country', 'Year']).mean(numeric_only=True).reset_index()"
   ]
  },
  {
   "cell_type": "code",
   "execution_count": 30,
   "metadata": {},
   "outputs": [],
   "source": [
    "# Find all columns that are numeric\n",
    "climate_change_df_numeric = climate_change_df_average.select_dtypes(include=[np.number])"
   ]
  },
  {
   "cell_type": "code",
   "execution_count": 31,
   "metadata": {},
   "outputs": [],
   "source": [
    "# Find all columns that are numeric\n",
    "yield_df_numeric = yield_df.select_dtypes(include=[np.number])"
   ]
  },
  {
   "cell_type": "code",
   "execution_count": 32,
   "metadata": {},
   "outputs": [],
   "source": [
    "#outlier removal climate change\n",
    "climate_change_no_outlier = climate_change_df_numeric[(np.abs(stats.zscore(climate_change_df_numeric)) < 3).all(axis=1)]"
   ]
  },
  {
   "cell_type": "code",
   "execution_count": 33,
   "metadata": {},
   "outputs": [],
   "source": [
    "#outlier removal yield change\n",
    "yield_df_no_outlier = yield_df_numeric[(np.abs(stats.zscore(yield_df_numeric)) < 3).all(axis=1)]"
   ]
  },
  {
   "cell_type": "code",
   "execution_count": 34,
   "metadata": {},
   "outputs": [],
   "source": [
    "# Remove all rows that contained outliers\n",
    "climate_change_df_average = climate_change_df.loc[climate_change_no_outlier.index]"
   ]
  },
  {
   "cell_type": "code",
   "execution_count": 35,
   "metadata": {},
   "outputs": [],
   "source": [
    "# Remove all rows that contained outliers\n",
    "yield_df = yield_df.loc[yield_df_no_outlier.index]"
   ]
  },
  {
   "cell_type": "code",
   "execution_count": 49,
   "metadata": {},
   "outputs": [
    {
     "data": {
      "text/html": [
       "<div>\n",
       "<style scoped>\n",
       "    .dataframe tbody tr th:only-of-type {\n",
       "        vertical-align: middle;\n",
       "    }\n",
       "\n",
       "    .dataframe tbody tr th {\n",
       "        vertical-align: top;\n",
       "    }\n",
       "\n",
       "    .dataframe thead th {\n",
       "        text-align: right;\n",
       "    }\n",
       "</style>\n",
       "<table border=\"1\" class=\"dataframe\">\n",
       "  <thead>\n",
       "    <tr style=\"text-align: right;\">\n",
       "      <th></th>\n",
       "      <th>Area</th>\n",
       "      <th>Item</th>\n",
       "      <th>Year</th>\n",
       "      <th>hg/ha_yield</th>\n",
       "      <th>average_rain_fall_mm_per_year</th>\n",
       "      <th>pesticides_tonnes</th>\n",
       "      <th>avg_temp</th>\n",
       "    </tr>\n",
       "  </thead>\n",
       "  <tbody>\n",
       "    <tr>\n",
       "      <th>0</th>\n",
       "      <td>Albania</td>\n",
       "      <td>Maize</td>\n",
       "      <td>1990</td>\n",
       "      <td>36613</td>\n",
       "      <td>1485.0</td>\n",
       "      <td>121.00</td>\n",
       "      <td>16.37</td>\n",
       "    </tr>\n",
       "    <tr>\n",
       "      <th>1</th>\n",
       "      <td>Albania</td>\n",
       "      <td>Potatoes</td>\n",
       "      <td>1990</td>\n",
       "      <td>66667</td>\n",
       "      <td>1485.0</td>\n",
       "      <td>121.00</td>\n",
       "      <td>16.37</td>\n",
       "    </tr>\n",
       "    <tr>\n",
       "      <th>2</th>\n",
       "      <td>Albania</td>\n",
       "      <td>Rice, paddy</td>\n",
       "      <td>1990</td>\n",
       "      <td>23333</td>\n",
       "      <td>1485.0</td>\n",
       "      <td>121.00</td>\n",
       "      <td>16.37</td>\n",
       "    </tr>\n",
       "    <tr>\n",
       "      <th>3</th>\n",
       "      <td>Albania</td>\n",
       "      <td>Sorghum</td>\n",
       "      <td>1990</td>\n",
       "      <td>12500</td>\n",
       "      <td>1485.0</td>\n",
       "      <td>121.00</td>\n",
       "      <td>16.37</td>\n",
       "    </tr>\n",
       "    <tr>\n",
       "      <th>4</th>\n",
       "      <td>Albania</td>\n",
       "      <td>Soybeans</td>\n",
       "      <td>1990</td>\n",
       "      <td>7000</td>\n",
       "      <td>1485.0</td>\n",
       "      <td>121.00</td>\n",
       "      <td>16.37</td>\n",
       "    </tr>\n",
       "    <tr>\n",
       "      <th>...</th>\n",
       "      <td>...</td>\n",
       "      <td>...</td>\n",
       "      <td>...</td>\n",
       "      <td>...</td>\n",
       "      <td>...</td>\n",
       "      <td>...</td>\n",
       "      <td>...</td>\n",
       "    </tr>\n",
       "    <tr>\n",
       "      <th>28237</th>\n",
       "      <td>Zimbabwe</td>\n",
       "      <td>Rice, paddy</td>\n",
       "      <td>2013</td>\n",
       "      <td>22581</td>\n",
       "      <td>657.0</td>\n",
       "      <td>2550.07</td>\n",
       "      <td>19.76</td>\n",
       "    </tr>\n",
       "    <tr>\n",
       "      <th>28238</th>\n",
       "      <td>Zimbabwe</td>\n",
       "      <td>Sorghum</td>\n",
       "      <td>2013</td>\n",
       "      <td>3066</td>\n",
       "      <td>657.0</td>\n",
       "      <td>2550.07</td>\n",
       "      <td>19.76</td>\n",
       "    </tr>\n",
       "    <tr>\n",
       "      <th>28239</th>\n",
       "      <td>Zimbabwe</td>\n",
       "      <td>Soybeans</td>\n",
       "      <td>2013</td>\n",
       "      <td>13142</td>\n",
       "      <td>657.0</td>\n",
       "      <td>2550.07</td>\n",
       "      <td>19.76</td>\n",
       "    </tr>\n",
       "    <tr>\n",
       "      <th>28240</th>\n",
       "      <td>Zimbabwe</td>\n",
       "      <td>Sweet potatoes</td>\n",
       "      <td>2013</td>\n",
       "      <td>22222</td>\n",
       "      <td>657.0</td>\n",
       "      <td>2550.07</td>\n",
       "      <td>19.76</td>\n",
       "    </tr>\n",
       "    <tr>\n",
       "      <th>28241</th>\n",
       "      <td>Zimbabwe</td>\n",
       "      <td>Wheat</td>\n",
       "      <td>2013</td>\n",
       "      <td>22888</td>\n",
       "      <td>657.0</td>\n",
       "      <td>2550.07</td>\n",
       "      <td>19.76</td>\n",
       "    </tr>\n",
       "  </tbody>\n",
       "</table>\n",
       "<p>26747 rows × 7 columns</p>\n",
       "</div>"
      ],
      "text/plain": [
       "           Area            Item  Year  hg/ha_yield  \\\n",
       "0       Albania           Maize  1990        36613   \n",
       "1       Albania        Potatoes  1990        66667   \n",
       "2       Albania     Rice, paddy  1990        23333   \n",
       "3       Albania         Sorghum  1990        12500   \n",
       "4       Albania        Soybeans  1990         7000   \n",
       "...         ...             ...   ...          ...   \n",
       "28237  Zimbabwe     Rice, paddy  2013        22581   \n",
       "28238  Zimbabwe         Sorghum  2013         3066   \n",
       "28239  Zimbabwe        Soybeans  2013        13142   \n",
       "28240  Zimbabwe  Sweet potatoes  2013        22222   \n",
       "28241  Zimbabwe           Wheat  2013        22888   \n",
       "\n",
       "       average_rain_fall_mm_per_year  pesticides_tonnes  avg_temp  \n",
       "0                             1485.0             121.00     16.37  \n",
       "1                             1485.0             121.00     16.37  \n",
       "2                             1485.0             121.00     16.37  \n",
       "3                             1485.0             121.00     16.37  \n",
       "4                             1485.0             121.00     16.37  \n",
       "...                              ...                ...       ...  \n",
       "28237                          657.0            2550.07     19.76  \n",
       "28238                          657.0            2550.07     19.76  \n",
       "28239                          657.0            2550.07     19.76  \n",
       "28240                          657.0            2550.07     19.76  \n",
       "28241                          657.0            2550.07     19.76  \n",
       "\n",
       "[26747 rows x 7 columns]"
      ]
     },
     "execution_count": 49,
     "metadata": {},
     "output_type": "execute_result"
    }
   ],
   "source": [
    "yield_df"
   ]
  },
  {
   "cell_type": "code",
   "execution_count": 53,
   "metadata": {},
   "outputs": [
    {
     "data": {
      "text/plain": [
       "([<matplotlib.axis.YTick at 0x187b3b9a4c0>,\n",
       "  <matplotlib.axis.YTick at 0x187b3b92d00>,\n",
       "  <matplotlib.axis.YTick at 0x187b3b7f100>,\n",
       "  <matplotlib.axis.YTick at 0x187b4bdd4c0>,\n",
       "  <matplotlib.axis.YTick at 0x187b4bddc10>],\n",
       " [Text(0, 0, 'Year'),\n",
       "  Text(0, 1, 'hg/ha_yield'),\n",
       "  Text(0, 2, 'average_rain_fall_mm_per_year'),\n",
       "  Text(0, 3, 'pesticides_tonnes'),\n",
       "  Text(0, 4, 'avg_temp')])"
      ]
     },
     "execution_count": 53,
     "metadata": {},
     "output_type": "execute_result"
    },
    {
     "data": {
      "image/png": "[encoded data removed]",
      "text/plain": [
       "<Figure size 504x504 with 2 Axes>"
      ]
     },
     "metadata": {
      "needs_background": "light"
     },
     "output_type": "display_data"
    }
   ],
   "source": [
    "#look if any correlation for possible regression exercises \n",
    "plt.figure(figsize=(7,7))\n",
    "plt.matshow(yield_df.iloc[:,1:].corr(), fignum=1)\n",
    "plt.title('Correlation Matrix', position = (0.5, 1.1))\n",
    "plt.colorbar()\n",
    "plt.xticks(range(5), list(yield_df.iloc[:,2:].columns), rotation = 90)\n",
    "plt.yticks(range(5), list(yield_df.iloc[:,2:].columns))"
   ]
  },
  {
   "cell_type": "code",
   "execution_count": 37,
   "metadata": {},
   "outputs": [],
   "source": [
    "#merge dataset\n",
    "merged_df = pd.merge(climate_change_df_average, yield_df, left_on=['Country', 'Year'], right_on=['Area', 'Year'])"
   ]
  },
  {
   "cell_type": "code",
   "execution_count": 38,
   "metadata": {},
   "outputs": [
    {
     "data": {
      "text/html": [
       "<div>\n",
       "<style scoped>\n",
       "    .dataframe tbody tr th:only-of-type {\n",
       "        vertical-align: middle;\n",
       "    }\n",
       "\n",
       "    .dataframe tbody tr th {\n",
       "        vertical-align: top;\n",
       "    }\n",
       "\n",
       "    .dataframe thead th {\n",
       "        text-align: right;\n",
       "    }\n",
       "</style>\n",
       "<table border=\"1\" class=\"dataframe\">\n",
       "  <thead>\n",
       "    <tr style=\"text-align: right;\">\n",
       "      <th></th>\n",
       "      <th>Location</th>\n",
       "      <th>Country</th>\n",
       "      <th>Temperature</th>\n",
       "      <th>CO2 Emissions</th>\n",
       "      <th>Sea Level Rise</th>\n",
       "      <th>Precipitation</th>\n",
       "      <th>Humidity</th>\n",
       "      <th>Wind Speed</th>\n",
       "      <th>Year</th>\n",
       "      <th>Area</th>\n",
       "      <th>Item</th>\n",
       "      <th>hg/ha_yield</th>\n",
       "      <th>average_rain_fall_mm_per_year</th>\n",
       "      <th>pesticides_tonnes</th>\n",
       "      <th>avg_temp</th>\n",
       "    </tr>\n",
       "  </thead>\n",
       "  <tbody>\n",
       "    <tr>\n",
       "      <th>0</th>\n",
       "      <td>New Williamtown</td>\n",
       "      <td>Latvia</td>\n",
       "      <td>10.688986</td>\n",
       "      <td>403.118903</td>\n",
       "      <td>0.717506</td>\n",
       "      <td>13.835237</td>\n",
       "      <td>23.631256</td>\n",
       "      <td>18.492026</td>\n",
       "      <td>2000</td>\n",
       "      <td>Latvia</td>\n",
       "      <td>Potatoes</td>\n",
       "      <td>145634</td>\n",
       "      <td>641.0</td>\n",
       "      <td>284.72</td>\n",
       "      <td>7.47</td>\n",
       "    </tr>\n",
       "    <tr>\n",
       "      <th>1</th>\n",
       "      <td>New Williamtown</td>\n",
       "      <td>Latvia</td>\n",
       "      <td>10.688986</td>\n",
       "      <td>403.118903</td>\n",
       "      <td>0.717506</td>\n",
       "      <td>13.835237</td>\n",
       "      <td>23.631256</td>\n",
       "      <td>18.492026</td>\n",
       "      <td>2000</td>\n",
       "      <td>Latvia</td>\n",
       "      <td>Wheat</td>\n",
       "      <td>27034</td>\n",
       "      <td>641.0</td>\n",
       "      <td>284.72</td>\n",
       "      <td>7.47</td>\n",
       "    </tr>\n",
       "    <tr>\n",
       "      <th>2</th>\n",
       "      <td>Rachelburgh</td>\n",
       "      <td>Latvia</td>\n",
       "      <td>17.355325</td>\n",
       "      <td>275.769689</td>\n",
       "      <td>0.748323</td>\n",
       "      <td>92.541043</td>\n",
       "      <td>50.543222</td>\n",
       "      <td>19.078273</td>\n",
       "      <td>2000</td>\n",
       "      <td>Latvia</td>\n",
       "      <td>Potatoes</td>\n",
       "      <td>145634</td>\n",
       "      <td>641.0</td>\n",
       "      <td>284.72</td>\n",
       "      <td>7.47</td>\n",
       "    </tr>\n",
       "    <tr>\n",
       "      <th>3</th>\n",
       "      <td>Rachelburgh</td>\n",
       "      <td>Latvia</td>\n",
       "      <td>17.355325</td>\n",
       "      <td>275.769689</td>\n",
       "      <td>0.748323</td>\n",
       "      <td>92.541043</td>\n",
       "      <td>50.543222</td>\n",
       "      <td>19.078273</td>\n",
       "      <td>2000</td>\n",
       "      <td>Latvia</td>\n",
       "      <td>Wheat</td>\n",
       "      <td>27034</td>\n",
       "      <td>641.0</td>\n",
       "      <td>284.72</td>\n",
       "      <td>7.47</td>\n",
       "    </tr>\n",
       "    <tr>\n",
       "      <th>4</th>\n",
       "      <td>North Rachel</td>\n",
       "      <td>South Africa</td>\n",
       "      <td>13.814430</td>\n",
       "      <td>396.663499</td>\n",
       "      <td>1.205715</td>\n",
       "      <td>40.974084</td>\n",
       "      <td>43.982946</td>\n",
       "      <td>34.249300</td>\n",
       "      <td>2000</td>\n",
       "      <td>South Africa</td>\n",
       "      <td>Maize</td>\n",
       "      <td>28492</td>\n",
       "      <td>495.0</td>\n",
       "      <td>26857.00</td>\n",
       "      <td>20.74</td>\n",
       "    </tr>\n",
       "    <tr>\n",
       "      <th>...</th>\n",
       "      <td>...</td>\n",
       "      <td>...</td>\n",
       "      <td>...</td>\n",
       "      <td>...</td>\n",
       "      <td>...</td>\n",
       "      <td>...</td>\n",
       "      <td>...</td>\n",
       "      <td>...</td>\n",
       "      <td>...</td>\n",
       "      <td>...</td>\n",
       "      <td>...</td>\n",
       "      <td>...</td>\n",
       "      <td>...</td>\n",
       "      <td>...</td>\n",
       "      <td>...</td>\n",
       "    </tr>\n",
       "    <tr>\n",
       "      <th>18430</th>\n",
       "      <td>Graychester</td>\n",
       "      <td>Australia</td>\n",
       "      <td>9.085795</td>\n",
       "      <td>434.270722</td>\n",
       "      <td>-2.002027</td>\n",
       "      <td>0.679430</td>\n",
       "      <td>84.277177</td>\n",
       "      <td>28.460437</td>\n",
       "      <td>2010</td>\n",
       "      <td>Australia</td>\n",
       "      <td>Wheat</td>\n",
       "      <td>15729</td>\n",
       "      <td>534.0</td>\n",
       "      <td>42169.39</td>\n",
       "      <td>20.33</td>\n",
       "    </tr>\n",
       "    <tr>\n",
       "      <th>18431</th>\n",
       "      <td>Graychester</td>\n",
       "      <td>Australia</td>\n",
       "      <td>9.085795</td>\n",
       "      <td>434.270722</td>\n",
       "      <td>-2.002027</td>\n",
       "      <td>0.679430</td>\n",
       "      <td>84.277177</td>\n",
       "      <td>28.460437</td>\n",
       "      <td>2010</td>\n",
       "      <td>Australia</td>\n",
       "      <td>Wheat</td>\n",
       "      <td>15729</td>\n",
       "      <td>534.0</td>\n",
       "      <td>42169.39</td>\n",
       "      <td>12.37</td>\n",
       "    </tr>\n",
       "    <tr>\n",
       "      <th>18432</th>\n",
       "      <td>Graychester</td>\n",
       "      <td>Australia</td>\n",
       "      <td>9.085795</td>\n",
       "      <td>434.270722</td>\n",
       "      <td>-2.002027</td>\n",
       "      <td>0.679430</td>\n",
       "      <td>84.277177</td>\n",
       "      <td>28.460437</td>\n",
       "      <td>2010</td>\n",
       "      <td>Australia</td>\n",
       "      <td>Wheat</td>\n",
       "      <td>15729</td>\n",
       "      <td>534.0</td>\n",
       "      <td>42169.39</td>\n",
       "      <td>14.23</td>\n",
       "    </tr>\n",
       "    <tr>\n",
       "      <th>18433</th>\n",
       "      <td>Graychester</td>\n",
       "      <td>Australia</td>\n",
       "      <td>9.085795</td>\n",
       "      <td>434.270722</td>\n",
       "      <td>-2.002027</td>\n",
       "      <td>0.679430</td>\n",
       "      <td>84.277177</td>\n",
       "      <td>28.460437</td>\n",
       "      <td>2010</td>\n",
       "      <td>Australia</td>\n",
       "      <td>Wheat</td>\n",
       "      <td>15729</td>\n",
       "      <td>534.0</td>\n",
       "      <td>42169.39</td>\n",
       "      <td>19.09</td>\n",
       "    </tr>\n",
       "    <tr>\n",
       "      <th>18434</th>\n",
       "      <td>Graychester</td>\n",
       "      <td>Australia</td>\n",
       "      <td>9.085795</td>\n",
       "      <td>434.270722</td>\n",
       "      <td>-2.002027</td>\n",
       "      <td>0.679430</td>\n",
       "      <td>84.277177</td>\n",
       "      <td>28.460437</td>\n",
       "      <td>2010</td>\n",
       "      <td>Australia</td>\n",
       "      <td>Wheat</td>\n",
       "      <td>15729</td>\n",
       "      <td>534.0</td>\n",
       "      <td>42169.39</td>\n",
       "      <td>18.00</td>\n",
       "    </tr>\n",
       "  </tbody>\n",
       "</table>\n",
       "<p>18435 rows × 15 columns</p>\n",
       "</div>"
      ],
      "text/plain": [
       "              Location       Country  Temperature  CO2 Emissions  \\\n",
       "0      New Williamtown        Latvia    10.688986     403.118903   \n",
       "1      New Williamtown        Latvia    10.688986     403.118903   \n",
       "2          Rachelburgh        Latvia    17.355325     275.769689   \n",
       "3          Rachelburgh        Latvia    17.355325     275.769689   \n",
       "4         North Rachel  South Africa    13.814430     396.663499   \n",
       "...                ...           ...          ...            ...   \n",
       "18430      Graychester     Australia     9.085795     434.270722   \n",
       "18431      Graychester     Australia     9.085795     434.270722   \n",
       "18432      Graychester     Australia     9.085795     434.270722   \n",
       "18433      Graychester     Australia     9.085795     434.270722   \n",
       "18434      Graychester     Australia     9.085795     434.270722   \n",
       "\n",
       "       Sea Level Rise  Precipitation   Humidity  Wind Speed  Year  \\\n",
       "0            0.717506      13.835237  23.631256   18.492026  2000   \n",
       "1            0.717506      13.835237  23.631256   18.492026  2000   \n",
       "2            0.748323      92.541043  50.543222   19.078273  2000   \n",
       "3            0.748323      92.541043  50.543222   19.078273  2000   \n",
       "4            1.205715      40.974084  43.982946   34.249300  2000   \n",
       "...               ...            ...        ...         ...   ...   \n",
       "18430       -2.002027       0.679430  84.277177   28.460437  2010   \n",
       "18431       -2.002027       0.679430  84.277177   28.460437  2010   \n",
       "18432       -2.002027       0.679430  84.277177   28.460437  2010   \n",
       "18433       -2.002027       0.679430  84.277177   28.460437  2010   \n",
       "18434       -2.002027       0.679430  84.277177   28.460437  2010   \n",
       "\n",
       "               Area      Item  hg/ha_yield  average_rain_fall_mm_per_year  \\\n",
       "0            Latvia  Potatoes       145634                          641.0   \n",
       "1            Latvia     Wheat        27034                          641.0   \n",
       "2            Latvia  Potatoes       145634                          641.0   \n",
       "3            Latvia     Wheat        27034                          641.0   \n",
       "4      South Africa     Maize        28492                          495.0   \n",
       "...             ...       ...          ...                            ...   \n",
       "18430     Australia     Wheat        15729                          534.0   \n",
       "18431     Australia     Wheat        15729                          534.0   \n",
       "18432     Australia     Wheat        15729                          534.0   \n",
       "18433     Australia     Wheat        15729                          534.0   \n",
       "18434     Australia     Wheat        15729                          534.0   \n",
       "\n",
       "       pesticides_tonnes  avg_temp  \n",
       "0                 284.72      7.47  \n",
       "1                 284.72      7.47  \n",
       "2                 284.72      7.47  \n",
       "3                 284.72      7.47  \n",
       "4               26857.00     20.74  \n",
       "...                  ...       ...  \n",
       "18430           42169.39     20.33  \n",
       "18431           42169.39     12.37  \n",
       "18432           42169.39     14.23  \n",
       "18433           42169.39     19.09  \n",
       "18434           42169.39     18.00  \n",
       "\n",
       "[18435 rows x 15 columns]"
      ]
     },
     "execution_count": 38,
     "metadata": {},
     "output_type": "execute_result"
    }
   ],
   "source": [
    "merged_df"
   ]
  },
  {
   "cell_type": "code",
   "execution_count": null,
   "metadata": {},
   "outputs": [],
   "source": []
  },
  {
   "cell_type": "markdown",
   "metadata": {},
   "source": [
    "### Methodology\n",
    "\n",
    "1. Explan your Deep Learning process / methodology\n",
    "\n",
    "\n",
    "\n",
    "2. Introduce the Deep Neural Networks you used in your project\n",
    " * Model 1\n",
    "    * Description \n",
    " \n",
    " * Model 2\n",
    "    * Description\n",
    " \n",
    " * Ensemble method\n",
    "     * Description \n",
    " \n",
    " \n",
    "3. Add keywords  \n",
    "**Keywords:** natural language processing, sentiment analysis, clustering, binary classification, multi-label classification, prediction\n",
    "\t___\n",
    " **Example**\n",
    "* ConvNet\n",
    "    * A convolutional neural network (CNN, or ConvNet) is a class of deep neural networks, most commonly applied to analyzing visual imagery(source Wikipedia). \n",
    " \n",
    "* **Keywords:** supervised learning, classification, ..."
   ]
  },
  {
   "cell_type": "markdown",
   "metadata": {},
   "source": [
    "### Model Fitting and Validation\n",
    "\n",
    "1. model 1 \n",
    "    - decription \n",
    "2. model 2\n",
    "    - decription "
   ]
  },
  {
   "cell_type": "code",
   "execution_count": 39,
   "metadata": {},
   "outputs": [],
   "source": [
    "# One-hot encode country\n",
    "X = pd.get_dummies(merged_df, columns=['Country'])\n",
    "\n",
    "X = pd.get_dummies(X, columns=['Item'])\n",
    "\n",
    "# X is all the fields that predict hg/ha_yield\n",
    "X = X.drop('hg/ha_yield', axis=1)\n",
    "X = X.drop('Location', axis=1)\n",
    "X = X.drop('Area', axis=1)\n",
    "Y = merged_df['hg/ha_yield']\n"
   ]
  },
  {
   "cell_type": "code",
   "execution_count": 40,
   "metadata": {},
   "outputs": [
    {
     "data": {
      "text/html": [
       "<div>\n",
       "<style scoped>\n",
       "    .dataframe tbody tr th:only-of-type {\n",
       "        vertical-align: middle;\n",
       "    }\n",
       "\n",
       "    .dataframe tbody tr th {\n",
       "        vertical-align: top;\n",
       "    }\n",
       "\n",
       "    .dataframe thead th {\n",
       "        text-align: right;\n",
       "    }\n",
       "</style>\n",
       "<table border=\"1\" class=\"dataframe\">\n",
       "  <thead>\n",
       "    <tr style=\"text-align: right;\">\n",
       "      <th></th>\n",
       "      <th>Temperature</th>\n",
       "      <th>CO2 Emissions</th>\n",
       "      <th>Sea Level Rise</th>\n",
       "      <th>Precipitation</th>\n",
       "      <th>Humidity</th>\n",
       "      <th>Wind Speed</th>\n",
       "      <th>Year</th>\n",
       "      <th>average_rain_fall_mm_per_year</th>\n",
       "      <th>pesticides_tonnes</th>\n",
       "      <th>avg_temp</th>\n",
       "      <th>...</th>\n",
       "      <th>Item_Cassava</th>\n",
       "      <th>Item_Maize</th>\n",
       "      <th>Item_Plantains and others</th>\n",
       "      <th>Item_Potatoes</th>\n",
       "      <th>Item_Rice, paddy</th>\n",
       "      <th>Item_Sorghum</th>\n",
       "      <th>Item_Soybeans</th>\n",
       "      <th>Item_Sweet potatoes</th>\n",
       "      <th>Item_Wheat</th>\n",
       "      <th>Item_Yams</th>\n",
       "    </tr>\n",
       "  </thead>\n",
       "  <tbody>\n",
       "    <tr>\n",
       "      <th>0</th>\n",
       "      <td>10.688986</td>\n",
       "      <td>403.118903</td>\n",
       "      <td>0.717506</td>\n",
       "      <td>13.835237</td>\n",
       "      <td>23.631256</td>\n",
       "      <td>18.492026</td>\n",
       "      <td>2000</td>\n",
       "      <td>641.0</td>\n",
       "      <td>284.72</td>\n",
       "      <td>7.47</td>\n",
       "      <td>...</td>\n",
       "      <td>0</td>\n",
       "      <td>0</td>\n",
       "      <td>0</td>\n",
       "      <td>1</td>\n",
       "      <td>0</td>\n",
       "      <td>0</td>\n",
       "      <td>0</td>\n",
       "      <td>0</td>\n",
       "      <td>0</td>\n",
       "      <td>0</td>\n",
       "    </tr>\n",
       "    <tr>\n",
       "      <th>1</th>\n",
       "      <td>10.688986</td>\n",
       "      <td>403.118903</td>\n",
       "      <td>0.717506</td>\n",
       "      <td>13.835237</td>\n",
       "      <td>23.631256</td>\n",
       "      <td>18.492026</td>\n",
       "      <td>2000</td>\n",
       "      <td>641.0</td>\n",
       "      <td>284.72</td>\n",
       "      <td>7.47</td>\n",
       "      <td>...</td>\n",
       "      <td>0</td>\n",
       "      <td>0</td>\n",
       "      <td>0</td>\n",
       "      <td>0</td>\n",
       "      <td>0</td>\n",
       "      <td>0</td>\n",
       "      <td>0</td>\n",
       "      <td>0</td>\n",
       "      <td>1</td>\n",
       "      <td>0</td>\n",
       "    </tr>\n",
       "    <tr>\n",
       "      <th>2</th>\n",
       "      <td>17.355325</td>\n",
       "      <td>275.769689</td>\n",
       "      <td>0.748323</td>\n",
       "      <td>92.541043</td>\n",
       "      <td>50.543222</td>\n",
       "      <td>19.078273</td>\n",
       "      <td>2000</td>\n",
       "      <td>641.0</td>\n",
       "      <td>284.72</td>\n",
       "      <td>7.47</td>\n",
       "      <td>...</td>\n",
       "      <td>0</td>\n",
       "      <td>0</td>\n",
       "      <td>0</td>\n",
       "      <td>1</td>\n",
       "      <td>0</td>\n",
       "      <td>0</td>\n",
       "      <td>0</td>\n",
       "      <td>0</td>\n",
       "      <td>0</td>\n",
       "      <td>0</td>\n",
       "    </tr>\n",
       "    <tr>\n",
       "      <th>3</th>\n",
       "      <td>17.355325</td>\n",
       "      <td>275.769689</td>\n",
       "      <td>0.748323</td>\n",
       "      <td>92.541043</td>\n",
       "      <td>50.543222</td>\n",
       "      <td>19.078273</td>\n",
       "      <td>2000</td>\n",
       "      <td>641.0</td>\n",
       "      <td>284.72</td>\n",
       "      <td>7.47</td>\n",
       "      <td>...</td>\n",
       "      <td>0</td>\n",
       "      <td>0</td>\n",
       "      <td>0</td>\n",
       "      <td>0</td>\n",
       "      <td>0</td>\n",
       "      <td>0</td>\n",
       "      <td>0</td>\n",
       "      <td>0</td>\n",
       "      <td>1</td>\n",
       "      <td>0</td>\n",
       "    </tr>\n",
       "    <tr>\n",
       "      <th>4</th>\n",
       "      <td>13.814430</td>\n",
       "      <td>396.663499</td>\n",
       "      <td>1.205715</td>\n",
       "      <td>40.974084</td>\n",
       "      <td>43.982946</td>\n",
       "      <td>34.249300</td>\n",
       "      <td>2000</td>\n",
       "      <td>495.0</td>\n",
       "      <td>26857.00</td>\n",
       "      <td>20.74</td>\n",
       "      <td>...</td>\n",
       "      <td>0</td>\n",
       "      <td>1</td>\n",
       "      <td>0</td>\n",
       "      <td>0</td>\n",
       "      <td>0</td>\n",
       "      <td>0</td>\n",
       "      <td>0</td>\n",
       "      <td>0</td>\n",
       "      <td>0</td>\n",
       "      <td>0</td>\n",
       "    </tr>\n",
       "    <tr>\n",
       "      <th>...</th>\n",
       "      <td>...</td>\n",
       "      <td>...</td>\n",
       "      <td>...</td>\n",
       "      <td>...</td>\n",
       "      <td>...</td>\n",
       "      <td>...</td>\n",
       "      <td>...</td>\n",
       "      <td>...</td>\n",
       "      <td>...</td>\n",
       "      <td>...</td>\n",
       "      <td>...</td>\n",
       "      <td>...</td>\n",
       "      <td>...</td>\n",
       "      <td>...</td>\n",
       "      <td>...</td>\n",
       "      <td>...</td>\n",
       "      <td>...</td>\n",
       "      <td>...</td>\n",
       "      <td>...</td>\n",
       "      <td>...</td>\n",
       "      <td>...</td>\n",
       "    </tr>\n",
       "    <tr>\n",
       "      <th>18430</th>\n",
       "      <td>9.085795</td>\n",
       "      <td>434.270722</td>\n",
       "      <td>-2.002027</td>\n",
       "      <td>0.679430</td>\n",
       "      <td>84.277177</td>\n",
       "      <td>28.460437</td>\n",
       "      <td>2010</td>\n",
       "      <td>534.0</td>\n",
       "      <td>42169.39</td>\n",
       "      <td>20.33</td>\n",
       "      <td>...</td>\n",
       "      <td>0</td>\n",
       "      <td>0</td>\n",
       "      <td>0</td>\n",
       "      <td>0</td>\n",
       "      <td>0</td>\n",
       "      <td>0</td>\n",
       "      <td>0</td>\n",
       "      <td>0</td>\n",
       "      <td>1</td>\n",
       "      <td>0</td>\n",
       "    </tr>\n",
       "    <tr>\n",
       "      <th>18431</th>\n",
       "      <td>9.085795</td>\n",
       "      <td>434.270722</td>\n",
       "      <td>-2.002027</td>\n",
       "      <td>0.679430</td>\n",
       "      <td>84.277177</td>\n",
       "      <td>28.460437</td>\n",
       "      <td>2010</td>\n",
       "      <td>534.0</td>\n",
       "      <td>42169.39</td>\n",
       "      <td>12.37</td>\n",
       "      <td>...</td>\n",
       "      <td>0</td>\n",
       "      <td>0</td>\n",
       "      <td>0</td>\n",
       "      <td>0</td>\n",
       "      <td>0</td>\n",
       "      <td>0</td>\n",
       "      <td>0</td>\n",
       "      <td>0</td>\n",
       "      <td>1</td>\n",
       "      <td>0</td>\n",
       "    </tr>\n",
       "    <tr>\n",
       "      <th>18432</th>\n",
       "      <td>9.085795</td>\n",
       "      <td>434.270722</td>\n",
       "      <td>-2.002027</td>\n",
       "      <td>0.679430</td>\n",
       "      <td>84.277177</td>\n",
       "      <td>28.460437</td>\n",
       "      <td>2010</td>\n",
       "      <td>534.0</td>\n",
       "      <td>42169.39</td>\n",
       "      <td>14.23</td>\n",
       "      <td>...</td>\n",
       "      <td>0</td>\n",
       "      <td>0</td>\n",
       "      <td>0</td>\n",
       "      <td>0</td>\n",
       "      <td>0</td>\n",
       "      <td>0</td>\n",
       "      <td>0</td>\n",
       "      <td>0</td>\n",
       "      <td>1</td>\n",
       "      <td>0</td>\n",
       "    </tr>\n",
       "    <tr>\n",
       "      <th>18433</th>\n",
       "      <td>9.085795</td>\n",
       "      <td>434.270722</td>\n",
       "      <td>-2.002027</td>\n",
       "      <td>0.679430</td>\n",
       "      <td>84.277177</td>\n",
       "      <td>28.460437</td>\n",
       "      <td>2010</td>\n",
       "      <td>534.0</td>\n",
       "      <td>42169.39</td>\n",
       "      <td>19.09</td>\n",
       "      <td>...</td>\n",
       "      <td>0</td>\n",
       "      <td>0</td>\n",
       "      <td>0</td>\n",
       "      <td>0</td>\n",
       "      <td>0</td>\n",
       "      <td>0</td>\n",
       "      <td>0</td>\n",
       "      <td>0</td>\n",
       "      <td>1</td>\n",
       "      <td>0</td>\n",
       "    </tr>\n",
       "    <tr>\n",
       "      <th>18434</th>\n",
       "      <td>9.085795</td>\n",
       "      <td>434.270722</td>\n",
       "      <td>-2.002027</td>\n",
       "      <td>0.679430</td>\n",
       "      <td>84.277177</td>\n",
       "      <td>28.460437</td>\n",
       "      <td>2010</td>\n",
       "      <td>534.0</td>\n",
       "      <td>42169.39</td>\n",
       "      <td>18.00</td>\n",
       "      <td>...</td>\n",
       "      <td>0</td>\n",
       "      <td>0</td>\n",
       "      <td>0</td>\n",
       "      <td>0</td>\n",
       "      <td>0</td>\n",
       "      <td>0</td>\n",
       "      <td>0</td>\n",
       "      <td>0</td>\n",
       "      <td>1</td>\n",
       "      <td>0</td>\n",
       "    </tr>\n",
       "  </tbody>\n",
       "</table>\n",
       "<p>18435 rows × 119 columns</p>\n",
       "</div>"
      ],
      "text/plain": [
       "       Temperature  CO2 Emissions  Sea Level Rise  Precipitation   Humidity  \\\n",
       "0        10.688986     403.118903        0.717506      13.835237  23.631256   \n",
       "1        10.688986     403.118903        0.717506      13.835237  23.631256   \n",
       "2        17.355325     275.769689        0.748323      92.541043  50.543222   \n",
       "3        17.355325     275.769689        0.748323      92.541043  50.543222   \n",
       "4        13.814430     396.663499        1.205715      40.974084  43.982946   \n",
       "...            ...            ...             ...            ...        ...   \n",
       "18430     9.085795     434.270722       -2.002027       0.679430  84.277177   \n",
       "18431     9.085795     434.270722       -2.002027       0.679430  84.277177   \n",
       "18432     9.085795     434.270722       -2.002027       0.679430  84.277177   \n",
       "18433     9.085795     434.270722       -2.002027       0.679430  84.277177   \n",
       "18434     9.085795     434.270722       -2.002027       0.679430  84.277177   \n",
       "\n",
       "       Wind Speed  Year  average_rain_fall_mm_per_year  pesticides_tonnes  \\\n",
       "0       18.492026  2000                          641.0             284.72   \n",
       "1       18.492026  2000                          641.0             284.72   \n",
       "2       19.078273  2000                          641.0             284.72   \n",
       "3       19.078273  2000                          641.0             284.72   \n",
       "4       34.249300  2000                          495.0           26857.00   \n",
       "...           ...   ...                            ...                ...   \n",
       "18430   28.460437  2010                          534.0           42169.39   \n",
       "18431   28.460437  2010                          534.0           42169.39   \n",
       "18432   28.460437  2010                          534.0           42169.39   \n",
       "18433   28.460437  2010                          534.0           42169.39   \n",
       "18434   28.460437  2010                          534.0           42169.39   \n",
       "\n",
       "       avg_temp  ...  Item_Cassava  Item_Maize  Item_Plantains and others  \\\n",
       "0          7.47  ...             0           0                          0   \n",
       "1          7.47  ...             0           0                          0   \n",
       "2          7.47  ...             0           0                          0   \n",
       "3          7.47  ...             0           0                          0   \n",
       "4         20.74  ...             0           1                          0   \n",
       "...         ...  ...           ...         ...                        ...   \n",
       "18430     20.33  ...             0           0                          0   \n",
       "18431     12.37  ...             0           0                          0   \n",
       "18432     14.23  ...             0           0                          0   \n",
       "18433     19.09  ...             0           0                          0   \n",
       "18434     18.00  ...             0           0                          0   \n",
       "\n",
       "       Item_Potatoes  Item_Rice, paddy  Item_Sorghum  Item_Soybeans  \\\n",
       "0                  1                 0             0              0   \n",
       "1                  0                 0             0              0   \n",
       "2                  1                 0             0              0   \n",
       "3                  0                 0             0              0   \n",
       "4                  0                 0             0              0   \n",
       "...              ...               ...           ...            ...   \n",
       "18430              0                 0             0              0   \n",
       "18431              0                 0             0              0   \n",
       "18432              0                 0             0              0   \n",
       "18433              0                 0             0              0   \n",
       "18434              0                 0             0              0   \n",
       "\n",
       "       Item_Sweet potatoes  Item_Wheat  Item_Yams  \n",
       "0                        0           0          0  \n",
       "1                        0           1          0  \n",
       "2                        0           0          0  \n",
       "3                        0           1          0  \n",
       "4                        0           0          0  \n",
       "...                    ...         ...        ...  \n",
       "18430                    0           1          0  \n",
       "18431                    0           1          0  \n",
       "18432                    0           1          0  \n",
       "18433                    0           1          0  \n",
       "18434                    0           1          0  \n",
       "\n",
       "[18435 rows x 119 columns]"
      ]
     },
     "execution_count": 40,
     "metadata": {},
     "output_type": "execute_result"
    }
   ],
   "source": [
    "X"
   ]
  },
  {
   "cell_type": "code",
   "execution_count": 41,
   "metadata": {},
   "outputs": [],
   "source": [
    "# Standardize the dataset to feed into the neural network\n",
    "scaler = StandardScaler()\n",
    "X_scaled = scaler.fit_transform(X)"
   ]
  },
  {
   "cell_type": "code",
   "execution_count": 42,
   "metadata": {},
   "outputs": [],
   "source": [
    "X_train, X_test, Y_train, Y_test = train_test_split(X_scaled, Y, test_size=0.2)\n"
   ]
  },
  {
   "cell_type": "code",
   "execution_count": 43,
   "metadata": {},
   "outputs": [],
   "source": [
    "def build_model(hp):\n",
    "    model = Sequential()\n",
    "    model.add(InputLayer(input_shape=(X_train.shape[1],)))\n",
    "\n",
    "    # Create a variable number of layers between 2 and 5 along with an associated Dropout layer\n",
    "    for i in range(hp.Int('num_layers', 2, 5)):\n",
    "        model.add(Dense(units=hp.Int('units_' + str(i), min_value=32, max_value=512, step=32),\n",
    "                        activation='relu'))\n",
    "        model.add(Dropout(rate=hp.Float('dropout_' + str(i), min_value=0.0, max_value=0.5, step=0.1)))\n",
    "\n",
    "    # Regression so just one unit needed\n",
    "    model.add(Dense(1))\n",
    "\n",
    "    # Adjust the learning rate dynamically, go off of val_loss for mean_squared_error\n",
    "    model.compile(optimizer=Adam(hp.Float('learning_rate', 1e-4, 1e-2, sampling='log')),\n",
    "                  loss='mean_squared_error')\n",
    "    return model"
   ]
  },
  {
   "cell_type": "code",
   "execution_count": null,
   "metadata": {},
   "outputs": [],
   "source": []
  },
  {
   "cell_type": "code",
   "execution_count": null,
   "metadata": {},
   "outputs": [],
   "source": []
  },
  {
   "cell_type": "code",
   "execution_count": null,
   "metadata": {},
   "outputs": [],
   "source": []
  },
  {
   "cell_type": "markdown",
   "metadata": {},
   "source": [
    "### Model Evaluation \n",
    "\n",
    "* Examine your models (coefficients, parameters, errors, etc...)\n",
    "\n",
    "* Compute and interpret your results in terms of accuracy, precision, recall, ROC etc. "
   ]
  },
  {
   "cell_type": "code",
   "execution_count": 44,
   "metadata": {},
   "outputs": [
    {
     "ename": "NameError",
     "evalue": "name 'RandomSearch' is not defined",
     "output_type": "error",
     "traceback": [
      "\u001b[1;31m---------------------------------------------------------------------------\u001b[0m",
      "\u001b[1;31mNameError\u001b[0m                                 Traceback (most recent call last)",
      "\u001b[1;32m~\\AppData\\Local\\Temp\\ipykernel_10964\\1753657337.py\u001b[0m in \u001b[0;36m<module>\u001b[1;34m\u001b[0m\n\u001b[0;32m      1\u001b[0m \u001b[1;31m# Find the optimal hyperparameters via keras tuner\u001b[0m\u001b[1;33m\u001b[0m\u001b[1;33m\u001b[0m\u001b[0m\n\u001b[1;32m----> 2\u001b[1;33m tuner = RandomSearch(\n\u001b[0m\u001b[0;32m      3\u001b[0m     \u001b[0mbuild_model\u001b[0m\u001b[1;33m,\u001b[0m\u001b[1;33m\u001b[0m\u001b[1;33m\u001b[0m\u001b[0m\n\u001b[0;32m      4\u001b[0m     \u001b[0mobjective\u001b[0m\u001b[1;33m=\u001b[0m\u001b[1;34m'val_loss'\u001b[0m\u001b[1;33m,\u001b[0m\u001b[1;33m\u001b[0m\u001b[1;33m\u001b[0m\u001b[0m\n\u001b[0;32m      5\u001b[0m     \u001b[0mmax_trials\u001b[0m\u001b[1;33m=\u001b[0m\u001b[1;36m160\u001b[0m\u001b[1;33m,\u001b[0m\u001b[1;33m\u001b[0m\u001b[1;33m\u001b[0m\u001b[0m\n",
      "\u001b[1;31mNameError\u001b[0m: name 'RandomSearch' is not defined"
     ]
    }
   ],
   "source": [
    "# Find the optimal hyperparameters via keras tuner\n",
    "tuner = RandomSearch(\n",
    "    build_model,\n",
    "    objective='val_loss',\n",
    "    max_trials=160,\n",
    "    executions_per_trial=1\n",
    ")\n",
    "\n",
    "early_stopping = EarlyStopping(\n",
    "    monitor='val_loss',\n",
    "    patience=5,\n",
    "    restore_best_weights=True\n",
    ")"
   ]
  },
  {
   "cell_type": "code",
   "execution_count": 45,
   "metadata": {},
   "outputs": [
    {
     "ename": "NameError",
     "evalue": "name 'tuner' is not defined",
     "output_type": "error",
     "traceback": [
      "\u001b[1;31m---------------------------------------------------------------------------\u001b[0m",
      "\u001b[1;31mNameError\u001b[0m                                 Traceback (most recent call last)",
      "\u001b[1;32m~\\AppData\\Local\\Temp\\ipykernel_10964\\3059379029.py\u001b[0m in \u001b[0;36m<module>\u001b[1;34m\u001b[0m\n\u001b[1;32m----> 1\u001b[1;33m \u001b[0mtuner\u001b[0m\u001b[1;33m.\u001b[0m\u001b[0msearch\u001b[0m\u001b[1;33m(\u001b[0m\u001b[0mX_train\u001b[0m\u001b[1;33m,\u001b[0m \u001b[0mY_train\u001b[0m\u001b[1;33m,\u001b[0m \u001b[0mvalidation_split\u001b[0m\u001b[1;33m=\u001b[0m\u001b[1;36m0.2\u001b[0m\u001b[1;33m,\u001b[0m \u001b[0mepochs\u001b[0m\u001b[1;33m=\u001b[0m\u001b[1;36m20\u001b[0m\u001b[1;33m,\u001b[0m \u001b[0mbatch_size\u001b[0m\u001b[1;33m=\u001b[0m\u001b[1;36m32\u001b[0m\u001b[1;33m)\u001b[0m\u001b[1;33m\u001b[0m\u001b[1;33m\u001b[0m\u001b[0m\n\u001b[0m\u001b[0;32m      2\u001b[0m \u001b[0mbest_model\u001b[0m \u001b[1;33m=\u001b[0m \u001b[0mtuner\u001b[0m\u001b[1;33m.\u001b[0m\u001b[0mget_best_models\u001b[0m\u001b[1;33m(\u001b[0m\u001b[0mnum_models\u001b[0m\u001b[1;33m=\u001b[0m\u001b[1;36m1\u001b[0m\u001b[1;33m)\u001b[0m\u001b[1;33m[\u001b[0m\u001b[1;36m0\u001b[0m\u001b[1;33m]\u001b[0m\u001b[1;33m\u001b[0m\u001b[1;33m\u001b[0m\u001b[0m\n",
      "\u001b[1;31mNameError\u001b[0m: name 'tuner' is not defined"
     ]
    }
   ],
   "source": [
    "tuner.search(X_train, Y_train, validation_split=0.2, epochs=20, batch_size=32)\n",
    "best_model = tuner.get_best_models(num_models=1)[0]\n"
   ]
  },
  {
   "cell_type": "code",
   "execution_count": 61,
   "metadata": {},
   "outputs": [
    {
     "name": "stdout",
     "output_type": "stream",
     "text": [
      "Epoch 1/100\n",
      "369/369 [==============================] - 1s 2ms/step - loss: 5155913216.0000 - val_loss: 1118935936.0000\n",
      "Epoch 2/100\n",
      "369/369 [==============================] - 1s 2ms/step - loss: 997740032.0000 - val_loss: 839906688.0000\n",
      "Epoch 3/100\n",
      "369/369 [==============================] - 1s 2ms/step - loss: 842750272.0000 - val_loss: 722420992.0000\n",
      "Epoch 4/100\n",
      "369/369 [==============================] - 1s 2ms/step - loss: 733616192.0000 - val_loss: 648330368.0000\n",
      "Epoch 5/100\n",
      "369/369 [==============================] - 1s 2ms/step - loss: 677940352.0000 - val_loss: 593148288.0000\n",
      "Epoch 6/100\n",
      "369/369 [==============================] - 1s 2ms/step - loss: 616512768.0000 - val_loss: 528825728.0000\n",
      "Epoch 7/100\n",
      "369/369 [==============================] - 1s 2ms/step - loss: 549415616.0000 - val_loss: 451156672.0000\n",
      "Epoch 8/100\n",
      "369/369 [==============================] - 1s 2ms/step - loss: 480700096.0000 - val_loss: 378387456.0000\n",
      "Epoch 9/100\n",
      "369/369 [==============================] - 1s 2ms/step - loss: 410290464.0000 - val_loss: 306569888.0000\n",
      "Epoch 10/100\n",
      "369/369 [==============================] - 1s 2ms/step - loss: 348819648.0000 - val_loss: 256121904.0000\n",
      "Epoch 11/100\n",
      "369/369 [==============================] - 1s 2ms/step - loss: 318955488.0000 - val_loss: 220300912.0000\n",
      "Epoch 12/100\n",
      "369/369 [==============================] - 1s 2ms/step - loss: 283223520.0000 - val_loss: 191873328.0000\n",
      "Epoch 13/100\n",
      "369/369 [==============================] - 1s 2ms/step - loss: 262570784.0000 - val_loss: 178070224.0000\n",
      "Epoch 14/100\n",
      "369/369 [==============================] - 1s 2ms/step - loss: 258481584.0000 - val_loss: 155123936.0000\n",
      "Epoch 15/100\n",
      "369/369 [==============================] - 1s 2ms/step - loss: 243332112.0000 - val_loss: 148031728.0000\n",
      "Epoch 16/100\n",
      "369/369 [==============================] - 1s 2ms/step - loss: 225161536.0000 - val_loss: 135075376.0000\n",
      "Epoch 17/100\n",
      "369/369 [==============================] - 1s 2ms/step - loss: 214018528.0000 - val_loss: 122503824.0000\n",
      "Epoch 18/100\n",
      "369/369 [==============================] - 1s 2ms/step - loss: 213722352.0000 - val_loss: 119290784.0000\n",
      "Epoch 19/100\n",
      "369/369 [==============================] - 1s 2ms/step - loss: 200326368.0000 - val_loss: 105740200.0000\n",
      "Epoch 20/100\n",
      "369/369 [==============================] - 1s 2ms/step - loss: 189839072.0000 - val_loss: 102528040.0000\n",
      "Epoch 21/100\n",
      "369/369 [==============================] - 1s 2ms/step - loss: 188568480.0000 - val_loss: 101010296.0000\n",
      "Epoch 22/100\n",
      "369/369 [==============================] - 1s 2ms/step - loss: 178810512.0000 - val_loss: 92651840.0000\n",
      "Epoch 23/100\n",
      "369/369 [==============================] - 1s 2ms/step - loss: 178389456.0000 - val_loss: 95421240.0000\n",
      "Epoch 24/100\n",
      "369/369 [==============================] - 1s 2ms/step - loss: 169873264.0000 - val_loss: 95297400.0000\n",
      "Epoch 25/100\n",
      "369/369 [==============================] - 1s 2ms/step - loss: 170474848.0000 - val_loss: 88170368.0000\n",
      "Epoch 26/100\n",
      "369/369 [==============================] - 1s 2ms/step - loss: 167356384.0000 - val_loss: 86160744.0000\n",
      "Epoch 27/100\n",
      "369/369 [==============================] - 1s 2ms/step - loss: 172962160.0000 - val_loss: 80149632.0000\n",
      "Epoch 28/100\n",
      "369/369 [==============================] - 1s 2ms/step - loss: 159671184.0000 - val_loss: 79620088.0000\n",
      "Epoch 29/100\n",
      "369/369 [==============================] - 1s 2ms/step - loss: 161744784.0000 - val_loss: 79597768.0000\n",
      "Epoch 30/100\n",
      "369/369 [==============================] - 1s 2ms/step - loss: 163753792.0000 - val_loss: 85345376.0000\n",
      "Epoch 31/100\n",
      "369/369 [==============================] - 1s 2ms/step - loss: 162220560.0000 - val_loss: 75510520.0000\n",
      "Epoch 32/100\n",
      "369/369 [==============================] - 1s 2ms/step - loss: 151381792.0000 - val_loss: 91425560.0000\n",
      "Epoch 33/100\n",
      "369/369 [==============================] - 1s 2ms/step - loss: 159520304.0000 - val_loss: 73554200.0000\n",
      "Epoch 34/100\n",
      "369/369 [==============================] - 1s 2ms/step - loss: 158778048.0000 - val_loss: 75320176.0000\n",
      "Epoch 35/100\n",
      "369/369 [==============================] - 1s 2ms/step - loss: 151810544.0000 - val_loss: 77312712.0000\n",
      "Epoch 36/100\n",
      "369/369 [==============================] - 1s 2ms/step - loss: 152149744.0000 - val_loss: 79087048.0000\n",
      "Epoch 37/100\n",
      "369/369 [==============================] - 1s 2ms/step - loss: 148139888.0000 - val_loss: 78274584.0000\n",
      "Epoch 38/100\n",
      "369/369 [==============================] - 1s 2ms/step - loss: 144423600.0000 - val_loss: 74900864.0000\n",
      "Epoch 39/100\n",
      "369/369 [==============================] - 1s 2ms/step - loss: 149026000.0000 - val_loss: 70631256.0000\n",
      "Epoch 40/100\n",
      "369/369 [==============================] - 1s 2ms/step - loss: 150842368.0000 - val_loss: 74750696.0000\n",
      "Epoch 41/100\n",
      "369/369 [==============================] - 1s 2ms/step - loss: 151023248.0000 - val_loss: 77572816.0000\n",
      "Epoch 42/100\n",
      "369/369 [==============================] - 1s 2ms/step - loss: 146569520.0000 - val_loss: 72085024.0000\n",
      "Epoch 43/100\n",
      "369/369 [==============================] - 1s 2ms/step - loss: 144922096.0000 - val_loss: 75865752.0000\n",
      "Epoch 44/100\n",
      "369/369 [==============================] - 1s 2ms/step - loss: 144599104.0000 - val_loss: 86757536.0000\n",
      "Epoch 45/100\n",
      "369/369 [==============================] - 1s 2ms/step - loss: 136658832.0000 - val_loss: 78071272.0000\n",
      "Epoch 46/100\n",
      "369/369 [==============================] - 1s 2ms/step - loss: 143133984.0000 - val_loss: 64182708.0000\n",
      "Epoch 47/100\n",
      "369/369 [==============================] - 1s 2ms/step - loss: 143359840.0000 - val_loss: 68356000.0000\n",
      "Epoch 48/100\n",
      "369/369 [==============================] - 1s 2ms/step - loss: 139733136.0000 - val_loss: 68648080.0000\n",
      "Epoch 49/100\n",
      "369/369 [==============================] - 1s 2ms/step - loss: 141160704.0000 - val_loss: 67796784.0000\n",
      "Epoch 50/100\n",
      "369/369 [==============================] - 1s 2ms/step - loss: 145229104.0000 - val_loss: 83524552.0000\n",
      "Epoch 51/100\n",
      "369/369 [==============================] - 1s 2ms/step - loss: 135952768.0000 - val_loss: 69239032.0000\n",
      "Epoch 52/100\n",
      "369/369 [==============================] - 1s 2ms/step - loss: 134783840.0000 - val_loss: 76990712.0000\n",
      "Epoch 53/100\n",
      "369/369 [==============================] - 1s 2ms/step - loss: 137162352.0000 - val_loss: 70622296.0000\n",
      "Epoch 54/100\n",
      "369/369 [==============================] - 1s 2ms/step - loss: 138472784.0000 - val_loss: 70138240.0000\n",
      "Epoch 55/100\n",
      "369/369 [==============================] - 1s 2ms/step - loss: 139176064.0000 - val_loss: 66173544.0000\n",
      "Epoch 56/100\n",
      "369/369 [==============================] - 1s 2ms/step - loss: 134654720.0000 - val_loss: 65458836.0000\n",
      "Epoch 57/100\n",
      "369/369 [==============================] - 1s 2ms/step - loss: 137011264.0000 - val_loss: 71852080.0000\n",
      "Epoch 58/100\n",
      "369/369 [==============================] - 1s 2ms/step - loss: 136868000.0000 - val_loss: 69431696.0000\n",
      "Epoch 59/100\n",
      "369/369 [==============================] - 1s 2ms/step - loss: 134815360.0000 - val_loss: 69598952.0000\n",
      "Epoch 60/100\n",
      "369/369 [==============================] - 1s 2ms/step - loss: 137840400.0000 - val_loss: 71107672.0000\n",
      "Epoch 61/100\n",
      "369/369 [==============================] - 1s 2ms/step - loss: 130579920.0000 - val_loss: 65553040.0000\n",
      "Epoch 62/100\n",
      "369/369 [==============================] - 1s 2ms/step - loss: 125752208.0000 - val_loss: 75553096.0000\n",
      "Epoch 63/100\n",
      "369/369 [==============================] - 1s 2ms/step - loss: 126060224.0000 - val_loss: 67569656.0000\n",
      "Epoch 64/100\n",
      "369/369 [==============================] - 1s 2ms/step - loss: 128771920.0000 - val_loss: 67594632.0000\n",
      "Epoch 65/100\n",
      "369/369 [==============================] - 1s 2ms/step - loss: 129138952.0000 - val_loss: 74728288.0000\n",
      "Epoch 66/100\n",
      "369/369 [==============================] - 1s 2ms/step - loss: 129533168.0000 - val_loss: 65980268.0000\n",
      "Epoch 67/100\n",
      "369/369 [==============================] - 1s 2ms/step - loss: 123715840.0000 - val_loss: 63157460.0000\n",
      "Epoch 68/100\n",
      "369/369 [==============================] - 1s 2ms/step - loss: 126798248.0000 - val_loss: 67751528.0000\n",
      "Epoch 69/100\n",
      "369/369 [==============================] - 1s 2ms/step - loss: 123837288.0000 - val_loss: 66167144.0000\n",
      "Epoch 70/100\n",
      "369/369 [==============================] - 1s 2ms/step - loss: 123926112.0000 - val_loss: 64712412.0000\n"
     ]
    },
    {
     "name": "stdout",
     "output_type": "stream",
     "text": [
      "Epoch 71/100\n",
      "369/369 [==============================] - 1s 2ms/step - loss: 118862288.0000 - val_loss: 57536204.0000\n",
      "Epoch 72/100\n",
      "369/369 [==============================] - 1s 2ms/step - loss: 118875808.0000 - val_loss: 66570924.0000\n",
      "Epoch 73/100\n",
      "369/369 [==============================] - 1s 2ms/step - loss: 125198376.0000 - val_loss: 62363448.0000\n",
      "Epoch 74/100\n",
      "369/369 [==============================] - 1s 2ms/step - loss: 117025176.0000 - val_loss: 74675152.0000\n",
      "Epoch 75/100\n",
      "369/369 [==============================] - 1s 2ms/step - loss: 124905184.0000 - val_loss: 58605180.0000\n",
      "Epoch 76/100\n",
      "369/369 [==============================] - 1s 2ms/step - loss: 130738320.0000 - val_loss: 61076520.0000\n",
      "Epoch 77/100\n",
      "369/369 [==============================] - 1s 2ms/step - loss: 116473080.0000 - val_loss: 60198004.0000\n",
      "Epoch 78/100\n",
      "369/369 [==============================] - 1s 2ms/step - loss: 113085288.0000 - val_loss: 61950416.0000\n",
      "Epoch 79/100\n",
      "369/369 [==============================] - 1s 2ms/step - loss: 109491056.0000 - val_loss: 74006912.0000\n",
      "Epoch 80/100\n",
      "369/369 [==============================] - 1s 2ms/step - loss: 117295976.0000 - val_loss: 73091744.0000\n",
      "Epoch 81/100\n",
      "369/369 [==============================] - 1s 2ms/step - loss: 117463800.0000 - val_loss: 59468912.0000\n",
      "Epoch 82/100\n",
      "369/369 [==============================] - 1s 2ms/step - loss: 114786208.0000 - val_loss: 59925776.0000\n",
      "Epoch 83/100\n",
      "369/369 [==============================] - 1s 2ms/step - loss: 112869888.0000 - val_loss: 62624748.0000\n",
      "Epoch 84/100\n",
      "369/369 [==============================] - 1s 2ms/step - loss: 108115136.0000 - val_loss: 64403160.0000\n",
      "Epoch 85/100\n",
      "369/369 [==============================] - 1s 2ms/step - loss: 113538304.0000 - val_loss: 65370188.0000\n",
      "Epoch 86/100\n",
      "369/369 [==============================] - 1s 2ms/step - loss: 114232224.0000 - val_loss: 67250032.0000\n",
      "Epoch 87/100\n",
      "369/369 [==============================] - 1s 2ms/step - loss: 115330128.0000 - val_loss: 63281360.0000\n",
      "Epoch 88/100\n",
      "369/369 [==============================] - 1s 2ms/step - loss: 112337144.0000 - val_loss: 64010700.0000\n",
      "Epoch 89/100\n",
      "369/369 [==============================] - 1s 2ms/step - loss: 118204768.0000 - val_loss: 67531520.0000\n",
      "Epoch 90/100\n",
      "369/369 [==============================] - 1s 2ms/step - loss: 112441176.0000 - val_loss: 61335360.0000\n",
      "Epoch 91/100\n",
      "369/369 [==============================] - 1s 2ms/step - loss: 111155456.0000 - val_loss: 60267424.0000\n",
      "Epoch 92/100\n",
      "369/369 [==============================] - 1s 2ms/step - loss: 115646552.0000 - val_loss: 70640824.0000\n",
      "Epoch 93/100\n",
      "369/369 [==============================] - 1s 2ms/step - loss: 112926112.0000 - val_loss: 72251208.0000\n",
      "Epoch 94/100\n",
      "369/369 [==============================] - 1s 2ms/step - loss: 104712560.0000 - val_loss: 63488596.0000\n",
      "Epoch 95/100\n",
      "369/369 [==============================] - 1s 2ms/step - loss: 112545824.0000 - val_loss: 61468740.0000\n",
      "Epoch 96/100\n",
      "369/369 [==============================] - 1s 2ms/step - loss: 108493584.0000 - val_loss: 61017292.0000\n",
      "Epoch 97/100\n",
      "369/369 [==============================] - 1s 2ms/step - loss: 112680504.0000 - val_loss: 70505264.0000\n",
      "Epoch 98/100\n",
      "369/369 [==============================] - 1s 2ms/step - loss: 111999136.0000 - val_loss: 81576176.0000\n",
      "Epoch 99/100\n",
      "369/369 [==============================] - 1s 2ms/step - loss: 114841416.0000 - val_loss: 67495496.0000\n",
      "Epoch 100/100\n",
      "369/369 [==============================] - 1s 2ms/step - loss: 109566824.0000 - val_loss: 66359564.0000\n"
     ]
    },
    {
     "data": {
      "image/png": "[encoded data removed]",
      "text/plain": [
       "<Figure size 432x288 with 1 Axes>"
      ]
     },
     "metadata": {
      "needs_background": "light"
     },
     "output_type": "display_data"
    }
   ],
   "source": [
    "# Best model based on keras tuner\n",
    "model = Sequential()\n",
    "\n",
    "model.add(Dense(384, activation='relu', input_shape=(X_train.shape[1],)))\n",
    "\n",
    "model.add(Dense(448, activation='relu'))\n",
    "model.add(Dropout(0.1))\n",
    "\n",
    "model.add(Dense(32, activation='relu', kernel_regularizer=l1(0.1)))\n",
    "model.add(Dropout(0.1))\n",
    "\n",
    "model.add(Dense(1))\n",
    "\n",
    "model.compile(optimizer='adam', loss='mean_squared_error')\n",
    "\n",
    "history = model.fit(X_train, Y_train, validation_split=0.2, epochs=100, batch_size=32)\n",
    "\n",
    "plt.plot(history.history['loss'], label='Training Loss')\n",
    "plt.plot(history.history['val_loss'], label='Validation Loss')\n",
    "plt.title('Model Loss Progression')\n",
    "plt.ylabel('Loss')\n",
    "plt.xlabel('Epoch')\n",
    "plt.legend()\n",
    "plt.show()"
   ]
  },
  {
   "cell_type": "markdown",
   "metadata": {},
   "source": [
    "### Issues / Improvements\n",
    "1. Dataset is very small\n",
    "2. Use regularization / initialization\n",
    "3. Use cross-validaiton\n",
    "4. ..."
   ]
  },
  {
   "cell_type": "markdown",
   "metadata": {},
   "source": [
    "###  References\n",
    "   - Academic (if any)\n",
    "   - Online (if any)\n",
    "\t"
   ]
  },
  {
   "cell_type": "markdown",
   "metadata": {},
   "source": [
    "### Credits\n",
    "\n",
    "- If you use and/or adapt your code from existing projects, you must provide links and acknowldge the authors. Keep in mind that all documents in your projects and code will be check against the official plagiarism detection tool used by Penn State ([Turnitin](https://turnitin.psu.edu))\n",
    "\n",
    "> *This code is based on .... (if any)*"
   ]
  },
  {
   "cell_type": "code",
   "execution_count": null,
   "metadata": {},
   "outputs": [],
   "source": []
  },
  {
   "cell_type": "code",
   "execution_count": null,
   "metadata": {},
   "outputs": [],
   "source": [
    "# End of Project"
   ]
  }
 ],
 "metadata": {
  "kernelspec": {
   "display_name": "Python 3 (ipykernel)",
   "language": "python",
   "name": "python3"
  },
  "language_info": {
   "codemirror_mode": {
    "name": "ipython",
    "version": 3
   },
   "file_extension": ".py",
   "mimetype": "text/x-python",
   "name": "python",
   "nbconvert_exporter": "python",
   "pygments_lexer": "ipython3",
   "version": "3.9.18"
  },
  "toc": {
   "base_numbering": 1,
   "nav_menu": {},
   "number_sections": true,
   "sideBar": true,
   "skip_h1_title": false,
   "title_cell": "Table of Contents",
   "title_sidebar": "Contents",
   "toc_cell": false,
   "toc_position": {},
   "toc_section_display": true,
   "toc_window_display": false
  },
  "varInspector": {
   "cols": {
    "lenName": 16,
    "lenType": 16,
    "lenVar": 40
   },
   "kernels_config": {
    "python": {
     "delete_cmd_postfix": "",
     "delete_cmd_prefix": "del ",
     "library": "var_list.py",
     "varRefreshCmd": "print(var_dic_list())"
    },
    "r": {
     "delete_cmd_postfix": ") ",
     "delete_cmd_prefix": "rm(",
     "library": "var_list.r",
     "varRefreshCmd": "cat(var_dic_list()) "
    }
   },
   "types_to_exclude": [
    "module",
    "function",
    "builtin_function_or_method",
    "instance",
    "_Feature"
   ],
   "window_display": true
  }
 },
 "nbformat": 4,
 "nbformat_minor": 2
}
