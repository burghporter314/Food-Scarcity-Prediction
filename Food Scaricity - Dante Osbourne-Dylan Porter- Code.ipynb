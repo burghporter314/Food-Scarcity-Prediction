{
 "cells": [
  {
   "cell_type": "markdown",
   "metadata": {},
   "source": [
    "## Food Scarcity"
   ]
  },
  {
   "cell_type": "code",
   "execution_count": 1,
   "metadata": {},
   "outputs": [],
   "source": [
    "# Edit all the Mardown cells below with the appropriate information \n",
    "# Run all cells, containing your code \n",
    "# Save this Jupyter with the outputs of your executed cells\n",
    "#\n",
    "# PS: Save again the notebook with this outcome.\n",
    "# PSPS: Don't forget to include the dataset in your submission"
   ]
  },
  {
   "cell_type": "markdown",
   "metadata": {},
   "source": [
    "**Team:**\n",
    "* Dante Osbourne\n",
    "* Dylan Porter\n",
    "\n",
    "**Course:** DAAN 897– Deep Learning (Spring, 2024)"
   ]
  },
  {
   "cell_type": "markdown",
   "metadata": {},
   "source": [
    "### Problem Statement\n",
    "* As our planet's climate changes over time, food availability will be certainly impacted. This project aims to use deep learning algorithms in conjunction with data on climate change and crop yields to predict future food scarcity.\n",
    "    \n",
    "    \n",
    "    \n",
    "* **Keywords:** Food Scarcity, Food Scarcity Prediction,Climate Change \n",
    "\t"
   ]
  },
  {
   "cell_type": "markdown",
   "metadata": {},
   "source": [
    "### Data Collection\n",
    "* Source(url): https://www.kaggle.com/datasets/goyaladi/climate-insights-dataset\n",
    "* Short Description : Collection of various climate related data for various countries such as temperature, CO2 Emissions, Precipitation, etc.\n",
    "\n",
    "* Keywords: climate insights, climate change, temperature, weather\n",
    "\n",
    "\n",
    "\n",
    "* Source(url): https://www.kaggle.com/datasets/patelris/crop-yield-prediction-dataset\n",
    "* Short Description : Collection of crop yield data and surrounding factors such as average rainfall, average temperature by location\n",
    "\n",
    "* Keywords: crop yields, temperature, pesticides "
   ]
  },
  {
   "cell_type": "markdown",
   "metadata": {},
   "source": [
    "### Required packages\n",
    "\n",
    "* Keras\n",
    "* Pandas\n",
    "* Numpy\n",
    "* matplotlib\n",
    "* scikit-learn\n",
    "*kerastuner\n"
   ]
  },
  {
   "cell_type": "code",
   "execution_count": 2,
   "metadata": {},
   "outputs": [
    {
     "name": "stderr",
     "output_type": "stream",
     "text": [
      "C:\\Users\\dazzi\\anaconda3\\lib\\site-packages\\scipy\\__init__.py:146: UserWarning: A NumPy version >=1.16.5 and <1.23.0 is required for this version of SciPy (detected version 1.23.5\n",
      "  warnings.warn(f\"A NumPy version >={np_minversion} and <{np_maxversion}\"\n"
     ]
    }
   ],
   "source": [
    "import pandas as pd\n",
    "import numpy as np\n",
    "import matplotlib.pyplot as plt\n",
    "from keras.layers import Dense, Dropout, InputLayer\n",
    "from keras.models import Sequential\n",
    "from keras.optimizers import Adam\n",
    "from keras.regularizers import l1, l2\n",
    "from keras.callbacks import EarlyStopping\n",
    "from scipy import stats\n",
    "from sklearn.model_selection import train_test_split\n",
    "from sklearn.preprocessing import StandardScaler\n",
    "#from kerastuner import RandomSearch"
   ]
  },
  {
   "cell_type": "markdown",
   "metadata": {},
   "source": [
    "### Data Preprocessing\n",
    "\n",
    "Below are the steps we took to preprocess the data for model consumption\n",
    "* Load the respective datasets into data frames\n",
    "* Perform basic exploration on the data to see datatypes, check for empty values, check for duplicates, and gather descriptive statistics.\n",
    "* Examine each data set and check uniqueness for each column\n",
    "* Extract the year from the date column in the climate insights dataset as that will be needed for proper aggregation\n",
    "* Detect and remove outliers in the respective datasets to minimize errors upon modeling\n",
    "* Generate histograms and correlation matrixes of each respective dataset to better understand the data\n",
    "* Remove irrelevant columns in the respective datasets\n",
    "* Aggregate the climate insights dataset by year as the crop yield dataset is yearly\n"
   ]
  },
  {
   "cell_type": "code",
   "execution_count": 3,
   "metadata": {},
   "outputs": [],
   "source": [
    "# Read in both datasets\n",
    "climate_change_df = pd.read_csv('./data/climate_change_data.csv')\n",
    "yield_df = pd.read_csv('./data/yield_df.csv')"
   ]
  },
  {
   "cell_type": "code",
   "execution_count": 4,
   "metadata": {},
   "outputs": [],
   "source": [
    "# Convert the Date in the climate_change_data.csv to just the year for formatting and eventual data merging\n",
    "climate_change_df['Date'] = pd.to_datetime(climate_change_df['Date'], errors='coerce')\n",
    "climate_change_df['Year'] = climate_change_df['Date'].dt.year"
   ]
  },
  {
   "cell_type": "code",
   "execution_count": 5,
   "metadata": {},
   "outputs": [
    {
     "data": {
      "text/html": [
       "<div>\n",
       "<style scoped>\n",
       "    .dataframe tbody tr th:only-of-type {\n",
       "        vertical-align: middle;\n",
       "    }\n",
       "\n",
       "    .dataframe tbody tr th {\n",
       "        vertical-align: top;\n",
       "    }\n",
       "\n",
       "    .dataframe thead th {\n",
       "        text-align: right;\n",
       "    }\n",
       "</style>\n",
       "<table border=\"1\" class=\"dataframe\">\n",
       "  <thead>\n",
       "    <tr style=\"text-align: right;\">\n",
       "      <th></th>\n",
       "      <th>Date</th>\n",
       "      <th>Location</th>\n",
       "      <th>Country</th>\n",
       "      <th>Temperature</th>\n",
       "      <th>CO2 Emissions</th>\n",
       "      <th>Sea Level Rise</th>\n",
       "      <th>Precipitation</th>\n",
       "      <th>Humidity</th>\n",
       "      <th>Wind Speed</th>\n",
       "      <th>Year</th>\n",
       "    </tr>\n",
       "  </thead>\n",
       "  <tbody>\n",
       "    <tr>\n",
       "      <th>0</th>\n",
       "      <td>2000-01-01 00:00:00.000000000</td>\n",
       "      <td>New Williamtown</td>\n",
       "      <td>Latvia</td>\n",
       "      <td>10.688986</td>\n",
       "      <td>403.118903</td>\n",
       "      <td>0.717506</td>\n",
       "      <td>13.835237</td>\n",
       "      <td>23.631256</td>\n",
       "      <td>18.492026</td>\n",
       "      <td>2000</td>\n",
       "    </tr>\n",
       "    <tr>\n",
       "      <th>1</th>\n",
       "      <td>2000-01-01 20:09:43.258325832</td>\n",
       "      <td>North Rachel</td>\n",
       "      <td>South Africa</td>\n",
       "      <td>13.814430</td>\n",
       "      <td>396.663499</td>\n",
       "      <td>1.205715</td>\n",
       "      <td>40.974084</td>\n",
       "      <td>43.982946</td>\n",
       "      <td>34.249300</td>\n",
       "      <td>2000</td>\n",
       "    </tr>\n",
       "    <tr>\n",
       "      <th>2</th>\n",
       "      <td>2000-01-02 16:19:26.516651665</td>\n",
       "      <td>West Williamland</td>\n",
       "      <td>French Guiana</td>\n",
       "      <td>27.323718</td>\n",
       "      <td>451.553155</td>\n",
       "      <td>-0.160783</td>\n",
       "      <td>42.697931</td>\n",
       "      <td>96.652600</td>\n",
       "      <td>34.124261</td>\n",
       "      <td>2000</td>\n",
       "    </tr>\n",
       "    <tr>\n",
       "      <th>3</th>\n",
       "      <td>2000-01-03 12:29:09.774977497</td>\n",
       "      <td>South David</td>\n",
       "      <td>Vietnam</td>\n",
       "      <td>12.309581</td>\n",
       "      <td>422.404983</td>\n",
       "      <td>-0.475931</td>\n",
       "      <td>5.193341</td>\n",
       "      <td>47.467938</td>\n",
       "      <td>8.554563</td>\n",
       "      <td>2000</td>\n",
       "    </tr>\n",
       "    <tr>\n",
       "      <th>4</th>\n",
       "      <td>2000-01-04 08:38:53.033303330</td>\n",
       "      <td>New Scottburgh</td>\n",
       "      <td>Moldova</td>\n",
       "      <td>13.210885</td>\n",
       "      <td>410.472999</td>\n",
       "      <td>1.135757</td>\n",
       "      <td>78.695280</td>\n",
       "      <td>61.789672</td>\n",
       "      <td>8.001164</td>\n",
       "      <td>2000</td>\n",
       "    </tr>\n",
       "  </tbody>\n",
       "</table>\n",
       "</div>"
      ],
      "text/plain": [
       "                           Date          Location        Country  Temperature  \\\n",
       "0 2000-01-01 00:00:00.000000000   New Williamtown         Latvia    10.688986   \n",
       "1 2000-01-01 20:09:43.258325832      North Rachel   South Africa    13.814430   \n",
       "2 2000-01-02 16:19:26.516651665  West Williamland  French Guiana    27.323718   \n",
       "3 2000-01-03 12:29:09.774977497       South David        Vietnam    12.309581   \n",
       "4 2000-01-04 08:38:53.033303330    New Scottburgh        Moldova    13.210885   \n",
       "\n",
       "   CO2 Emissions  Sea Level Rise  Precipitation   Humidity  Wind Speed  Year  \n",
       "0     403.118903        0.717506      13.835237  23.631256   18.492026  2000  \n",
       "1     396.663499        1.205715      40.974084  43.982946   34.249300  2000  \n",
       "2     451.553155       -0.160783      42.697931  96.652600   34.124261  2000  \n",
       "3     422.404983       -0.475931       5.193341  47.467938    8.554563  2000  \n",
       "4     410.472999        1.135757      78.695280  61.789672    8.001164  2000  "
      ]
     },
     "execution_count": 5,
     "metadata": {},
     "output_type": "execute_result"
    }
   ],
   "source": [
    "#basic exploration of the climate change dataset\n",
    "climate_change_df.head()"
   ]
  },
  {
   "cell_type": "code",
   "execution_count": 6,
   "metadata": {},
   "outputs": [
    {
     "data": {
      "text/html": [
       "<div>\n",
       "<style scoped>\n",
       "    .dataframe tbody tr th:only-of-type {\n",
       "        vertical-align: middle;\n",
       "    }\n",
       "\n",
       "    .dataframe tbody tr th {\n",
       "        vertical-align: top;\n",
       "    }\n",
       "\n",
       "    .dataframe thead th {\n",
       "        text-align: right;\n",
       "    }\n",
       "</style>\n",
       "<table border=\"1\" class=\"dataframe\">\n",
       "  <thead>\n",
       "    <tr style=\"text-align: right;\">\n",
       "      <th></th>\n",
       "      <th>Temperature</th>\n",
       "      <th>CO2 Emissions</th>\n",
       "      <th>Sea Level Rise</th>\n",
       "      <th>Precipitation</th>\n",
       "      <th>Humidity</th>\n",
       "      <th>Wind Speed</th>\n",
       "      <th>Year</th>\n",
       "    </tr>\n",
       "  </thead>\n",
       "  <tbody>\n",
       "    <tr>\n",
       "      <th>count</th>\n",
       "      <td>10000.000000</td>\n",
       "      <td>10000.000000</td>\n",
       "      <td>10000.000000</td>\n",
       "      <td>10000.000000</td>\n",
       "      <td>10000.000000</td>\n",
       "      <td>10000.000000</td>\n",
       "      <td>10000.000000</td>\n",
       "    </tr>\n",
       "    <tr>\n",
       "      <th>mean</th>\n",
       "      <td>14.936034</td>\n",
       "      <td>400.220469</td>\n",
       "      <td>-0.003152</td>\n",
       "      <td>49.881208</td>\n",
       "      <td>49.771302</td>\n",
       "      <td>25.082066</td>\n",
       "      <td>2010.997900</td>\n",
       "    </tr>\n",
       "    <tr>\n",
       "      <th>std</th>\n",
       "      <td>5.030616</td>\n",
       "      <td>49.696933</td>\n",
       "      <td>0.991349</td>\n",
       "      <td>28.862417</td>\n",
       "      <td>28.929320</td>\n",
       "      <td>14.466648</td>\n",
       "      <td>6.633634</td>\n",
       "    </tr>\n",
       "    <tr>\n",
       "      <th>min</th>\n",
       "      <td>-3.803589</td>\n",
       "      <td>182.131220</td>\n",
       "      <td>-4.092155</td>\n",
       "      <td>0.010143</td>\n",
       "      <td>0.018998</td>\n",
       "      <td>0.001732</td>\n",
       "      <td>2000.000000</td>\n",
       "    </tr>\n",
       "    <tr>\n",
       "      <th>25%</th>\n",
       "      <td>11.577991</td>\n",
       "      <td>367.109330</td>\n",
       "      <td>-0.673809</td>\n",
       "      <td>24.497516</td>\n",
       "      <td>24.713250</td>\n",
       "      <td>12.539733</td>\n",
       "      <td>2005.000000</td>\n",
       "    </tr>\n",
       "    <tr>\n",
       "      <th>50%</th>\n",
       "      <td>14.981136</td>\n",
       "      <td>400.821324</td>\n",
       "      <td>0.002332</td>\n",
       "      <td>49.818967</td>\n",
       "      <td>49.678412</td>\n",
       "      <td>24.910787</td>\n",
       "      <td>2011.000000</td>\n",
       "    </tr>\n",
       "    <tr>\n",
       "      <th>75%</th>\n",
       "      <td>18.305826</td>\n",
       "      <td>433.307905</td>\n",
       "      <td>0.675723</td>\n",
       "      <td>74.524991</td>\n",
       "      <td>75.206390</td>\n",
       "      <td>37.670260</td>\n",
       "      <td>2017.000000</td>\n",
       "    </tr>\n",
       "    <tr>\n",
       "      <th>max</th>\n",
       "      <td>33.976956</td>\n",
       "      <td>582.899701</td>\n",
       "      <td>4.116559</td>\n",
       "      <td>99.991900</td>\n",
       "      <td>99.959665</td>\n",
       "      <td>49.997664</td>\n",
       "      <td>2022.000000</td>\n",
       "    </tr>\n",
       "  </tbody>\n",
       "</table>\n",
       "</div>"
      ],
      "text/plain": [
       "        Temperature  CO2 Emissions  Sea Level Rise  Precipitation  \\\n",
       "count  10000.000000   10000.000000    10000.000000   10000.000000   \n",
       "mean      14.936034     400.220469       -0.003152      49.881208   \n",
       "std        5.030616      49.696933        0.991349      28.862417   \n",
       "min       -3.803589     182.131220       -4.092155       0.010143   \n",
       "25%       11.577991     367.109330       -0.673809      24.497516   \n",
       "50%       14.981136     400.821324        0.002332      49.818967   \n",
       "75%       18.305826     433.307905        0.675723      74.524991   \n",
       "max       33.976956     582.899701        4.116559      99.991900   \n",
       "\n",
       "           Humidity    Wind Speed          Year  \n",
       "count  10000.000000  10000.000000  10000.000000  \n",
       "mean      49.771302     25.082066   2010.997900  \n",
       "std       28.929320     14.466648      6.633634  \n",
       "min        0.018998      0.001732   2000.000000  \n",
       "25%       24.713250     12.539733   2005.000000  \n",
       "50%       49.678412     24.910787   2011.000000  \n",
       "75%       75.206390     37.670260   2017.000000  \n",
       "max       99.959665     49.997664   2022.000000  "
      ]
     },
     "execution_count": 6,
     "metadata": {},
     "output_type": "execute_result"
    }
   ],
   "source": [
    "#descriptive statistics of the climate change dataset\n",
    "climate_change_df.describe()"
   ]
  },
  {
   "cell_type": "code",
   "execution_count": 7,
   "metadata": {},
   "outputs": [
    {
     "data": {
      "text/plain": [
       "Date              0\n",
       "Location          0\n",
       "Country           0\n",
       "Temperature       0\n",
       "CO2 Emissions     0\n",
       "Sea Level Rise    0\n",
       "Precipitation     0\n",
       "Humidity          0\n",
       "Wind Speed        0\n",
       "Year              0\n",
       "dtype: int64"
      ]
     },
     "execution_count": 7,
     "metadata": {},
     "output_type": "execute_result"
    }
   ],
   "source": [
    "#empty check\n",
    "climate_change_df.isnull().sum(axis = 0)"
   ]
  },
  {
   "cell_type": "code",
   "execution_count": 8,
   "metadata": {},
   "outputs": [
    {
     "data": {
      "text/plain": [
       "0       False\n",
       "1       False\n",
       "2       False\n",
       "3       False\n",
       "4       False\n",
       "        ...  \n",
       "9995    False\n",
       "9996    False\n",
       "9997    False\n",
       "9998    False\n",
       "9999    False\n",
       "Length: 10000, dtype: bool"
      ]
     },
     "execution_count": 8,
     "metadata": {},
     "output_type": "execute_result"
    }
   ],
   "source": [
    "#duplicate check\n",
    "climate_change_df.duplicated(keep=False)"
   ]
  },
  {
   "cell_type": "code",
   "execution_count": 9,
   "metadata": {},
   "outputs": [
    {
     "name": "stdout",
     "output_type": "stream",
     "text": [
      "Date has 10000 unique values\n",
      "Location has 7764 unique values\n",
      "Country has 243 unique values\n",
      "Temperature has 10000 unique values\n",
      "CO2 Emissions has 10000 unique values\n",
      "Sea Level Rise has 10000 unique values\n",
      "Precipitation has 10000 unique values\n",
      "Humidity has 10000 unique values\n",
      "Wind Speed has 10000 unique values\n",
      "Year has 23 unique values\n"
     ]
    }
   ],
   "source": [
    "i = 0\n",
    "for col in climate_change_df.columns:\n",
    "    print(col,'has',len(np.unique(climate_change_df.iloc[:,i])),'unique values')\n",
    "    i+=1"
   ]
  },
  {
   "cell_type": "code",
   "execution_count": 10,
   "metadata": {},
   "outputs": [
    {
     "data": {
      "text/plain": [
       "<AxesSubplot:>"
      ]
     },
     "execution_count": 10,
     "metadata": {},
     "output_type": "execute_result"
    },
    {
     "data": {
      "image/png": "[encoded data removed]",
      "text/plain": [
       "<Figure size 432x288 with 1 Axes>"
      ]
     },
     "metadata": {
      "needs_background": "light"
     },
     "output_type": "display_data"
    }
   ],
   "source": [
    "#Temperature histogram generation\n",
    "climate_change_df.iloc[:,3].hist(legend=True,bins=50)"
   ]
  },
  {
   "cell_type": "code",
   "execution_count": 11,
   "metadata": {},
   "outputs": [
    {
     "data": {
      "text/plain": [
       "<AxesSubplot:>"
      ]
     },
     "execution_count": 11,
     "metadata": {},
     "output_type": "execute_result"
    },
    {
     "data": {
      "image/png": "[encoded data removed]",
      "text/plain": [
       "<Figure size 432x288 with 1 Axes>"
      ]
     },
     "metadata": {
      "needs_background": "light"
     },
     "output_type": "display_data"
    }
   ],
   "source": [
    "#CO2 histogram generation\n",
    "climate_change_df.iloc[:,4].hist(legend=True,bins=50)"
   ]
  },
  {
   "cell_type": "code",
   "execution_count": 12,
   "metadata": {},
   "outputs": [
    {
     "data": {
      "text/plain": [
       "<AxesSubplot:>"
      ]
     },
     "execution_count": 12,
     "metadata": {},
     "output_type": "execute_result"
    },
    {
     "data": {
      "image/png": "[encoded data removed]",
      "text/plain": [
       "<Figure size 432x288 with 1 Axes>"
      ]
     },
     "metadata": {
      "needs_background": "light"
     },
     "output_type": "display_data"
    }
   ],
   "source": [
    "#Sea Level Rise histogram generation\n",
    "climate_change_df.iloc[:,5].hist(legend=True,bins=50)"
   ]
  },
  {
   "cell_type": "code",
   "execution_count": 13,
   "metadata": {},
   "outputs": [
    {
     "data": {
      "text/plain": [
       "<AxesSubplot:>"
      ]
     },
     "execution_count": 13,
     "metadata": {},
     "output_type": "execute_result"
    },
    {
     "data": {
      "image/png": "[encoded data removed]",
      "text/plain": [
       "<Figure size 432x288 with 1 Axes>"
      ]
     },
     "metadata": {
      "needs_background": "light"
     },
     "output_type": "display_data"
    }
   ],
   "source": [
    "#Precipitation histogram generation\n",
    "climate_change_df.iloc[:,6].hist(legend=True,bins=50)"
   ]
  },
  {
   "cell_type": "code",
   "execution_count": 14,
   "metadata": {},
   "outputs": [
    {
     "data": {
      "text/plain": [
       "<AxesSubplot:>"
      ]
     },
     "execution_count": 14,
     "metadata": {},
     "output_type": "execute_result"
    },
    {
     "data": {
      "image/png": "[encoded data removed]",
      "text/plain": [
       "<Figure size 432x288 with 1 Axes>"
      ]
     },
     "metadata": {
      "needs_background": "light"
     },
     "output_type": "display_data"
    }
   ],
   "source": [
    "#Humidity histogram generation\n",
    "climate_change_df.iloc[:,7].hist(legend=True,bins=50)"
   ]
  },
  {
   "cell_type": "code",
   "execution_count": 15,
   "metadata": {},
   "outputs": [
    {
     "data": {
      "text/plain": [
       "<AxesSubplot:>"
      ]
     },
     "execution_count": 15,
     "metadata": {},
     "output_type": "execute_result"
    },
    {
     "data": {
      "image/png": "[encoded data removed]",
      "text/plain": [
       "<Figure size 432x288 with 1 Axes>"
      ]
     },
     "metadata": {
      "needs_background": "light"
     },
     "output_type": "display_data"
    }
   ],
   "source": [
    "#Wind Speed histogram generation\n",
    "climate_change_df.iloc[:,8].hist(legend=True,bins=50)"
   ]
  },
  {
   "cell_type": "code",
   "execution_count": 16,
   "metadata": {},
   "outputs": [
    {
     "data": {
      "text/plain": [
       "([<matplotlib.axis.YTick at 0x1eabd81c640>,\n",
       "  <matplotlib.axis.YTick at 0x1eabd814e80>,\n",
       "  <matplotlib.axis.YTick at 0x1eabd80a2e0>,\n",
       "  <matplotlib.axis.YTick at 0x1eabd8a2790>,\n",
       "  <matplotlib.axis.YTick at 0x1eabd8ae790>,\n",
       "  <matplotlib.axis.YTick at 0x1eabd8b3040>,\n",
       "  <matplotlib.axis.YTick at 0x1eabd8b3670>],\n",
       " [Text(0, 0, 'Temperature'),\n",
       "  Text(0, 1, 'CO2 Emissions'),\n",
       "  Text(0, 2, 'Sea Level Rise'),\n",
       "  Text(0, 3, 'Precipitation'),\n",
       "  Text(0, 4, 'Humidity'),\n",
       "  Text(0, 5, 'Wind Speed'),\n",
       "  Text(0, 6, 'Year')])"
      ]
     },
     "execution_count": 16,
     "metadata": {},
     "output_type": "execute_result"
    },
    {
     "data": {
      "image/png": "[encoded data removed]",
      "text/plain": [
       "<Figure size 504x504 with 2 Axes>"
      ]
     },
     "metadata": {
      "needs_background": "light"
     },
     "output_type": "display_data"
    }
   ],
   "source": [
    "plt.figure(figsize=(7,7))\n",
    "plt.matshow(climate_change_df.iloc[:,1:].corr(), fignum=1)\n",
    "plt.title('Correlation Matrix', position = (0.5, 1.1))\n",
    "plt.colorbar()\n",
    "plt.xticks(range(7), list(climate_change_df.iloc[:,3:].columns), rotation = 90)\n",
    "plt.yticks(range(7), list(climate_change_df.iloc[:,3:].columns))"
   ]
  },
  {
   "cell_type": "code",
   "execution_count": 17,
   "metadata": {},
   "outputs": [
    {
     "data": {
      "text/html": [
       "<div>\n",
       "<style scoped>\n",
       "    .dataframe tbody tr th:only-of-type {\n",
       "        vertical-align: middle;\n",
       "    }\n",
       "\n",
       "    .dataframe tbody tr th {\n",
       "        vertical-align: top;\n",
       "    }\n",
       "\n",
       "    .dataframe thead th {\n",
       "        text-align: right;\n",
       "    }\n",
       "</style>\n",
       "<table border=\"1\" class=\"dataframe\">\n",
       "  <thead>\n",
       "    <tr style=\"text-align: right;\">\n",
       "      <th></th>\n",
       "      <th>Unnamed: 0</th>\n",
       "      <th>Area</th>\n",
       "      <th>Item</th>\n",
       "      <th>Year</th>\n",
       "      <th>hg/ha_yield</th>\n",
       "      <th>average_rain_fall_mm_per_year</th>\n",
       "      <th>pesticides_tonnes</th>\n",
       "      <th>avg_temp</th>\n",
       "    </tr>\n",
       "  </thead>\n",
       "  <tbody>\n",
       "    <tr>\n",
       "      <th>0</th>\n",
       "      <td>0</td>\n",
       "      <td>Albania</td>\n",
       "      <td>Maize</td>\n",
       "      <td>1990</td>\n",
       "      <td>36613</td>\n",
       "      <td>1485.0</td>\n",
       "      <td>121.0</td>\n",
       "      <td>16.37</td>\n",
       "    </tr>\n",
       "    <tr>\n",
       "      <th>1</th>\n",
       "      <td>1</td>\n",
       "      <td>Albania</td>\n",
       "      <td>Potatoes</td>\n",
       "      <td>1990</td>\n",
       "      <td>66667</td>\n",
       "      <td>1485.0</td>\n",
       "      <td>121.0</td>\n",
       "      <td>16.37</td>\n",
       "    </tr>\n",
       "    <tr>\n",
       "      <th>2</th>\n",
       "      <td>2</td>\n",
       "      <td>Albania</td>\n",
       "      <td>Rice, paddy</td>\n",
       "      <td>1990</td>\n",
       "      <td>23333</td>\n",
       "      <td>1485.0</td>\n",
       "      <td>121.0</td>\n",
       "      <td>16.37</td>\n",
       "    </tr>\n",
       "    <tr>\n",
       "      <th>3</th>\n",
       "      <td>3</td>\n",
       "      <td>Albania</td>\n",
       "      <td>Sorghum</td>\n",
       "      <td>1990</td>\n",
       "      <td>12500</td>\n",
       "      <td>1485.0</td>\n",
       "      <td>121.0</td>\n",
       "      <td>16.37</td>\n",
       "    </tr>\n",
       "    <tr>\n",
       "      <th>4</th>\n",
       "      <td>4</td>\n",
       "      <td>Albania</td>\n",
       "      <td>Soybeans</td>\n",
       "      <td>1990</td>\n",
       "      <td>7000</td>\n",
       "      <td>1485.0</td>\n",
       "      <td>121.0</td>\n",
       "      <td>16.37</td>\n",
       "    </tr>\n",
       "  </tbody>\n",
       "</table>\n",
       "</div>"
      ],
      "text/plain": [
       "   Unnamed: 0     Area         Item  Year  hg/ha_yield  \\\n",
       "0           0  Albania        Maize  1990        36613   \n",
       "1           1  Albania     Potatoes  1990        66667   \n",
       "2           2  Albania  Rice, paddy  1990        23333   \n",
       "3           3  Albania      Sorghum  1990        12500   \n",
       "4           4  Albania     Soybeans  1990         7000   \n",
       "\n",
       "   average_rain_fall_mm_per_year  pesticides_tonnes  avg_temp  \n",
       "0                         1485.0              121.0     16.37  \n",
       "1                         1485.0              121.0     16.37  \n",
       "2                         1485.0              121.0     16.37  \n",
       "3                         1485.0              121.0     16.37  \n",
       "4                         1485.0              121.0     16.37  "
      ]
     },
     "execution_count": 17,
     "metadata": {},
     "output_type": "execute_result"
    }
   ],
   "source": [
    "#basic exploration of the yield data frame\n",
    "yield_df.head()"
   ]
  },
  {
   "cell_type": "code",
   "execution_count": 18,
   "metadata": {},
   "outputs": [
    {
     "data": {
      "text/plain": [
       "Unnamed: 0                       0\n",
       "Area                             0\n",
       "Item                             0\n",
       "Year                             0\n",
       "hg/ha_yield                      0\n",
       "average_rain_fall_mm_per_year    0\n",
       "pesticides_tonnes                0\n",
       "avg_temp                         0\n",
       "dtype: int64"
      ]
     },
     "execution_count": 18,
     "metadata": {},
     "output_type": "execute_result"
    }
   ],
   "source": [
    "#empty check\n",
    "yield_df.isnull().sum(axis = 0)"
   ]
  },
  {
   "cell_type": "code",
   "execution_count": 19,
   "metadata": {},
   "outputs": [
    {
     "data": {
      "text/plain": [
       "0        False\n",
       "1        False\n",
       "2        False\n",
       "3        False\n",
       "4        False\n",
       "         ...  \n",
       "28237    False\n",
       "28238    False\n",
       "28239    False\n",
       "28240    False\n",
       "28241    False\n",
       "Length: 28242, dtype: bool"
      ]
     },
     "execution_count": 19,
     "metadata": {},
     "output_type": "execute_result"
    }
   ],
   "source": [
    "#duplicate check\n",
    "yield_df.duplicated(keep=False)"
   ]
  },
  {
   "cell_type": "code",
   "execution_count": 20,
   "metadata": {},
   "outputs": [
    {
     "data": {
      "text/html": [
       "<div>\n",
       "<style scoped>\n",
       "    .dataframe tbody tr th:only-of-type {\n",
       "        vertical-align: middle;\n",
       "    }\n",
       "\n",
       "    .dataframe tbody tr th {\n",
       "        vertical-align: top;\n",
       "    }\n",
       "\n",
       "    .dataframe thead th {\n",
       "        text-align: right;\n",
       "    }\n",
       "</style>\n",
       "<table border=\"1\" class=\"dataframe\">\n",
       "  <thead>\n",
       "    <tr style=\"text-align: right;\">\n",
       "      <th></th>\n",
       "      <th>Unnamed: 0</th>\n",
       "      <th>Year</th>\n",
       "      <th>hg/ha_yield</th>\n",
       "      <th>average_rain_fall_mm_per_year</th>\n",
       "      <th>pesticides_tonnes</th>\n",
       "      <th>avg_temp</th>\n",
       "    </tr>\n",
       "  </thead>\n",
       "  <tbody>\n",
       "    <tr>\n",
       "      <th>count</th>\n",
       "      <td>28242.000000</td>\n",
       "      <td>28242.000000</td>\n",
       "      <td>28242.000000</td>\n",
       "      <td>28242.00000</td>\n",
       "      <td>28242.000000</td>\n",
       "      <td>28242.000000</td>\n",
       "    </tr>\n",
       "    <tr>\n",
       "      <th>mean</th>\n",
       "      <td>14120.500000</td>\n",
       "      <td>2001.544296</td>\n",
       "      <td>77053.332094</td>\n",
       "      <td>1149.05598</td>\n",
       "      <td>37076.909344</td>\n",
       "      <td>20.542627</td>\n",
       "    </tr>\n",
       "    <tr>\n",
       "      <th>std</th>\n",
       "      <td>8152.907488</td>\n",
       "      <td>7.051905</td>\n",
       "      <td>84956.612897</td>\n",
       "      <td>709.81215</td>\n",
       "      <td>59958.784665</td>\n",
       "      <td>6.312051</td>\n",
       "    </tr>\n",
       "    <tr>\n",
       "      <th>min</th>\n",
       "      <td>0.000000</td>\n",
       "      <td>1990.000000</td>\n",
       "      <td>50.000000</td>\n",
       "      <td>51.00000</td>\n",
       "      <td>0.040000</td>\n",
       "      <td>1.300000</td>\n",
       "    </tr>\n",
       "    <tr>\n",
       "      <th>25%</th>\n",
       "      <td>7060.250000</td>\n",
       "      <td>1995.000000</td>\n",
       "      <td>19919.250000</td>\n",
       "      <td>593.00000</td>\n",
       "      <td>1702.000000</td>\n",
       "      <td>16.702500</td>\n",
       "    </tr>\n",
       "    <tr>\n",
       "      <th>50%</th>\n",
       "      <td>14120.500000</td>\n",
       "      <td>2001.000000</td>\n",
       "      <td>38295.000000</td>\n",
       "      <td>1083.00000</td>\n",
       "      <td>17529.440000</td>\n",
       "      <td>21.510000</td>\n",
       "    </tr>\n",
       "    <tr>\n",
       "      <th>75%</th>\n",
       "      <td>21180.750000</td>\n",
       "      <td>2008.000000</td>\n",
       "      <td>104676.750000</td>\n",
       "      <td>1668.00000</td>\n",
       "      <td>48687.880000</td>\n",
       "      <td>26.000000</td>\n",
       "    </tr>\n",
       "    <tr>\n",
       "      <th>max</th>\n",
       "      <td>28241.000000</td>\n",
       "      <td>2013.000000</td>\n",
       "      <td>501412.000000</td>\n",
       "      <td>3240.00000</td>\n",
       "      <td>367778.000000</td>\n",
       "      <td>30.650000</td>\n",
       "    </tr>\n",
       "  </tbody>\n",
       "</table>\n",
       "</div>"
      ],
      "text/plain": [
       "         Unnamed: 0          Year    hg/ha_yield  \\\n",
       "count  28242.000000  28242.000000   28242.000000   \n",
       "mean   14120.500000   2001.544296   77053.332094   \n",
       "std     8152.907488      7.051905   84956.612897   \n",
       "min        0.000000   1990.000000      50.000000   \n",
       "25%     7060.250000   1995.000000   19919.250000   \n",
       "50%    14120.500000   2001.000000   38295.000000   \n",
       "75%    21180.750000   2008.000000  104676.750000   \n",
       "max    28241.000000   2013.000000  501412.000000   \n",
       "\n",
       "       average_rain_fall_mm_per_year  pesticides_tonnes      avg_temp  \n",
       "count                    28242.00000       28242.000000  28242.000000  \n",
       "mean                      1149.05598       37076.909344     20.542627  \n",
       "std                        709.81215       59958.784665      6.312051  \n",
       "min                         51.00000           0.040000      1.300000  \n",
       "25%                        593.00000        1702.000000     16.702500  \n",
       "50%                       1083.00000       17529.440000     21.510000  \n",
       "75%                       1668.00000       48687.880000     26.000000  \n",
       "max                       3240.00000      367778.000000     30.650000  "
      ]
     },
     "execution_count": 20,
     "metadata": {},
     "output_type": "execute_result"
    }
   ],
   "source": [
    "#descriptive statistics of the yield dataset\n",
    "yield_df.describe()"
   ]
  },
  {
   "cell_type": "code",
   "execution_count": 21,
   "metadata": {},
   "outputs": [],
   "source": [
    "#remove unnecessary column\n",
    "climate_change_df = climate_change_df.drop(['Date'], axis=1)"
   ]
  },
  {
   "cell_type": "code",
   "execution_count": 22,
   "metadata": {},
   "outputs": [],
   "source": [
    "#remove unnecessary column\n",
    "yield_df = yield_df.drop(['Unnamed: 0'], axis=1)"
   ]
  },
  {
   "cell_type": "code",
   "execution_count": 23,
   "metadata": {},
   "outputs": [
    {
     "name": "stdout",
     "output_type": "stream",
     "text": [
      "Area has 101 unique values\n",
      "Item has 10 unique values\n",
      "Year has 23 unique values\n",
      "hg/ha_yield has 11514 unique values\n",
      "average_rain_fall_mm_per_year has 100 unique values\n",
      "pesticides_tonnes has 1673 unique values\n",
      "avg_temp has 1831 unique values\n"
     ]
    }
   ],
   "source": [
    "i = 0\n",
    "for col in yield_df.columns:\n",
    "    print(col,'has',len(np.unique(yield_df.iloc[:,i])),'unique values')\n",
    "    i+=1\n"
   ]
  },
  {
   "cell_type": "code",
   "execution_count": 24,
   "metadata": {},
   "outputs": [
    {
     "data": {
      "text/plain": [
       "<AxesSubplot:>"
      ]
     },
     "execution_count": 24,
     "metadata": {},
     "output_type": "execute_result"
    },
    {
     "data": {
      "image/png": "[encoded data removed]",
      "text/plain": [
       "<Figure size 432x288 with 1 Axes>"
      ]
     },
     "metadata": {
      "needs_background": "light"
     },
     "output_type": "display_data"
    }
   ],
   "source": [
    "#yield histogram generation\n",
    "yield_df.iloc[:,4].hist(legend=True,bins=50)"
   ]
  },
  {
   "cell_type": "code",
   "execution_count": 25,
   "metadata": {
    "scrolled": true
   },
   "outputs": [
    {
     "data": {
      "text/plain": [
       "<AxesSubplot:>"
      ]
     },
     "execution_count": 25,
     "metadata": {},
     "output_type": "execute_result"
    },
    {
     "data": {
      "image/png": "[encoded data removed]",
      "text/plain": [
       "<Figure size 432x288 with 1 Axes>"
      ]
     },
     "metadata": {
      "needs_background": "light"
     },
     "output_type": "display_data"
    }
   ],
   "source": [
    "#average rainfall histogram generation\n",
    "yield_df.iloc[:,5].hist(legend=True,bins=50)"
   ]
  },
  {
   "cell_type": "code",
   "execution_count": 26,
   "metadata": {},
   "outputs": [],
   "source": [
    "# Need to average the climate change dataset because it is more granular by location when compared to the other datset.\n",
    "climate_change_df_average = climate_change_df.groupby(['Country', 'Year']).mean(numeric_only=True).reset_index()"
   ]
  },
  {
   "cell_type": "code",
   "execution_count": 27,
   "metadata": {},
   "outputs": [],
   "source": [
    "# Find all columns that are numeric\n",
    "climate_change_df_numeric = climate_change_df_average.select_dtypes(include=[np.number])"
   ]
  },
  {
   "cell_type": "code",
   "execution_count": 28,
   "metadata": {},
   "outputs": [],
   "source": [
    "# Find all columns that are numeric\n",
    "yield_df_numeric = yield_df.select_dtypes(include=[np.number])"
   ]
  },
  {
   "cell_type": "code",
   "execution_count": 29,
   "metadata": {},
   "outputs": [],
   "source": [
    "#outlier removal climate change\n",
    "climate_change_no_outlier = climate_change_df_numeric[(np.abs(stats.zscore(climate_change_df_numeric)) < 3).all(axis=1)]"
   ]
  },
  {
   "cell_type": "code",
   "execution_count": 30,
   "metadata": {},
   "outputs": [],
   "source": [
    "#outlier removal yield change\n",
    "yield_df_no_outlier = yield_df_numeric[(np.abs(stats.zscore(yield_df_numeric)) < 3).all(axis=1)]"
   ]
  },
  {
   "cell_type": "code",
   "execution_count": 31,
   "metadata": {},
   "outputs": [],
   "source": [
    "# Remove all rows that contained outliers\n",
    "climate_change_df_average = climate_change_df.loc[climate_change_no_outlier.index]"
   ]
  },
  {
   "cell_type": "code",
   "execution_count": 32,
   "metadata": {},
   "outputs": [],
   "source": [
    "# Remove all rows that contained outliers\n",
    "yield_df = yield_df.loc[yield_df_no_outlier.index]"
   ]
  },
  {
   "cell_type": "code",
   "execution_count": 33,
   "metadata": {},
   "outputs": [
    {
     "data": {
      "text/html": [
       "<div>\n",
       "<style scoped>\n",
       "    .dataframe tbody tr th:only-of-type {\n",
       "        vertical-align: middle;\n",
       "    }\n",
       "\n",
       "    .dataframe tbody tr th {\n",
       "        vertical-align: top;\n",
       "    }\n",
       "\n",
       "    .dataframe thead th {\n",
       "        text-align: right;\n",
       "    }\n",
       "</style>\n",
       "<table border=\"1\" class=\"dataframe\">\n",
       "  <thead>\n",
       "    <tr style=\"text-align: right;\">\n",
       "      <th></th>\n",
       "      <th>Area</th>\n",
       "      <th>Item</th>\n",
       "      <th>Year</th>\n",
       "      <th>hg/ha_yield</th>\n",
       "      <th>average_rain_fall_mm_per_year</th>\n",
       "      <th>pesticides_tonnes</th>\n",
       "      <th>avg_temp</th>\n",
       "    </tr>\n",
       "  </thead>\n",
       "  <tbody>\n",
       "    <tr>\n",
       "      <th>0</th>\n",
       "      <td>Albania</td>\n",
       "      <td>Maize</td>\n",
       "      <td>1990</td>\n",
       "      <td>36613</td>\n",
       "      <td>1485.0</td>\n",
       "      <td>121.00</td>\n",
       "      <td>16.37</td>\n",
       "    </tr>\n",
       "    <tr>\n",
       "      <th>1</th>\n",
       "      <td>Albania</td>\n",
       "      <td>Potatoes</td>\n",
       "      <td>1990</td>\n",
       "      <td>66667</td>\n",
       "      <td>1485.0</td>\n",
       "      <td>121.00</td>\n",
       "      <td>16.37</td>\n",
       "    </tr>\n",
       "    <tr>\n",
       "      <th>2</th>\n",
       "      <td>Albania</td>\n",
       "      <td>Rice, paddy</td>\n",
       "      <td>1990</td>\n",
       "      <td>23333</td>\n",
       "      <td>1485.0</td>\n",
       "      <td>121.00</td>\n",
       "      <td>16.37</td>\n",
       "    </tr>\n",
       "    <tr>\n",
       "      <th>3</th>\n",
       "      <td>Albania</td>\n",
       "      <td>Sorghum</td>\n",
       "      <td>1990</td>\n",
       "      <td>12500</td>\n",
       "      <td>1485.0</td>\n",
       "      <td>121.00</td>\n",
       "      <td>16.37</td>\n",
       "    </tr>\n",
       "    <tr>\n",
       "      <th>4</th>\n",
       "      <td>Albania</td>\n",
       "      <td>Soybeans</td>\n",
       "      <td>1990</td>\n",
       "      <td>7000</td>\n",
       "      <td>1485.0</td>\n",
       "      <td>121.00</td>\n",
       "      <td>16.37</td>\n",
       "    </tr>\n",
       "    <tr>\n",
       "      <th>...</th>\n",
       "      <td>...</td>\n",
       "      <td>...</td>\n",
       "      <td>...</td>\n",
       "      <td>...</td>\n",
       "      <td>...</td>\n",
       "      <td>...</td>\n",
       "      <td>...</td>\n",
       "    </tr>\n",
       "    <tr>\n",
       "      <th>28237</th>\n",
       "      <td>Zimbabwe</td>\n",
       "      <td>Rice, paddy</td>\n",
       "      <td>2013</td>\n",
       "      <td>22581</td>\n",
       "      <td>657.0</td>\n",
       "      <td>2550.07</td>\n",
       "      <td>19.76</td>\n",
       "    </tr>\n",
       "    <tr>\n",
       "      <th>28238</th>\n",
       "      <td>Zimbabwe</td>\n",
       "      <td>Sorghum</td>\n",
       "      <td>2013</td>\n",
       "      <td>3066</td>\n",
       "      <td>657.0</td>\n",
       "      <td>2550.07</td>\n",
       "      <td>19.76</td>\n",
       "    </tr>\n",
       "    <tr>\n",
       "      <th>28239</th>\n",
       "      <td>Zimbabwe</td>\n",
       "      <td>Soybeans</td>\n",
       "      <td>2013</td>\n",
       "      <td>13142</td>\n",
       "      <td>657.0</td>\n",
       "      <td>2550.07</td>\n",
       "      <td>19.76</td>\n",
       "    </tr>\n",
       "    <tr>\n",
       "      <th>28240</th>\n",
       "      <td>Zimbabwe</td>\n",
       "      <td>Sweet potatoes</td>\n",
       "      <td>2013</td>\n",
       "      <td>22222</td>\n",
       "      <td>657.0</td>\n",
       "      <td>2550.07</td>\n",
       "      <td>19.76</td>\n",
       "    </tr>\n",
       "    <tr>\n",
       "      <th>28241</th>\n",
       "      <td>Zimbabwe</td>\n",
       "      <td>Wheat</td>\n",
       "      <td>2013</td>\n",
       "      <td>22888</td>\n",
       "      <td>657.0</td>\n",
       "      <td>2550.07</td>\n",
       "      <td>19.76</td>\n",
       "    </tr>\n",
       "  </tbody>\n",
       "</table>\n",
       "<p>26747 rows × 7 columns</p>\n",
       "</div>"
      ],
      "text/plain": [
       "           Area            Item  Year  hg/ha_yield  \\\n",
       "0       Albania           Maize  1990        36613   \n",
       "1       Albania        Potatoes  1990        66667   \n",
       "2       Albania     Rice, paddy  1990        23333   \n",
       "3       Albania         Sorghum  1990        12500   \n",
       "4       Albania        Soybeans  1990         7000   \n",
       "...         ...             ...   ...          ...   \n",
       "28237  Zimbabwe     Rice, paddy  2013        22581   \n",
       "28238  Zimbabwe         Sorghum  2013         3066   \n",
       "28239  Zimbabwe        Soybeans  2013        13142   \n",
       "28240  Zimbabwe  Sweet potatoes  2013        22222   \n",
       "28241  Zimbabwe           Wheat  2013        22888   \n",
       "\n",
       "       average_rain_fall_mm_per_year  pesticides_tonnes  avg_temp  \n",
       "0                             1485.0             121.00     16.37  \n",
       "1                             1485.0             121.00     16.37  \n",
       "2                             1485.0             121.00     16.37  \n",
       "3                             1485.0             121.00     16.37  \n",
       "4                             1485.0             121.00     16.37  \n",
       "...                              ...                ...       ...  \n",
       "28237                          657.0            2550.07     19.76  \n",
       "28238                          657.0            2550.07     19.76  \n",
       "28239                          657.0            2550.07     19.76  \n",
       "28240                          657.0            2550.07     19.76  \n",
       "28241                          657.0            2550.07     19.76  \n",
       "\n",
       "[26747 rows x 7 columns]"
      ]
     },
     "execution_count": 33,
     "metadata": {},
     "output_type": "execute_result"
    }
   ],
   "source": [
    "yield_df"
   ]
  },
  {
   "cell_type": "code",
   "execution_count": 34,
   "metadata": {},
   "outputs": [
    {
     "data": {
      "text/plain": [
       "([<matplotlib.axis.YTick at 0x1eabdaba8b0>,\n",
       "  <matplotlib.axis.YTick at 0x1eabdab0d00>,\n",
       "  <matplotlib.axis.YTick at 0x1eabdab0190>,\n",
       "  <matplotlib.axis.YTick at 0x1eabdb32040>,\n",
       "  <matplotlib.axis.YTick at 0x1eabdb294f0>],\n",
       " [Text(0, 0, 'Year'),\n",
       "  Text(0, 1, 'hg/ha_yield'),\n",
       "  Text(0, 2, 'average_rain_fall_mm_per_year'),\n",
       "  Text(0, 3, 'pesticides_tonnes'),\n",
       "  Text(0, 4, 'avg_temp')])"
      ]
     },
     "execution_count": 34,
     "metadata": {},
     "output_type": "execute_result"
    },
    {
     "data": {
      "image/png": "[encoded data removed]",
      "text/plain": [
       "<Figure size 504x504 with 2 Axes>"
      ]
     },
     "metadata": {
      "needs_background": "light"
     },
     "output_type": "display_data"
    }
   ],
   "source": [
    "#look if any correlation for possible regression exercises \n",
    "plt.figure(figsize=(7,7))\n",
    "plt.matshow(yield_df.iloc[:,1:].corr(), fignum=1)\n",
    "plt.title('Correlation Matrix', position = (0.5, 1.1))\n",
    "plt.colorbar()\n",
    "plt.xticks(range(5), list(yield_df.iloc[:,2:].columns), rotation = 90)\n",
    "plt.yticks(range(5), list(yield_df.iloc[:,2:].columns))"
   ]
  },
  {
   "cell_type": "code",
   "execution_count": 35,
   "metadata": {},
   "outputs": [],
   "source": [
    "#merge dataset\n",
    "merged_df = pd.merge(climate_change_df_average, yield_df, left_on=['Country', 'Year'], right_on=['Area', 'Year'])"
   ]
  },
  {
   "cell_type": "code",
   "execution_count": 36,
   "metadata": {},
   "outputs": [
    {
     "data": {
      "text/html": [
       "<div>\n",
       "<style scoped>\n",
       "    .dataframe tbody tr th:only-of-type {\n",
       "        vertical-align: middle;\n",
       "    }\n",
       "\n",
       "    .dataframe tbody tr th {\n",
       "        vertical-align: top;\n",
       "    }\n",
       "\n",
       "    .dataframe thead th {\n",
       "        text-align: right;\n",
       "    }\n",
       "</style>\n",
       "<table border=\"1\" class=\"dataframe\">\n",
       "  <thead>\n",
       "    <tr style=\"text-align: right;\">\n",
       "      <th></th>\n",
       "      <th>Location</th>\n",
       "      <th>Country</th>\n",
       "      <th>Temperature</th>\n",
       "      <th>CO2 Emissions</th>\n",
       "      <th>Sea Level Rise</th>\n",
       "      <th>Precipitation</th>\n",
       "      <th>Humidity</th>\n",
       "      <th>Wind Speed</th>\n",
       "      <th>Year</th>\n",
       "      <th>Area</th>\n",
       "      <th>Item</th>\n",
       "      <th>hg/ha_yield</th>\n",
       "      <th>average_rain_fall_mm_per_year</th>\n",
       "      <th>pesticides_tonnes</th>\n",
       "      <th>avg_temp</th>\n",
       "    </tr>\n",
       "  </thead>\n",
       "  <tbody>\n",
       "    <tr>\n",
       "      <th>0</th>\n",
       "      <td>New Williamtown</td>\n",
       "      <td>Latvia</td>\n",
       "      <td>10.688986</td>\n",
       "      <td>403.118903</td>\n",
       "      <td>0.717506</td>\n",
       "      <td>13.835237</td>\n",
       "      <td>23.631256</td>\n",
       "      <td>18.492026</td>\n",
       "      <td>2000</td>\n",
       "      <td>Latvia</td>\n",
       "      <td>Potatoes</td>\n",
       "      <td>145634</td>\n",
       "      <td>641.0</td>\n",
       "      <td>284.72</td>\n",
       "      <td>7.47</td>\n",
       "    </tr>\n",
       "    <tr>\n",
       "      <th>1</th>\n",
       "      <td>New Williamtown</td>\n",
       "      <td>Latvia</td>\n",
       "      <td>10.688986</td>\n",
       "      <td>403.118903</td>\n",
       "      <td>0.717506</td>\n",
       "      <td>13.835237</td>\n",
       "      <td>23.631256</td>\n",
       "      <td>18.492026</td>\n",
       "      <td>2000</td>\n",
       "      <td>Latvia</td>\n",
       "      <td>Wheat</td>\n",
       "      <td>27034</td>\n",
       "      <td>641.0</td>\n",
       "      <td>284.72</td>\n",
       "      <td>7.47</td>\n",
       "    </tr>\n",
       "    <tr>\n",
       "      <th>2</th>\n",
       "      <td>Rachelburgh</td>\n",
       "      <td>Latvia</td>\n",
       "      <td>17.355325</td>\n",
       "      <td>275.769689</td>\n",
       "      <td>0.748323</td>\n",
       "      <td>92.541043</td>\n",
       "      <td>50.543222</td>\n",
       "      <td>19.078273</td>\n",
       "      <td>2000</td>\n",
       "      <td>Latvia</td>\n",
       "      <td>Potatoes</td>\n",
       "      <td>145634</td>\n",
       "      <td>641.0</td>\n",
       "      <td>284.72</td>\n",
       "      <td>7.47</td>\n",
       "    </tr>\n",
       "    <tr>\n",
       "      <th>3</th>\n",
       "      <td>Rachelburgh</td>\n",
       "      <td>Latvia</td>\n",
       "      <td>17.355325</td>\n",
       "      <td>275.769689</td>\n",
       "      <td>0.748323</td>\n",
       "      <td>92.541043</td>\n",
       "      <td>50.543222</td>\n",
       "      <td>19.078273</td>\n",
       "      <td>2000</td>\n",
       "      <td>Latvia</td>\n",
       "      <td>Wheat</td>\n",
       "      <td>27034</td>\n",
       "      <td>641.0</td>\n",
       "      <td>284.72</td>\n",
       "      <td>7.47</td>\n",
       "    </tr>\n",
       "    <tr>\n",
       "      <th>4</th>\n",
       "      <td>North Rachel</td>\n",
       "      <td>South Africa</td>\n",
       "      <td>13.814430</td>\n",
       "      <td>396.663499</td>\n",
       "      <td>1.205715</td>\n",
       "      <td>40.974084</td>\n",
       "      <td>43.982946</td>\n",
       "      <td>34.249300</td>\n",
       "      <td>2000</td>\n",
       "      <td>South Africa</td>\n",
       "      <td>Maize</td>\n",
       "      <td>28492</td>\n",
       "      <td>495.0</td>\n",
       "      <td>26857.00</td>\n",
       "      <td>20.74</td>\n",
       "    </tr>\n",
       "    <tr>\n",
       "      <th>...</th>\n",
       "      <td>...</td>\n",
       "      <td>...</td>\n",
       "      <td>...</td>\n",
       "      <td>...</td>\n",
       "      <td>...</td>\n",
       "      <td>...</td>\n",
       "      <td>...</td>\n",
       "      <td>...</td>\n",
       "      <td>...</td>\n",
       "      <td>...</td>\n",
       "      <td>...</td>\n",
       "      <td>...</td>\n",
       "      <td>...</td>\n",
       "      <td>...</td>\n",
       "      <td>...</td>\n",
       "    </tr>\n",
       "    <tr>\n",
       "      <th>18430</th>\n",
       "      <td>Graychester</td>\n",
       "      <td>Australia</td>\n",
       "      <td>9.085795</td>\n",
       "      <td>434.270722</td>\n",
       "      <td>-2.002027</td>\n",
       "      <td>0.679430</td>\n",
       "      <td>84.277177</td>\n",
       "      <td>28.460437</td>\n",
       "      <td>2010</td>\n",
       "      <td>Australia</td>\n",
       "      <td>Wheat</td>\n",
       "      <td>15729</td>\n",
       "      <td>534.0</td>\n",
       "      <td>42169.39</td>\n",
       "      <td>20.33</td>\n",
       "    </tr>\n",
       "    <tr>\n",
       "      <th>18431</th>\n",
       "      <td>Graychester</td>\n",
       "      <td>Australia</td>\n",
       "      <td>9.085795</td>\n",
       "      <td>434.270722</td>\n",
       "      <td>-2.002027</td>\n",
       "      <td>0.679430</td>\n",
       "      <td>84.277177</td>\n",
       "      <td>28.460437</td>\n",
       "      <td>2010</td>\n",
       "      <td>Australia</td>\n",
       "      <td>Wheat</td>\n",
       "      <td>15729</td>\n",
       "      <td>534.0</td>\n",
       "      <td>42169.39</td>\n",
       "      <td>12.37</td>\n",
       "    </tr>\n",
       "    <tr>\n",
       "      <th>18432</th>\n",
       "      <td>Graychester</td>\n",
       "      <td>Australia</td>\n",
       "      <td>9.085795</td>\n",
       "      <td>434.270722</td>\n",
       "      <td>-2.002027</td>\n",
       "      <td>0.679430</td>\n",
       "      <td>84.277177</td>\n",
       "      <td>28.460437</td>\n",
       "      <td>2010</td>\n",
       "      <td>Australia</td>\n",
       "      <td>Wheat</td>\n",
       "      <td>15729</td>\n",
       "      <td>534.0</td>\n",
       "      <td>42169.39</td>\n",
       "      <td>14.23</td>\n",
       "    </tr>\n",
       "    <tr>\n",
       "      <th>18433</th>\n",
       "      <td>Graychester</td>\n",
       "      <td>Australia</td>\n",
       "      <td>9.085795</td>\n",
       "      <td>434.270722</td>\n",
       "      <td>-2.002027</td>\n",
       "      <td>0.679430</td>\n",
       "      <td>84.277177</td>\n",
       "      <td>28.460437</td>\n",
       "      <td>2010</td>\n",
       "      <td>Australia</td>\n",
       "      <td>Wheat</td>\n",
       "      <td>15729</td>\n",
       "      <td>534.0</td>\n",
       "      <td>42169.39</td>\n",
       "      <td>19.09</td>\n",
       "    </tr>\n",
       "    <tr>\n",
       "      <th>18434</th>\n",
       "      <td>Graychester</td>\n",
       "      <td>Australia</td>\n",
       "      <td>9.085795</td>\n",
       "      <td>434.270722</td>\n",
       "      <td>-2.002027</td>\n",
       "      <td>0.679430</td>\n",
       "      <td>84.277177</td>\n",
       "      <td>28.460437</td>\n",
       "      <td>2010</td>\n",
       "      <td>Australia</td>\n",
       "      <td>Wheat</td>\n",
       "      <td>15729</td>\n",
       "      <td>534.0</td>\n",
       "      <td>42169.39</td>\n",
       "      <td>18.00</td>\n",
       "    </tr>\n",
       "  </tbody>\n",
       "</table>\n",
       "<p>18435 rows × 15 columns</p>\n",
       "</div>"
      ],
      "text/plain": [
       "              Location       Country  Temperature  CO2 Emissions  \\\n",
       "0      New Williamtown        Latvia    10.688986     403.118903   \n",
       "1      New Williamtown        Latvia    10.688986     403.118903   \n",
       "2          Rachelburgh        Latvia    17.355325     275.769689   \n",
       "3          Rachelburgh        Latvia    17.355325     275.769689   \n",
       "4         North Rachel  South Africa    13.814430     396.663499   \n",
       "...                ...           ...          ...            ...   \n",
       "18430      Graychester     Australia     9.085795     434.270722   \n",
       "18431      Graychester     Australia     9.085795     434.270722   \n",
       "18432      Graychester     Australia     9.085795     434.270722   \n",
       "18433      Graychester     Australia     9.085795     434.270722   \n",
       "18434      Graychester     Australia     9.085795     434.270722   \n",
       "\n",
       "       Sea Level Rise  Precipitation   Humidity  Wind Speed  Year  \\\n",
       "0            0.717506      13.835237  23.631256   18.492026  2000   \n",
       "1            0.717506      13.835237  23.631256   18.492026  2000   \n",
       "2            0.748323      92.541043  50.543222   19.078273  2000   \n",
       "3            0.748323      92.541043  50.543222   19.078273  2000   \n",
       "4            1.205715      40.974084  43.982946   34.249300  2000   \n",
       "...               ...            ...        ...         ...   ...   \n",
       "18430       -2.002027       0.679430  84.277177   28.460437  2010   \n",
       "18431       -2.002027       0.679430  84.277177   28.460437  2010   \n",
       "18432       -2.002027       0.679430  84.277177   28.460437  2010   \n",
       "18433       -2.002027       0.679430  84.277177   28.460437  2010   \n",
       "18434       -2.002027       0.679430  84.277177   28.460437  2010   \n",
       "\n",
       "               Area      Item  hg/ha_yield  average_rain_fall_mm_per_year  \\\n",
       "0            Latvia  Potatoes       145634                          641.0   \n",
       "1            Latvia     Wheat        27034                          641.0   \n",
       "2            Latvia  Potatoes       145634                          641.0   \n",
       "3            Latvia     Wheat        27034                          641.0   \n",
       "4      South Africa     Maize        28492                          495.0   \n",
       "...             ...       ...          ...                            ...   \n",
       "18430     Australia     Wheat        15729                          534.0   \n",
       "18431     Australia     Wheat        15729                          534.0   \n",
       "18432     Australia     Wheat        15729                          534.0   \n",
       "18433     Australia     Wheat        15729                          534.0   \n",
       "18434     Australia     Wheat        15729                          534.0   \n",
       "\n",
       "       pesticides_tonnes  avg_temp  \n",
       "0                 284.72      7.47  \n",
       "1                 284.72      7.47  \n",
       "2                 284.72      7.47  \n",
       "3                 284.72      7.47  \n",
       "4               26857.00     20.74  \n",
       "...                  ...       ...  \n",
       "18430           42169.39     20.33  \n",
       "18431           42169.39     12.37  \n",
       "18432           42169.39     14.23  \n",
       "18433           42169.39     19.09  \n",
       "18434           42169.39     18.00  \n",
       "\n",
       "[18435 rows x 15 columns]"
      ]
     },
     "execution_count": 36,
     "metadata": {},
     "output_type": "execute_result"
    }
   ],
   "source": [
    "merged_df"
   ]
  },
  {
   "cell_type": "code",
   "execution_count": null,
   "metadata": {},
   "outputs": [],
   "source": []
  },
  {
   "cell_type": "markdown",
   "metadata": {},
   "source": [
    "### Methodology\n",
    "\n",
    "1. Explan your Deep Learning process / methodology\n",
    "\n",
    "\n",
    "\n",
    "2. Introduce the Deep Neural Networks you used in your project\n",
    " * Model 1\n",
    "    * Description \n",
    " \n",
    " * Model 2\n",
    "    * Description\n",
    " \n",
    " * Ensemble method\n",
    "     * Description \n",
    " \n",
    " \n",
    "3. Add keywords  \n",
    "**Keywords:** natural language processing, sentiment analysis, clustering, binary classification, multi-label classification, prediction\n",
    "\t___\n",
    " **Example**\n",
    "* ConvNet\n",
    "    * A convolutional neural network (CNN, or ConvNet) is a class of deep neural networks, most commonly applied to analyzing visual imagery(source Wikipedia). \n",
    " \n",
    "* **Keywords:** supervised learning, classification, ..."
   ]
  },
  {
   "cell_type": "markdown",
   "metadata": {},
   "source": [
    "### Model Fitting and Validation\n",
    "\n",
    "1. model 1 \n",
    "    - decription \n",
    "2. model 2\n",
    "    - decription "
   ]
  },
  {
   "cell_type": "code",
   "execution_count": 37,
   "metadata": {},
   "outputs": [],
   "source": [
    "# One-hot encode country\n",
    "X = pd.get_dummies(merged_df, columns=['Country'])\n",
    "\n",
    "X = pd.get_dummies(X, columns=['Item'])\n",
    "\n",
    "# X is all the fields that predict hg/ha_yield\n",
    "X = X.drop('hg/ha_yield', axis=1)\n",
    "X = X.drop('Location', axis=1)\n",
    "X = X.drop('Area', axis=1)\n",
    "Y = merged_df['hg/ha_yield']\n"
   ]
  },
  {
   "cell_type": "code",
   "execution_count": 38,
   "metadata": {},
   "outputs": [
    {
     "data": {
      "text/html": [
       "<div>\n",
       "<style scoped>\n",
       "    .dataframe tbody tr th:only-of-type {\n",
       "        vertical-align: middle;\n",
       "    }\n",
       "\n",
       "    .dataframe tbody tr th {\n",
       "        vertical-align: top;\n",
       "    }\n",
       "\n",
       "    .dataframe thead th {\n",
       "        text-align: right;\n",
       "    }\n",
       "</style>\n",
       "<table border=\"1\" class=\"dataframe\">\n",
       "  <thead>\n",
       "    <tr style=\"text-align: right;\">\n",
       "      <th></th>\n",
       "      <th>Temperature</th>\n",
       "      <th>CO2 Emissions</th>\n",
       "      <th>Sea Level Rise</th>\n",
       "      <th>Precipitation</th>\n",
       "      <th>Humidity</th>\n",
       "      <th>Wind Speed</th>\n",
       "      <th>Year</th>\n",
       "      <th>average_rain_fall_mm_per_year</th>\n",
       "      <th>pesticides_tonnes</th>\n",
       "      <th>avg_temp</th>\n",
       "      <th>...</th>\n",
       "      <th>Item_Cassava</th>\n",
       "      <th>Item_Maize</th>\n",
       "      <th>Item_Plantains and others</th>\n",
       "      <th>Item_Potatoes</th>\n",
       "      <th>Item_Rice, paddy</th>\n",
       "      <th>Item_Sorghum</th>\n",
       "      <th>Item_Soybeans</th>\n",
       "      <th>Item_Sweet potatoes</th>\n",
       "      <th>Item_Wheat</th>\n",
       "      <th>Item_Yams</th>\n",
       "    </tr>\n",
       "  </thead>\n",
       "  <tbody>\n",
       "    <tr>\n",
       "      <th>0</th>\n",
       "      <td>10.688986</td>\n",
       "      <td>403.118903</td>\n",
       "      <td>0.717506</td>\n",
       "      <td>13.835237</td>\n",
       "      <td>23.631256</td>\n",
       "      <td>18.492026</td>\n",
       "      <td>2000</td>\n",
       "      <td>641.0</td>\n",
       "      <td>284.72</td>\n",
       "      <td>7.47</td>\n",
       "      <td>...</td>\n",
       "      <td>0</td>\n",
       "      <td>0</td>\n",
       "      <td>0</td>\n",
       "      <td>1</td>\n",
       "      <td>0</td>\n",
       "      <td>0</td>\n",
       "      <td>0</td>\n",
       "      <td>0</td>\n",
       "      <td>0</td>\n",
       "      <td>0</td>\n",
       "    </tr>\n",
       "    <tr>\n",
       "      <th>1</th>\n",
       "      <td>10.688986</td>\n",
       "      <td>403.118903</td>\n",
       "      <td>0.717506</td>\n",
       "      <td>13.835237</td>\n",
       "      <td>23.631256</td>\n",
       "      <td>18.492026</td>\n",
       "      <td>2000</td>\n",
       "      <td>641.0</td>\n",
       "      <td>284.72</td>\n",
       "      <td>7.47</td>\n",
       "      <td>...</td>\n",
       "      <td>0</td>\n",
       "      <td>0</td>\n",
       "      <td>0</td>\n",
       "      <td>0</td>\n",
       "      <td>0</td>\n",
       "      <td>0</td>\n",
       "      <td>0</td>\n",
       "      <td>0</td>\n",
       "      <td>1</td>\n",
       "      <td>0</td>\n",
       "    </tr>\n",
       "    <tr>\n",
       "      <th>2</th>\n",
       "      <td>17.355325</td>\n",
       "      <td>275.769689</td>\n",
       "      <td>0.748323</td>\n",
       "      <td>92.541043</td>\n",
       "      <td>50.543222</td>\n",
       "      <td>19.078273</td>\n",
       "      <td>2000</td>\n",
       "      <td>641.0</td>\n",
       "      <td>284.72</td>\n",
       "      <td>7.47</td>\n",
       "      <td>...</td>\n",
       "      <td>0</td>\n",
       "      <td>0</td>\n",
       "      <td>0</td>\n",
       "      <td>1</td>\n",
       "      <td>0</td>\n",
       "      <td>0</td>\n",
       "      <td>0</td>\n",
       "      <td>0</td>\n",
       "      <td>0</td>\n",
       "      <td>0</td>\n",
       "    </tr>\n",
       "    <tr>\n",
       "      <th>3</th>\n",
       "      <td>17.355325</td>\n",
       "      <td>275.769689</td>\n",
       "      <td>0.748323</td>\n",
       "      <td>92.541043</td>\n",
       "      <td>50.543222</td>\n",
       "      <td>19.078273</td>\n",
       "      <td>2000</td>\n",
       "      <td>641.0</td>\n",
       "      <td>284.72</td>\n",
       "      <td>7.47</td>\n",
       "      <td>...</td>\n",
       "      <td>0</td>\n",
       "      <td>0</td>\n",
       "      <td>0</td>\n",
       "      <td>0</td>\n",
       "      <td>0</td>\n",
       "      <td>0</td>\n",
       "      <td>0</td>\n",
       "      <td>0</td>\n",
       "      <td>1</td>\n",
       "      <td>0</td>\n",
       "    </tr>\n",
       "    <tr>\n",
       "      <th>4</th>\n",
       "      <td>13.814430</td>\n",
       "      <td>396.663499</td>\n",
       "      <td>1.205715</td>\n",
       "      <td>40.974084</td>\n",
       "      <td>43.982946</td>\n",
       "      <td>34.249300</td>\n",
       "      <td>2000</td>\n",
       "      <td>495.0</td>\n",
       "      <td>26857.00</td>\n",
       "      <td>20.74</td>\n",
       "      <td>...</td>\n",
       "      <td>0</td>\n",
       "      <td>1</td>\n",
       "      <td>0</td>\n",
       "      <td>0</td>\n",
       "      <td>0</td>\n",
       "      <td>0</td>\n",
       "      <td>0</td>\n",
       "      <td>0</td>\n",
       "      <td>0</td>\n",
       "      <td>0</td>\n",
       "    </tr>\n",
       "    <tr>\n",
       "      <th>...</th>\n",
       "      <td>...</td>\n",
       "      <td>...</td>\n",
       "      <td>...</td>\n",
       "      <td>...</td>\n",
       "      <td>...</td>\n",
       "      <td>...</td>\n",
       "      <td>...</td>\n",
       "      <td>...</td>\n",
       "      <td>...</td>\n",
       "      <td>...</td>\n",
       "      <td>...</td>\n",
       "      <td>...</td>\n",
       "      <td>...</td>\n",
       "      <td>...</td>\n",
       "      <td>...</td>\n",
       "      <td>...</td>\n",
       "      <td>...</td>\n",
       "      <td>...</td>\n",
       "      <td>...</td>\n",
       "      <td>...</td>\n",
       "      <td>...</td>\n",
       "    </tr>\n",
       "    <tr>\n",
       "      <th>18430</th>\n",
       "      <td>9.085795</td>\n",
       "      <td>434.270722</td>\n",
       "      <td>-2.002027</td>\n",
       "      <td>0.679430</td>\n",
       "      <td>84.277177</td>\n",
       "      <td>28.460437</td>\n",
       "      <td>2010</td>\n",
       "      <td>534.0</td>\n",
       "      <td>42169.39</td>\n",
       "      <td>20.33</td>\n",
       "      <td>...</td>\n",
       "      <td>0</td>\n",
       "      <td>0</td>\n",
       "      <td>0</td>\n",
       "      <td>0</td>\n",
       "      <td>0</td>\n",
       "      <td>0</td>\n",
       "      <td>0</td>\n",
       "      <td>0</td>\n",
       "      <td>1</td>\n",
       "      <td>0</td>\n",
       "    </tr>\n",
       "    <tr>\n",
       "      <th>18431</th>\n",
       "      <td>9.085795</td>\n",
       "      <td>434.270722</td>\n",
       "      <td>-2.002027</td>\n",
       "      <td>0.679430</td>\n",
       "      <td>84.277177</td>\n",
       "      <td>28.460437</td>\n",
       "      <td>2010</td>\n",
       "      <td>534.0</td>\n",
       "      <td>42169.39</td>\n",
       "      <td>12.37</td>\n",
       "      <td>...</td>\n",
       "      <td>0</td>\n",
       "      <td>0</td>\n",
       "      <td>0</td>\n",
       "      <td>0</td>\n",
       "      <td>0</td>\n",
       "      <td>0</td>\n",
       "      <td>0</td>\n",
       "      <td>0</td>\n",
       "      <td>1</td>\n",
       "      <td>0</td>\n",
       "    </tr>\n",
       "    <tr>\n",
       "      <th>18432</th>\n",
       "      <td>9.085795</td>\n",
       "      <td>434.270722</td>\n",
       "      <td>-2.002027</td>\n",
       "      <td>0.679430</td>\n",
       "      <td>84.277177</td>\n",
       "      <td>28.460437</td>\n",
       "      <td>2010</td>\n",
       "      <td>534.0</td>\n",
       "      <td>42169.39</td>\n",
       "      <td>14.23</td>\n",
       "      <td>...</td>\n",
       "      <td>0</td>\n",
       "      <td>0</td>\n",
       "      <td>0</td>\n",
       "      <td>0</td>\n",
       "      <td>0</td>\n",
       "      <td>0</td>\n",
       "      <td>0</td>\n",
       "      <td>0</td>\n",
       "      <td>1</td>\n",
       "      <td>0</td>\n",
       "    </tr>\n",
       "    <tr>\n",
       "      <th>18433</th>\n",
       "      <td>9.085795</td>\n",
       "      <td>434.270722</td>\n",
       "      <td>-2.002027</td>\n",
       "      <td>0.679430</td>\n",
       "      <td>84.277177</td>\n",
       "      <td>28.460437</td>\n",
       "      <td>2010</td>\n",
       "      <td>534.0</td>\n",
       "      <td>42169.39</td>\n",
       "      <td>19.09</td>\n",
       "      <td>...</td>\n",
       "      <td>0</td>\n",
       "      <td>0</td>\n",
       "      <td>0</td>\n",
       "      <td>0</td>\n",
       "      <td>0</td>\n",
       "      <td>0</td>\n",
       "      <td>0</td>\n",
       "      <td>0</td>\n",
       "      <td>1</td>\n",
       "      <td>0</td>\n",
       "    </tr>\n",
       "    <tr>\n",
       "      <th>18434</th>\n",
       "      <td>9.085795</td>\n",
       "      <td>434.270722</td>\n",
       "      <td>-2.002027</td>\n",
       "      <td>0.679430</td>\n",
       "      <td>84.277177</td>\n",
       "      <td>28.460437</td>\n",
       "      <td>2010</td>\n",
       "      <td>534.0</td>\n",
       "      <td>42169.39</td>\n",
       "      <td>18.00</td>\n",
       "      <td>...</td>\n",
       "      <td>0</td>\n",
       "      <td>0</td>\n",
       "      <td>0</td>\n",
       "      <td>0</td>\n",
       "      <td>0</td>\n",
       "      <td>0</td>\n",
       "      <td>0</td>\n",
       "      <td>0</td>\n",
       "      <td>1</td>\n",
       "      <td>0</td>\n",
       "    </tr>\n",
       "  </tbody>\n",
       "</table>\n",
       "<p>18435 rows × 119 columns</p>\n",
       "</div>"
      ],
      "text/plain": [
       "       Temperature  CO2 Emissions  Sea Level Rise  Precipitation   Humidity  \\\n",
       "0        10.688986     403.118903        0.717506      13.835237  23.631256   \n",
       "1        10.688986     403.118903        0.717506      13.835237  23.631256   \n",
       "2        17.355325     275.769689        0.748323      92.541043  50.543222   \n",
       "3        17.355325     275.769689        0.748323      92.541043  50.543222   \n",
       "4        13.814430     396.663499        1.205715      40.974084  43.982946   \n",
       "...            ...            ...             ...            ...        ...   \n",
       "18430     9.085795     434.270722       -2.002027       0.679430  84.277177   \n",
       "18431     9.085795     434.270722       -2.002027       0.679430  84.277177   \n",
       "18432     9.085795     434.270722       -2.002027       0.679430  84.277177   \n",
       "18433     9.085795     434.270722       -2.002027       0.679430  84.277177   \n",
       "18434     9.085795     434.270722       -2.002027       0.679430  84.277177   \n",
       "\n",
       "       Wind Speed  Year  average_rain_fall_mm_per_year  pesticides_tonnes  \\\n",
       "0       18.492026  2000                          641.0             284.72   \n",
       "1       18.492026  2000                          641.0             284.72   \n",
       "2       19.078273  2000                          641.0             284.72   \n",
       "3       19.078273  2000                          641.0             284.72   \n",
       "4       34.249300  2000                          495.0           26857.00   \n",
       "...           ...   ...                            ...                ...   \n",
       "18430   28.460437  2010                          534.0           42169.39   \n",
       "18431   28.460437  2010                          534.0           42169.39   \n",
       "18432   28.460437  2010                          534.0           42169.39   \n",
       "18433   28.460437  2010                          534.0           42169.39   \n",
       "18434   28.460437  2010                          534.0           42169.39   \n",
       "\n",
       "       avg_temp  ...  Item_Cassava  Item_Maize  Item_Plantains and others  \\\n",
       "0          7.47  ...             0           0                          0   \n",
       "1          7.47  ...             0           0                          0   \n",
       "2          7.47  ...             0           0                          0   \n",
       "3          7.47  ...             0           0                          0   \n",
       "4         20.74  ...             0           1                          0   \n",
       "...         ...  ...           ...         ...                        ...   \n",
       "18430     20.33  ...             0           0                          0   \n",
       "18431     12.37  ...             0           0                          0   \n",
       "18432     14.23  ...             0           0                          0   \n",
       "18433     19.09  ...             0           0                          0   \n",
       "18434     18.00  ...             0           0                          0   \n",
       "\n",
       "       Item_Potatoes  Item_Rice, paddy  Item_Sorghum  Item_Soybeans  \\\n",
       "0                  1                 0             0              0   \n",
       "1                  0                 0             0              0   \n",
       "2                  1                 0             0              0   \n",
       "3                  0                 0             0              0   \n",
       "4                  0                 0             0              0   \n",
       "...              ...               ...           ...            ...   \n",
       "18430              0                 0             0              0   \n",
       "18431              0                 0             0              0   \n",
       "18432              0                 0             0              0   \n",
       "18433              0                 0             0              0   \n",
       "18434              0                 0             0              0   \n",
       "\n",
       "       Item_Sweet potatoes  Item_Wheat  Item_Yams  \n",
       "0                        0           0          0  \n",
       "1                        0           1          0  \n",
       "2                        0           0          0  \n",
       "3                        0           1          0  \n",
       "4                        0           0          0  \n",
       "...                    ...         ...        ...  \n",
       "18430                    0           1          0  \n",
       "18431                    0           1          0  \n",
       "18432                    0           1          0  \n",
       "18433                    0           1          0  \n",
       "18434                    0           1          0  \n",
       "\n",
       "[18435 rows x 119 columns]"
      ]
     },
     "execution_count": 38,
     "metadata": {},
     "output_type": "execute_result"
    }
   ],
   "source": [
    "X"
   ]
  },
  {
   "cell_type": "code",
   "execution_count": 39,
   "metadata": {},
   "outputs": [],
   "source": [
    "# Standardize the dataset to feed into the neural network\n",
    "scaler = StandardScaler()\n",
    "X_scaled = scaler.fit_transform(X)"
   ]
  },
  {
   "cell_type": "code",
   "execution_count": 40,
   "metadata": {},
   "outputs": [],
   "source": [
    "X_train, X_test, Y_train, Y_test = train_test_split(X_scaled, Y, test_size=0.2)\n"
   ]
  },
  {
   "cell_type": "code",
   "execution_count": 41,
   "metadata": {},
   "outputs": [],
   "source": [
    "def build_model(hp):\n",
    "    model = Sequential()\n",
    "    model.add(InputLayer(input_shape=(X_train.shape[1],)))\n",
    "\n",
    "    # Create a variable number of layers between 2 and 5 along with an associated Dropout layer\n",
    "    for i in range(hp.Int('num_layers', 2, 5)):\n",
    "        model.add(Dense(units=hp.Int('units_' + str(i), min_value=32, max_value=512, step=32),\n",
    "                        activation='relu'))\n",
    "        model.add(Dropout(rate=hp.Float('dropout_' + str(i), min_value=0.0, max_value=0.5, step=0.1)))\n",
    "\n",
    "    # Regression so just one unit needed\n",
    "    model.add(Dense(1))\n",
    "\n",
    "    # Adjust the learning rate dynamically, go off of val_loss for mean_squared_error\n",
    "    model.compile(optimizer=Adam(hp.Float('learning_rate', 1e-4, 1e-2, sampling='log')),\n",
    "                  loss='mean_squared_error')\n",
    "    return model"
   ]
  },
  {
   "cell_type": "code",
   "execution_count": null,
   "metadata": {},
   "outputs": [],
   "source": []
  },
  {
   "cell_type": "code",
   "execution_count": null,
   "metadata": {},
   "outputs": [],
   "source": []
  },
  {
   "cell_type": "code",
   "execution_count": null,
   "metadata": {},
   "outputs": [],
   "source": []
  },
  {
   "cell_type": "markdown",
   "metadata": {},
   "source": [
    "### Model Evaluation \n",
    "\n",
    "* Examine your models (coefficients, parameters, errors, etc...)\n",
    "\n",
    "* Compute and interpret your results in terms of accuracy, precision, recall, ROC etc. "
   ]
  },
  {
   "cell_type": "code",
   "execution_count": 42,
   "metadata": {},
   "outputs": [
    {
     "ename": "NameError",
     "evalue": "name 'RandomSearch' is not defined",
     "output_type": "error",
     "traceback": [
      "\u001b[1;31m---------------------------------------------------------------------------\u001b[0m",
      "\u001b[1;31mNameError\u001b[0m                                 Traceback (most recent call last)",
      "\u001b[1;32m~\\AppData\\Local\\Temp\\ipykernel_12512\\1753657337.py\u001b[0m in \u001b[0;36m<module>\u001b[1;34m\u001b[0m\n\u001b[0;32m      1\u001b[0m \u001b[1;31m# Find the optimal hyperparameters via keras tuner\u001b[0m\u001b[1;33m\u001b[0m\u001b[1;33m\u001b[0m\u001b[0m\n\u001b[1;32m----> 2\u001b[1;33m tuner = RandomSearch(\n\u001b[0m\u001b[0;32m      3\u001b[0m     \u001b[0mbuild_model\u001b[0m\u001b[1;33m,\u001b[0m\u001b[1;33m\u001b[0m\u001b[1;33m\u001b[0m\u001b[0m\n\u001b[0;32m      4\u001b[0m     \u001b[0mobjective\u001b[0m\u001b[1;33m=\u001b[0m\u001b[1;34m'val_loss'\u001b[0m\u001b[1;33m,\u001b[0m\u001b[1;33m\u001b[0m\u001b[1;33m\u001b[0m\u001b[0m\n\u001b[0;32m      5\u001b[0m     \u001b[0mmax_trials\u001b[0m\u001b[1;33m=\u001b[0m\u001b[1;36m160\u001b[0m\u001b[1;33m,\u001b[0m\u001b[1;33m\u001b[0m\u001b[1;33m\u001b[0m\u001b[0m\n",
      "\u001b[1;31mNameError\u001b[0m: name 'RandomSearch' is not defined"
     ]
    }
   ],
   "source": [
    "# Find the optimal hyperparameters via keras tuner\n",
    "tuner = RandomSearch(\n",
    "    build_model,\n",
    "    objective='val_loss',\n",
    "    max_trials=160,\n",
    "    executions_per_trial=1\n",
    ")\n",
    "\n",
    "early_stopping = EarlyStopping(\n",
    "    monitor='val_loss',\n",
    "    patience=5,\n",
    "    restore_best_weights=True\n",
    ")"
   ]
  },
  {
   "cell_type": "code",
   "execution_count": null,
   "metadata": {},
   "outputs": [],
   "source": [
    "tuner.search(X_train, Y_train, validation_split=0.2, epochs=20, batch_size=32)\n",
    "best_model = tuner.get_best_models(num_models=1)[0]\n"
   ]
  },
  {
   "cell_type": "code",
   "execution_count": 43,
   "metadata": {},
   "outputs": [
    {
     "name": "stdout",
     "output_type": "stream",
     "text": [
      "Epoch 1/100\n",
      "369/369 [==============================] - 1s 2ms/step - loss: 5076704256.0000 - val_loss: 1176045824.0000\n",
      "Epoch 2/100\n",
      "369/369 [==============================] - 1s 2ms/step - loss: 1037246464.0000 - val_loss: 863964096.0000\n",
      "Epoch 3/100\n",
      "369/369 [==============================] - 1s 2ms/step - loss: 866441152.0000 - val_loss: 747739264.0000\n",
      "Epoch 4/100\n",
      "369/369 [==============================] - 1s 2ms/step - loss: 777321280.0000 - val_loss: 663114112.0000\n",
      "Epoch 5/100\n",
      "369/369 [==============================] - 1s 2ms/step - loss: 716805888.0000 - val_loss: 607915584.0000\n",
      "Epoch 6/100\n",
      "369/369 [==============================] - 1s 2ms/step - loss: 687431936.0000 - val_loss: 553032832.0000\n",
      "Epoch 7/100\n",
      "369/369 [==============================] - 1s 2ms/step - loss: 624770240.0000 - val_loss: 492115616.0000\n",
      "Epoch 8/100\n",
      "369/369 [==============================] - 1s 2ms/step - loss: 564016896.0000 - val_loss: 422047264.0000\n",
      "Epoch 9/100\n",
      "369/369 [==============================] - 1s 2ms/step - loss: 509457184.0000 - val_loss: 361313440.0000\n",
      "Epoch 10/100\n",
      "369/369 [==============================] - 1s 2ms/step - loss: 428689792.0000 - val_loss: 296931904.0000\n",
      "Epoch 11/100\n",
      "369/369 [==============================] - 1s 2ms/step - loss: 379451552.0000 - val_loss: 244359840.0000\n",
      "Epoch 12/100\n",
      "369/369 [==============================] - 1s 2ms/step - loss: 346861920.0000 - val_loss: 221535696.0000\n",
      "Epoch 13/100\n",
      "369/369 [==============================] - 1s 2ms/step - loss: 311292608.0000 - val_loss: 187202784.0000\n",
      "Epoch 14/100\n",
      "369/369 [==============================] - 1s 2ms/step - loss: 293788064.0000 - val_loss: 192007168.0000\n",
      "Epoch 15/100\n",
      "369/369 [==============================] - 1s 2ms/step - loss: 285622560.0000 - val_loss: 151288704.0000\n",
      "Epoch 16/100\n",
      "369/369 [==============================] - 1s 2ms/step - loss: 264420416.0000 - val_loss: 131343160.0000\n",
      "Epoch 17/100\n",
      "369/369 [==============================] - 1s 2ms/step - loss: 252692192.0000 - val_loss: 124466024.0000\n",
      "Epoch 18/100\n",
      "369/369 [==============================] - 1s 2ms/step - loss: 246110160.0000 - val_loss: 108888672.0000\n",
      "Epoch 19/100\n",
      "369/369 [==============================] - 1s 2ms/step - loss: 232516624.0000 - val_loss: 114359576.0000\n",
      "Epoch 20/100\n",
      "369/369 [==============================] - 1s 2ms/step - loss: 227648176.0000 - val_loss: 97651848.0000\n",
      "Epoch 21/100\n",
      "369/369 [==============================] - 1s 2ms/step - loss: 221967536.0000 - val_loss: 98879976.0000\n",
      "Epoch 22/100\n",
      "369/369 [==============================] - 1s 2ms/step - loss: 233479072.0000 - val_loss: 91735728.0000\n",
      "Epoch 23/100\n",
      "369/369 [==============================] - 1s 2ms/step - loss: 217721840.0000 - val_loss: 92622544.0000\n",
      "Epoch 24/100\n",
      "369/369 [==============================] - 1s 2ms/step - loss: 214819504.0000 - val_loss: 98152488.0000\n",
      "Epoch 25/100\n",
      "369/369 [==============================] - 1s 2ms/step - loss: 205721696.0000 - val_loss: 95085152.0000\n",
      "Epoch 26/100\n",
      "369/369 [==============================] - 1s 2ms/step - loss: 214383776.0000 - val_loss: 94495328.0000\n",
      "Epoch 27/100\n",
      "369/369 [==============================] - 1s 2ms/step - loss: 202889280.0000 - val_loss: 78436448.0000\n",
      "Epoch 28/100\n",
      "369/369 [==============================] - 1s 2ms/step - loss: 207452640.0000 - val_loss: 77798200.0000\n",
      "Epoch 29/100\n",
      "369/369 [==============================] - 1s 2ms/step - loss: 200981104.0000 - val_loss: 82262152.0000\n",
      "Epoch 30/100\n",
      "369/369 [==============================] - 1s 2ms/step - loss: 200514208.0000 - val_loss: 86487768.0000\n",
      "Epoch 31/100\n",
      "369/369 [==============================] - 1s 2ms/step - loss: 194580352.0000 - val_loss: 85195736.0000\n",
      "Epoch 32/100\n",
      "369/369 [==============================] - 1s 2ms/step - loss: 205201472.0000 - val_loss: 75910336.0000\n",
      "Epoch 33/100\n",
      "369/369 [==============================] - 1s 2ms/step - loss: 198944832.0000 - val_loss: 77431776.0000\n",
      "Epoch 34/100\n",
      "369/369 [==============================] - 1s 2ms/step - loss: 199385712.0000 - val_loss: 77282456.0000\n",
      "Epoch 35/100\n",
      "369/369 [==============================] - 1s 2ms/step - loss: 190569584.0000 - val_loss: 73351784.0000\n",
      "Epoch 36/100\n",
      "369/369 [==============================] - 1s 2ms/step - loss: 192174880.0000 - val_loss: 73557728.0000\n",
      "Epoch 37/100\n",
      "369/369 [==============================] - 1s 2ms/step - loss: 199683536.0000 - val_loss: 81643840.0000\n",
      "Epoch 38/100\n",
      "369/369 [==============================] - 1s 2ms/step - loss: 197292288.0000 - val_loss: 72890160.0000\n",
      "Epoch 39/100\n",
      "369/369 [==============================] - 1s 2ms/step - loss: 190643872.0000 - val_loss: 73083360.0000\n",
      "Epoch 40/100\n",
      "369/369 [==============================] - 1s 2ms/step - loss: 185718864.0000 - val_loss: 76307400.0000\n",
      "Epoch 41/100\n",
      "369/369 [==============================] - 1s 2ms/step - loss: 186953728.0000 - val_loss: 80018920.0000\n",
      "Epoch 42/100\n",
      "369/369 [==============================] - 1s 2ms/step - loss: 192191168.0000 - val_loss: 71136360.0000\n",
      "Epoch 43/100\n",
      "369/369 [==============================] - 1s 2ms/step - loss: 191570272.0000 - val_loss: 69767224.0000\n",
      "Epoch 44/100\n",
      "369/369 [==============================] - 1s 2ms/step - loss: 177515056.0000 - val_loss: 85906336.0000\n",
      "Epoch 45/100\n",
      "369/369 [==============================] - 1s 2ms/step - loss: 182286016.0000 - val_loss: 71605136.0000\n",
      "Epoch 46/100\n",
      "369/369 [==============================] - 1s 2ms/step - loss: 185520128.0000 - val_loss: 70192288.0000\n",
      "Epoch 47/100\n",
      "369/369 [==============================] - 1s 2ms/step - loss: 191249184.0000 - val_loss: 71053152.0000\n",
      "Epoch 48/100\n",
      "369/369 [==============================] - 1s 2ms/step - loss: 175224192.0000 - val_loss: 79627440.0000\n",
      "Epoch 49/100\n",
      "369/369 [==============================] - 1s 2ms/step - loss: 174471008.0000 - val_loss: 67189848.0000\n",
      "Epoch 50/100\n",
      "369/369 [==============================] - 1s 2ms/step - loss: 173383552.0000 - val_loss: 67043812.0000\n",
      "Epoch 51/100\n",
      "369/369 [==============================] - 1s 2ms/step - loss: 177880064.0000 - val_loss: 63537536.0000\n",
      "Epoch 52/100\n",
      "369/369 [==============================] - 1s 2ms/step - loss: 178671888.0000 - val_loss: 68640776.0000\n",
      "Epoch 53/100\n",
      "369/369 [==============================] - 1s 2ms/step - loss: 163189504.0000 - val_loss: 70499256.0000\n",
      "Epoch 54/100\n",
      "369/369 [==============================] - 1s 2ms/step - loss: 176657248.0000 - val_loss: 66207004.0000\n",
      "Epoch 55/100\n",
      "369/369 [==============================] - 1s 2ms/step - loss: 165670688.0000 - val_loss: 69344960.0000\n",
      "Epoch 56/100\n",
      "369/369 [==============================] - 1s 2ms/step - loss: 168457792.0000 - val_loss: 60395172.0000\n",
      "Epoch 57/100\n",
      "369/369 [==============================] - 1s 2ms/step - loss: 170086512.0000 - val_loss: 65067140.0000\n",
      "Epoch 58/100\n",
      "369/369 [==============================] - 1s 2ms/step - loss: 164850288.0000 - val_loss: 73889448.0000\n",
      "Epoch 59/100\n",
      "369/369 [==============================] - 1s 2ms/step - loss: 168952400.0000 - val_loss: 64675492.0000\n",
      "Epoch 60/100\n",
      "369/369 [==============================] - 1s 2ms/step - loss: 174916256.0000 - val_loss: 61311732.0000\n",
      "Epoch 61/100\n",
      "369/369 [==============================] - 1s 2ms/step - loss: 166586784.0000 - val_loss: 76653664.0000\n",
      "Epoch 62/100\n",
      "369/369 [==============================] - 1s 2ms/step - loss: 161769040.0000 - val_loss: 63738832.0000\n",
      "Epoch 63/100\n",
      "369/369 [==============================] - 1s 2ms/step - loss: 160494768.0000 - val_loss: 76043744.0000\n",
      "Epoch 64/100\n",
      "369/369 [==============================] - 1s 2ms/step - loss: 162051792.0000 - val_loss: 69370688.0000\n",
      "Epoch 65/100\n",
      "369/369 [==============================] - 1s 2ms/step - loss: 155432880.0000 - val_loss: 66109772.0000\n",
      "Epoch 66/100\n",
      "369/369 [==============================] - 1s 2ms/step - loss: 158765024.0000 - val_loss: 63523644.0000\n",
      "Epoch 67/100\n",
      "369/369 [==============================] - 1s 2ms/step - loss: 168853952.0000 - val_loss: 67071468.0000\n",
      "Epoch 68/100\n",
      "369/369 [==============================] - 1s 2ms/step - loss: 160493216.0000 - val_loss: 64569576.0000\n",
      "Epoch 69/100\n",
      "369/369 [==============================] - 1s 2ms/step - loss: 159169904.0000 - val_loss: 61218772.0000\n",
      "Epoch 70/100\n",
      "369/369 [==============================] - 1s 2ms/step - loss: 159192912.0000 - val_loss: 67095768.0000\n"
     ]
    },
    {
     "name": "stdout",
     "output_type": "stream",
     "text": [
      "Epoch 71/100\n",
      "369/369 [==============================] - 1s 2ms/step - loss: 165811344.0000 - val_loss: 67268272.0000\n",
      "Epoch 72/100\n",
      "369/369 [==============================] - 1s 2ms/step - loss: 157174032.0000 - val_loss: 61433620.0000\n",
      "Epoch 73/100\n",
      "369/369 [==============================] - 1s 2ms/step - loss: 159191904.0000 - val_loss: 63711532.0000\n",
      "Epoch 74/100\n",
      "369/369 [==============================] - 1s 2ms/step - loss: 145800896.0000 - val_loss: 66726356.0000\n",
      "Epoch 75/100\n",
      "369/369 [==============================] - 1s 2ms/step - loss: 156442208.0000 - val_loss: 62269184.0000\n",
      "Epoch 76/100\n",
      "369/369 [==============================] - 1s 2ms/step - loss: 152166704.0000 - val_loss: 61809272.0000\n",
      "Epoch 77/100\n",
      "369/369 [==============================] - 1s 2ms/step - loss: 155382640.0000 - val_loss: 61783280.0000\n",
      "Epoch 78/100\n",
      "369/369 [==============================] - 1s 2ms/step - loss: 156225984.0000 - val_loss: 64207112.0000\n",
      "Epoch 79/100\n",
      "369/369 [==============================] - 1s 2ms/step - loss: 144479264.0000 - val_loss: 65101096.0000\n",
      "Epoch 80/100\n",
      "369/369 [==============================] - 1s 2ms/step - loss: 154766240.0000 - val_loss: 61508584.0000\n",
      "Epoch 81/100\n",
      "369/369 [==============================] - 1s 2ms/step - loss: 150253872.0000 - val_loss: 56972968.0000\n",
      "Epoch 82/100\n",
      "369/369 [==============================] - 1s 2ms/step - loss: 155567184.0000 - val_loss: 62119280.0000\n",
      "Epoch 83/100\n",
      "369/369 [==============================] - 1s 2ms/step - loss: 147654992.0000 - val_loss: 60123936.0000\n",
      "Epoch 84/100\n",
      "369/369 [==============================] - 1s 2ms/step - loss: 150448400.0000 - val_loss: 60971008.0000\n",
      "Epoch 85/100\n",
      "369/369 [==============================] - 1s 2ms/step - loss: 144396736.0000 - val_loss: 59013896.0000\n",
      "Epoch 86/100\n",
      "369/369 [==============================] - 1s 2ms/step - loss: 143032928.0000 - val_loss: 64957956.0000\n",
      "Epoch 87/100\n",
      "369/369 [==============================] - 1s 2ms/step - loss: 141775840.0000 - val_loss: 69957384.0000\n",
      "Epoch 88/100\n",
      "369/369 [==============================] - 1s 2ms/step - loss: 141151840.0000 - val_loss: 58463144.0000\n",
      "Epoch 89/100\n",
      "369/369 [==============================] - 1s 2ms/step - loss: 141843808.0000 - val_loss: 59299624.0000\n",
      "Epoch 90/100\n",
      "369/369 [==============================] - 1s 2ms/step - loss: 137767296.0000 - val_loss: 59122840.0000\n",
      "Epoch 91/100\n",
      "369/369 [==============================] - 1s 2ms/step - loss: 137040976.0000 - val_loss: 60901372.0000\n",
      "Epoch 92/100\n",
      "369/369 [==============================] - 1s 2ms/step - loss: 138686656.0000 - val_loss: 58491496.0000\n",
      "Epoch 93/100\n",
      "369/369 [==============================] - 1s 2ms/step - loss: 148974112.0000 - val_loss: 55657892.0000\n",
      "Epoch 94/100\n",
      "369/369 [==============================] - 1s 2ms/step - loss: 134876432.0000 - val_loss: 57743516.0000\n",
      "Epoch 95/100\n",
      "369/369 [==============================] - 1s 2ms/step - loss: 135263920.0000 - val_loss: 66175852.0000\n",
      "Epoch 96/100\n",
      "369/369 [==============================] - 1s 2ms/step - loss: 138313008.0000 - val_loss: 66677328.0000\n",
      "Epoch 97/100\n",
      "369/369 [==============================] - 1s 2ms/step - loss: 131528944.0000 - val_loss: 63554736.0000\n",
      "Epoch 98/100\n",
      "369/369 [==============================] - 1s 2ms/step - loss: 139784368.0000 - val_loss: 68859448.0000\n",
      "Epoch 99/100\n",
      "369/369 [==============================] - 1s 2ms/step - loss: 132966144.0000 - val_loss: 64182588.0000\n",
      "Epoch 100/100\n",
      "369/369 [==============================] - 1s 2ms/step - loss: 140827344.0000 - val_loss: 59536616.0000\n"
     ]
    },
    {
     "data": {
      "image/png": "[encoded data removed]",
      "text/plain": [
       "<Figure size 432x288 with 1 Axes>"
      ]
     },
     "metadata": {
      "needs_background": "light"
     },
     "output_type": "display_data"
    }
   ],
   "source": [
    "# Best model based on keras tuner\n",
    "model = Sequential()\n",
    "\n",
    "model.add(Dense(384, activation='relu', input_shape=(X_train.shape[1],)))\n",
    "\n",
    "model.add(Dense(448, activation='relu'))\n",
    "model.add(Dropout(0.1))\n",
    "\n",
    "model.add(Dense(32, activation='relu', kernel_regularizer=l1(0.1)))\n",
    "model.add(Dropout(0.1))\n",
    "\n",
    "model.add(Dense(1))\n",
    "\n",
    "model.compile(optimizer='adam', loss='mean_squared_error')\n",
    "\n",
    "history = model.fit(X_train, Y_train, validation_split=0.2, epochs=100, batch_size=32)\n",
    "\n",
    "plt.plot(history.history['loss'], label='Training Loss')\n",
    "plt.plot(history.history['val_loss'], label='Validation Loss')\n",
    "plt.title('Model Loss Progression')\n",
    "plt.ylabel('Loss')\n",
    "plt.xlabel('Epoch')\n",
    "plt.legend()\n",
    "plt.show()"
   ]
  },
  {
   "cell_type": "markdown",
   "metadata": {},
   "source": [
    "### Issues / Improvements\n",
    "1. Dataset is very small\n",
    "2. Use regularization / initialization\n",
    "3. Use cross-validaiton\n",
    "4. ..."
   ]
  },
  {
   "cell_type": "markdown",
   "metadata": {},
   "source": [
    "###  References\n",
    "   - Academic (if any)\n",
    "   - Online (if any)\n",
    "\t"
   ]
  },
  {
   "cell_type": "markdown",
   "metadata": {},
   "source": [
    "### Credits\n",
    "\n",
    "- If you use and/or adapt your code from existing projects, you must provide links and acknowldge the authors. Keep in mind that all documents in your projects and code will be check against the official plagiarism detection tool used by Penn State ([Turnitin](https://turnitin.psu.edu))\n",
    "\n",
    "> *This code is based on .... (if any)*"
   ]
  },
  {
   "cell_type": "code",
   "execution_count": null,
   "metadata": {},
   "outputs": [],
   "source": []
  },
  {
   "cell_type": "code",
   "execution_count": null,
   "metadata": {},
   "outputs": [],
   "source": [
    "# End of Project"
   ]
  }
 ],
 "metadata": {
  "kernelspec": {
   "display_name": "Python 3 (ipykernel)",
   "language": "python",
   "name": "python3"
  },
  "language_info": {
   "codemirror_mode": {
    "name": "ipython",
    "version": 3
   },
   "file_extension": ".py",
   "mimetype": "text/x-python",
   "name": "python",
   "nbconvert_exporter": "python",
   "pygments_lexer": "ipython3",
   "version": "3.9.18"
  },
  "toc": {
   "base_numbering": 1,
   "nav_menu": {},
   "number_sections": true,
   "sideBar": true,
   "skip_h1_title": false,
   "title_cell": "Table of Contents",
   "title_sidebar": "Contents",
   "toc_cell": false,
   "toc_position": {},
   "toc_section_display": true,
   "toc_window_display": false
  },
  "varInspector": {
   "cols": {
    "lenName": 16,
    "lenType": 16,
    "lenVar": 40
   },
   "kernels_config": {
    "python": {
     "delete_cmd_postfix": "",
     "delete_cmd_prefix": "del ",
     "library": "var_list.py",
     "varRefreshCmd": "print(var_dic_list())"
    },
    "r": {
     "delete_cmd_postfix": ") ",
     "delete_cmd_prefix": "rm(",
     "library": "var_list.r",
     "varRefreshCmd": "cat(var_dic_list()) "
    }
   },
   "types_to_exclude": [
    "module",
    "function",
    "builtin_function_or_method",
    "instance",
    "_Feature"
   ],
   "window_display": true
  }
 },
 "nbformat": 4,
 "nbformat_minor": 2
}
